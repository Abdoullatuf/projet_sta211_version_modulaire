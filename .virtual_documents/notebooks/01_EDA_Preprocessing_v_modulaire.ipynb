





## Définition des métadonnées du projet

from datetime import datetime
from pathlib import Path

# Métadonnées du projet
PROJECT_NAME = "Projet STA 211: Internet Advertisements Classification"
DATASET_NAME = "Internet Advertisements Dataset"
AUTHOR = "Abdoullatuf"
DATE = datetime.now().strftime("%Y-%m-%d")  # Date dynamique
VERSION = "1.0"

# Vérification des métadonnées
metadata = {
    "Projet": PROJECT_NAME,
    "Dataset": DATASET_NAME,
    "Auteur": AUTHOR,
    "Date": DATE,
    "Version": VERSION
}

# Affichage des informations
print("📋 Métadonnées du projet")
print("="*60)
for key, value in metadata.items():
    if not isinstance(value, str):
        raise TypeError(f"La métadonnée '{key}' doit être une chaîne de caractères, reçu {type(value)}")
    print(f"{key}: {value}")

# Sauvegarde des métadonnées dans un fichier (optionnel)
METADATA_DIR = Path("metadata")
METADATA_DIR.mkdir(exist_ok=True)
metadata_file = METADATA_DIR / f"metadata_v{VERSION}.txt"
with open(metadata_file, "w", encoding="utf-8") as f:
    for key, value in metadata.items():
        f.write(f"{key}: {value}\n")
print(f"✅ Métadonnées sauvegardées dans : {metadata_file}")








## 2.1 Configuration de l'environnement <a id="configuration-environnement"></a>

# Installation des packages (décommenter si nécessaire)
# !pip install -q prince scikit-learn xgboost lightgbm imbalanced-learn

import sys
import os
from pathlib import Path
from IPython.display import Markdown, display
import warnings

# Configuration des warnings et de pandas
warnings.filterwarnings('ignore')

import pandas as pd
pd.set_option('display.max_columns', None)
pd.set_option('display.max_rows', 100)
pd.set_option('display.float_format', '{:.4f}'.format)

# Détection de l'environnement
def detect_environment():
    """Détecte l'environnement d'exécution"""
    try:
        import google.colab
        return "colab"
    except ImportError:
        return "local"

ENV = detect_environment()
print(f"🔧 Environnement détecté : {ENV}")

# MONTAGE DE GOOGLE DRIVE EN PREMIER (si Colab)
if ENV == "colab":
    try:
        from google.colab import drive
        drive.mount('/content/drive', force_remount=True)
        print("✅ Google Drive monté avec succès")
    except Exception as e:
        print(f"❌ Erreur lors du montage de Google Drive : {e}")
        raise

# Configuration du chemin vers les modules
if ENV == "colab":
    module_path = Path("/content/drive/MyDrive/projet_sta211/modules")
else:
    module_path = Path("G:/Mon Drive/projet_sta211/modules")

# Vérification que le chemin existe
if not module_path.exists():
    print(f"❌ Le chemin {module_path} n'existe pas!")
    print("   Création du dossier modules...")
    module_path.mkdir(parents=True, exist_ok=True)

# Ajout au sys.path
if str(module_path) not in sys.path:
    sys.path.insert(0, str(module_path))
    print(f"✅ Module path ajouté : {module_path}")

# Import et exécution de project_setup
try:
    from project_setup import setup_project_paths
    paths = setup_project_paths()
    print("✅ Configuration des chemins réussie")
except ImportError as e:
    print(f"❌ Erreur : Impossible d'importer project_setup")
    print(f"   Assurez-vous que le fichier project_setup.py existe dans : {module_path}")
    raise

# Conversion des Path objects en strings pour l'affichage
paths_str = {k: str(v) for k, v in paths.items()}

# Affichage formaté des chemins
def display_paths():
    """Affiche les chemins configurés dans un tableau formaté"""
    status_icons = {}
    for key, path in paths.items():
        if Path(path).exists():
            status_icons[key] = "✅"
        else:
            status_icons[key] = "❌"

    paths_md = f"""
### 📂 **Chemins configurés pour le projet**

| Status | Nom du dossier      | Chemin                                        |
|--------|---------------------|-----------------------------------------------|
| {status_icons.get("ROOT_DIR", "?")} | `ROOT_DIR`          | `{paths_str["ROOT_DIR"]}`                     |
| {status_icons.get("MODULE_DIR", "?")} | `MODULE_DIR`        | `{paths_str["MODULE_DIR"]}`                   |
| {status_icons.get("RAW_DATA_DIR", "?")} | `RAW_DATA_DIR`      | `{paths_str["RAW_DATA_DIR"]}`                 |
| {status_icons.get("DATA_PROCESSED", "?")} | `DATA_PROCESSED`    | `{paths_str["DATA_PROCESSED"]}`               |
| {status_icons.get("MODELS_DIR", "?")} | `MODELS_DIR`        | `{paths_str["MODELS_DIR"]}`                   |
| {status_icons.get("FIGURES_DIR", "?")} | `FIGURES_DIR`       | `{paths_str["FIGURES_DIR"]}`                  |

**Légende :** ✅ = Existe | ❌ = N'existe pas
"""
    display(Markdown(paths_md))

# Affichage des chemins
display_paths()

# Informations système
print(f"\n🐍 Python version : {sys.version.split()[0]}")
print(f"📍 Working directory : {os.getcwd()}")

# Variables globales pour un accès facile
ROOT_DIR = paths["ROOT_DIR"]
MODULE_DIR = paths["MODULE_DIR"]
RAW_DATA_DIR = paths["RAW_DATA_DIR"]
DATA_PROCESSED = paths["DATA_PROCESSED"]
MODELS_DIR = paths["MODELS_DIR"]
FIGURES_DIR = paths["FIGURES_DIR"]





## 2.2 Import des bibliothèques <a id="import-des-bibliotheques"></a>

# Import du module centralisé
from imports_sta211 import *

# Définition du RANDOM_STATE si non défini dans le module
if 'RANDOM_STATE' not in globals():
    RANDOM_STATE = 42
    np.random.seed(RANDOM_STATE)

# Vérification des imports critiques
required_modules = {
    'pandas': pd,
    'numpy': np,
    'sklearn': 'sklearn',
    'matplotlib': plt,
    'seaborn': sns
}

print("\n🔍 Vérification des modules critiques :")
for name, module in required_modules.items():
    if module is not None:
        print(f"  ✅ {name}")
    else:
        print(f"  ❌ {name} - ERREUR!")

# Affichage de la configuration
print(f"\n⚙️ Configuration :")
print(f"  - Random State : {RANDOM_STATE}")
print(f"  - Style matplotlib : seaborn-v0_8-whitegrid")
print(f"  - Palette seaborn : husl")
print(f"  - Nombre max de colonnes pandas : {pd.get_option('display.max_columns')}")
print(f"  - Warnings : Filtrés")

# Test rapide des imports
print(f"\n📊 Versions des bibliothèques principales :")
print(f"  - Pandas : {pd.__version__}")
print(f"  - NumPy : {np.__version__}")
print(f"  - Scikit-learn : {sklearn.__version__}")





## 2.3 Configuration des paramètres du projet <a id="configuration-parametres-projet"></a>

# Import du module de configuration
import importlib
import project_config
importlib.reload(project_config)
from project_config import ProjectConfig, create_config

# Recréer la configuration avec les nouvelles valeurs
config = create_config(
    project_name=PROJECT_NAME,
    version=VERSION,
    author=AUTHOR,
    paths=paths
)

# Affichage de la (nouvelle) configuration
config.display_config()

# Affichage spécifique pour l'optimisation F1
print("\n🎯 Configuration spécifique pour l'optimisation F1 :")
print(f"  - Recherche de seuil optimal : {config.F1_OPTIMIZATION['threshold_search']}")
print(f"  - Plage de seuils : {config.F1_OPTIMIZATION['threshold_range']}")
print(f"  - Utilisation class_weight : {config.F1_OPTIMIZATION['use_class_weight']}")
print(f"  - SMOTE ratio : {config.F1_OPTIMIZATION['smote_ratio']}")

# Re-sauvegarde avec les nouvelles configurations
config_file = ROOT_DIR / "config" / f"project_config_v{VERSION}_f1.json"
config.save_config(config_file)

# Mise à jour des variables globales
PROJECT_CONFIG = config.PROJECT_CONFIG
F1_OPTIMIZATION = config.F1_OPTIMIZATION
MODEL_CONFIG = config.MODEL_CONFIG





## 3.1 Chargement des jeux de données bruts <a id="chargement-des-jeux-de-donnees-bruts"></a>

from data_preprocessing import load_data
from pathlib import Path

# Vérification de l’existence de RAW_DATA_DIR
if 'RAW_DATA_DIR' not in globals():
    raise NameError("❌ RAW_DATA_DIR n’est pas défini. Vérifiez la configuration dans la section 2.1.")

# Vérification que le dossier existe
raw_data_dir = Path(RAW_DATA_DIR)
if not raw_data_dir.exists():
    raise FileNotFoundError(f"❌ Dossier RAW_DATA_DIR introuvable : {raw_data_dir}")

# Chargement du fichier d’étude (data_train.csv)
print("📂 Chargement des données...")
df_study = load_data(
    file_path="data_train.csv",
    require_outcome=True,
    display_info=True,
    raw_data_dir=RAW_DATA_DIR,
    encode_target=True  # Encode outcome en 1 (ad.) et 0 (noad.)
)

# Chargement du fichier d’évaluation (data_test.csv)
df_eval = load_data(
    file_path="data_test.csv",
    require_outcome=False,
    display_info=True,
    raw_data_dir=RAW_DATA_DIR,
    encode_target=False  # Pas de outcome dans data_test
)

# Renommer 'outcome' en 'y' pour cohérence
if 'outcome' in df_study.columns:
    df_study = df_study.rename(columns={'outcome': 'y'})
    print("\n✅ Colonne 'outcome' renommée en 'y'")
elif 'y' not in df_study.columns:
    raise ValueError("❌ Colonne 'y' ou 'outcome' manquante dans df_study")

# Vérification des dimensions attendues
expected_train_shape = (2459, 1559)  # Selon le challenge
expected_test_shape = (820, 1558)
if df_study.shape != expected_train_shape:
    print(f"⚠️ Dimensions inattendues pour df_study : {df_study.shape} (attendu : {expected_train_shape})")
if df_eval.shape != expected_test_shape:
    print(f"⚠️ Dimensions inattendues pour df_eval : {df_eval.shape} (attendu : {expected_test_shape})")

# Vérification des valeurs et du type de y
print("\n🔎 Valeurs uniques de y :")
print(df_study['y'].unique())
print("\n🔎 Type de y :")
print(df_study['y'].dtype)

# Résumé des datasets
print(f"\n📊 Résumé :")
print(f"  - Fichier d’étude : {df_study.shape}")
print(f"  - Fichier d’évaluation : {df_eval.shape}")
print("\n✅ Chargement terminé !")






## 3.2 Inspection des colonnes et types <a id="inspection-des-colonnes-et-types"></a>

import pandas as pd
import numpy as np
from project_config import config  # Import de config (vérifier section 2.3)

# Analyse des types de données dans df_study
print("🔍 Analyse des types de données...")
print("="*60)

# Types de données dans le fichier d’étude
print("\n📊 Types de données dans le fichier d’étude :")
type_counts = df_study.dtypes.value_counts()
for dtype, count in type_counts.items():
    print(f"  - {dtype}: {count} colonnes")

# Identification des colonnes par type
continuous_cols = ['X1', 'X2', 'X3']  # Selon le challenge
if 'X4' in df_study.columns and df_study['X4'].dtype == 'float64':
    continuous_cols.append('X4')  # Inclure X4 si float64
binary_cols = df_study.select_dtypes(include=['int64']).columns.tolist()
categorical_cols = df_study.select_dtypes(include=['object']).columns.tolist()

# Vérifier que y est numérique, sinon encoder
if 'y' in df_study.columns and df_study['y'].dtype == 'object':
    if set(df_study['y'].unique()).issubset({'ad.', 'noad.'}):
        df_study['y'] = df_study['y'].map({'ad.': 1, 'noad.': 0})
        print("\n✅ Colonne 'y' encodée en numérique (ad. -> 1, noad. -> 0)")
    else:
        raise ValueError(f"❌ Valeurs inattendues dans 'y': {df_study['y'].unique()}")

print(f"\n📈 Colonnes continues (float64) : {continuous_cols}")
print(f"🔢 Nombre de colonnes binaires potentielles (int64) : {len(binary_cols)}")
print(f"📝 Colonnes catégorielles (object) : {categorical_cols}")

# Vérification des colonnes binaires (échantillon aléatoire pour performance)
print("\n🔍 Vérification des valeurs uniques pour confirmer les colonnes binaires...")
np.random.seed(42)
sample_cols = np.random.choice(binary_cols, size=min(50, len(binary_cols)), replace=False)
non_binary_cols = []
for col in sample_cols:
    unique_values = df_study[col].unique()
    if len(unique_values) > 2 or not set(unique_values).issubset({0, 1}):
        non_binary_cols.append(col)

if non_binary_cols:
    print(f"⚠️ Colonnes non binaires détectées : {non_binary_cols}")
else:
    print("✅ Les colonnes int64 vérifiées semblent binaires (0/1)")

# Analyse de la variable cible
print("\n🎯 Variable cible 'y' :")
print(f"  - Type : {df_study['y'].dtype}")
print(f"  - Valeurs uniques : {sorted(df_study['y'].unique())}")
print(f"  - Distribution : \n{df_study['y'].value_counts().sort_index()}")

# Comparaison avec df_eval
print("\n🔄 Comparaison avec le fichier d’évaluation :")
eval_types = df_eval.dtypes.value_counts()
print("Types dans le fichier d’évaluation :")
for dtype, count in eval_types.items():
    print(f"  - {dtype}: {count} colonnes")

# Vérification de la cohérence des types
print("\n🔍 Vérification de la cohérence des types...")
type_mismatches = []
for col in df_eval.columns:
    if col in df_study.columns and col != 'y':  # Exclure y
        if df_study[col].dtype != df_eval[col].dtype:
            type_mismatches.append({
                'column': col,
                'study_type': df_study[col].dtype,
                'eval_type': df_eval[col].dtype
            })

if type_mismatches:
    print("⚠️ Différences de types détectées :")
    for mismatch in type_mismatches:
        print(f"  - {mismatch['column']}: {mismatch['study_type']} (étude) vs {mismatch['eval_type']} (évaluation)")
else:
    print("✅ Les types de données sont cohérents entre les deux fichiers")

# Mise à jour de la configuration
print("\n💾 Mise à jour de la configuration...")
try:
    config.update("COLUMN_CONFIG.CONTINUOUS_COLS", continuous_cols)
    config.update("COLUMN_CONFIG.BINARY_COLS", binary_cols)
    config.update("COLUMN_CONFIG.CATEGORICAL_COLS", categorical_cols)
    print("✅ Configuration mise à jour avec succès")
except NameError:
    print("⚠️ Objet 'config' non défini. Vérifiez la section 2.3.")
except AttributeError:
    print("⚠️ Méthode 'update' non disponible pour config. Vérifiez project_config.")

# Résumé
print("\n📊 Résumé de la structure des données :")
print(f"  - Features continues : {len(continuous_cols)}")
print(f"  - Features binaires : {len(binary_cols) - (1 if 'y' in binary_cols else 0)}  # excluant 'y' si int64")
print(f"  - Features catégorielles : {len(categorical_cols) - (1 if 'y' in categorical_cols else 0)}  # excluant 'y'")
print(f"  - Total features : {df_study.shape[1] - 1}  # excluant 'y'")


# Conversion de la variable cible en format numérique
print("🔄 Conversion de la variable cible en format numérique...")
df_study['y'] = df_study['y'].map({'ad.': 1, 'noad.': 0})
print("✅ Conversion terminée : 'ad.' → 1, 'noad.' → 0")
print(f"Nouvelle distribution :\n{df_study['y'].value_counts().sort_index()}")





## 3.3 Distribution de la variable cible <a id="distribution-variable-cible"></a>

print("\n🎯 Analyse de la distribution de la variable cible")
print("="*60)

# Distribution des classes
target_counts = df_study['y'].value_counts().sort_index()
target_pct = df_study['y'].value_counts(normalize=True).sort_index() * 100

print("\n📊 Distribution de la variable cible (y) :")
print(f"  - Classe 0 (noad.) : {target_counts[0]:,} ({target_pct[0]:.1f}%)")
print(f"  - Classe 1 (ad.)   : {target_counts[1]:,} ({target_pct[1]:.1f}%)")

# Ratio de déséquilibre
imbalance_ratio = target_counts[0] / target_counts[1]
print(f"\n📈 Ratio de déséquilibre : {imbalance_ratio:.2f}:1")
print(f"   → Pour chaque publicité, il y a {imbalance_ratio:.1f} non-publicités")

# Visualisation
fig, (ax1, ax2) = plt.subplots(1, 2, figsize=(10, 4))

# Barplot
target_counts.plot(kind='bar', ax=ax1, color=['#3498db', '#e74c3c'])
ax1.set_title('Distribution des classes', fontsize=14)
ax1.set_xlabel('Classe')
ax1.set_ylabel('Nombre d\'échantillons')
ax1.set_xticklabels(['Non-publicité (0)', 'Publicité (1)'], rotation=0)

# Pie chart
target_pct.plot(kind='pie', ax=ax2, colors=['#3498db', '#e74c3c'],
                autopct='%1.1f%%', startangle=90)
ax2.set_title('Proportion des classes', fontsize=14)
ax2.set_ylabel('')

plt.tight_layout()
plt.savefig(FIGURES_DIR / 'eda' / 'target_distribution.png', dpi=300, bbox_inches='tight')
plt.show()

# Impact sur la stratégie de modélisation
print("\n💡 Implications pour la modélisation :")
print(f"  - Dataset fortement déséquilibré ({imbalance_ratio:.1f}:1)")
print("  - Stratégies recommandées :")
print("    • Utiliser stratify=True lors du train/test split")
print("    • Appliquer SMOTE ou class_weight='balanced'")
print("    • Optimiser pour F1-score (métrique du challenge)")
print("    • Considérer un ensemble de modèles")

# Calcul du F1-score baseline
baseline_f1 = 2 * (1 * target_pct[1]/100) / (1 + target_pct[1]/100)
print(f"\n📊 F1-score baseline (prédire toujours 'ad.') : {baseline_f1:.3f}")
print(f"   → Nos modèles devront dépasser ce score pour être utiles")





# 4. Analyse exploratoire <a id="analyse-exploratoire"></a>
## 4.1 Analyse des valeurs manquantes <a id="analyse-des-valeurs-manquantes"></a>

print("🔍 Analyse des valeurs manquantes")
print("="*60)

# Utilisation de la fonction du module
from data_preprocessing import analyze_missing_values

print("\n📊 Analyse globale des valeurs manquantes :")
missing_stats = analyze_missing_values(df_study)

# Analyse détaillée pour les colonnes continues
print("\n📈 Détail des valeurs manquantes pour les variables continues :")
for col in continuous_cols:
    missing_count = df_study[col].isnull().sum()
    missing_pct = (missing_count / len(df_study)) * 100
    print(f"  - {col}: {missing_count} ({missing_pct:.2f}%)")

# Visualisation des patterns de valeurs manquantes
if missing_stats['total_missing'] > 0:
    # Heatmap des valeurs manquantes pour les colonnes avec des NaN
    cols_with_missing = [col for col in df_study.columns if df_study[col].isnull().sum() > 0]

    if len(cols_with_missing) > 0:
        plt.figure(figsize=(10, 5))

        # Créer une matrice binaire des valeurs manquantes
        missing_matrix = df_study[cols_with_missing].isnull().astype(int)

        # Heatmap
        sns.heatmap(missing_matrix.T, cmap='RdYlBu', cbar_kws={'label': 'Manquant (1) / Présent (0)'})
        plt.title('Pattern des valeurs manquantes', fontsize=14)
        plt.xlabel('Échantillons')
        plt.ylabel('Variables')
        plt.tight_layout()
        plt.savefig(FIGURES_DIR / 'eda' / 'missing_values_pattern.png', dpi=300, bbox_inches='tight')
        plt.show()

        # Analyse du pattern MAR vs MCAR
        print("\n🔍 Analyse du type de valeurs manquantes (MAR vs MCAR) :")

        # Corrélation entre les valeurs manquantes et la cible
        for col in cols_with_missing:
            missing_indicator = df_study[col].isnull().astype(int)
            correlation_with_target = missing_indicator.corr(df_study['y'])
            print(f"  - {col}: corrélation avec y = {correlation_with_target:.3f}")

            if abs(correlation_with_target) > 0.1:
                print(f"    → Potentiellement MAR (Missing At Random)")
            else:
                print(f"    → Potentiellement MCAR (Missing Completely At Random)")
else:
    print("\n✅ Aucune valeur manquante détectée dans le dataset !")

# Analyse pour le fichier d'évaluation aussi
print("\n📊 Analyse des valeurs manquantes dans le fichier d'évaluation :")
missing_stats_eval = analyze_missing_values(df_eval)

# Comparaison des patterns
if missing_stats['total_missing'] > 0 or missing_stats_eval['total_missing'] > 0:
    print("\n🔄 Comparaison des patterns de valeurs manquantes :")
    print(f"  - Fichier d'étude : {missing_stats['percent_missing']:.2f}% manquant")
    print(f"  - Fichier d'évaluation : {missing_stats_eval['percent_missing']:.2f}% manquant")

    # Stratégie d'imputation recommandée
    print("\n💡 Stratégie d'imputation recommandée :")
    if 'X4' in missing_stats['cols_missing']:
        x4_missing_pct = missing_stats['percent_per_col'].get('X4', 0)
        if x4_missing_pct < 5:
            print(f"  - X4 ({x4_missing_pct:.1f}% manquant) : Imputation par la médiane")

    mar_cols = ['X1', 'X2', 'X3']
    mar_missing = any(col in missing_stats['cols_missing'] for col in mar_cols)
    if mar_missing:
        print(f"  - X1, X2, X3 (variables continues) : KNN ou MICE (imputation multivariée)")


# Correction du type et imputation de X4
print("\n🔧 Correction du type de X4...")
print(f"Valeurs uniques de X4 (avant correction) : {sorted(df_study['X4'].dropna().unique())}")
print(f"Type actuel : {df_study['X4'].dtype}")

# Vérifier que X4 ne contient que 0 et 1
unique_values = df_study['X4'].dropna().unique()
if set(unique_values).issubset({0.0, 1.0}):
    # Imputer d'abord les valeurs manquantes par la médiane
    X4_median = df_study['X4'].median()
    df_study['X4'] = df_study['X4'].fillna(X4_median)
    df_eval['X4'] = df_eval['X4'].fillna(X4_median)

    # Convertir en int
    df_study['X4'] = df_study['X4'].astype(int)
    df_eval['X4'] = df_eval['X4'].astype(int)

    print(f"✅ X4 converti en int64 après imputation par la médiane ({X4_median})")
    print(f"Nouveau type : {df_study['X4'].dtype}")

    # Mettre à jour la configuration
    config.update("COLUMN_CONFIG.CONTINUOUS_COLS", ['X1', 'X2', 'X3'])
    config.update("COLUMN_CONFIG.BINARY_COLS", ['X4'] + binary_cols)
    continuous_cols = ['X1', 'X2', 'X3']  # Mise à jour locale
else:
    print("⚠️ X4 contient des valeurs autres que 0 et 1, conservation en float64")

# Résumé final
print("\n📊 Résumé des valeurs manquantes après traitement de X4 :")
print(f"  - X1, X2, X3 : ~27% manquant → À traiter avec KNN/MICE")
print(f"  - X4 : Imputé et converti en binaire")
print(f"  - Pattern MAR détecté pour X1, X2, X3 (corrélation avec y ≈ -0.10)")
print(f"  - Les patterns sont cohérents entre fichiers d'étude et d'évaluation")





## 4.2 Analyse statistique des variables quantitatives <a id="analyse-statistique-des-variables-quantitatives"></a>

print("📊 Analyse statistique des variables quantitatives")
print("="*60)

# Variables continues à analyser (X1, X2, X3 uniquement maintenant)
print(f"\n📈 Variables continues à analyser : {continuous_cols}")

# Statistiques descriptives
print("\n📊 Statistiques descriptives :")
stats_df = df_study[continuous_cols].describe()
display(stats_df)

# Analyse de la distribution
print("\n📊 Analyse de la distribution :")
for col in continuous_cols:
    data = df_study[col].dropna()
    print(f"\n{col}:")
    print(f"  - Skewness (asymétrie) : {stats.skew(data):.3f}")
    print(f"  - Kurtosis (aplatissement) : {stats.kurtosis(data):.3f}")

    # Test de normalité
    stat, p_value = stats.shapiro(data.sample(min(5000, len(data))))  # Limité à 5000 pour Shapiro
    print(f"  - Test de Shapiro-Wilk : p-value = {p_value:.4f}")
    if p_value < 0.01:
        print(f"    → Distribution non normale (nécessite transformation)")
    else:
        print(f"    → Distribution approximativement normale")

# Visualisation des distributions
fig, axes = plt.subplots(2, 3, figsize=(15, 10))
axes = axes.flatten()

for i, col in enumerate(continuous_cols):
    data = df_study[col].dropna()

    # Histogramme avec KDE
    ax = axes[i]
    data.hist(bins=50, ax=ax, alpha=0.7, color='skyblue', edgecolor='black')
    ax2 = ax.twinx()
    data.plot(kind='kde', ax=ax2, color='red', linewidth=2)
    ax.set_title(f'Distribution de {col}', fontsize=12)
    ax.set_xlabel(col)
    ax.set_ylabel('Fréquence')
    ax2.set_ylabel('Densité')

    # Box plot
    ax = axes[i+3]
    df_study.boxplot(column=col, ax=ax)
    ax.set_title(f'Box plot de {col}', fontsize=12)
    ax.set_ylabel('Valeur')

plt.tight_layout()
plt.savefig(FIGURES_DIR / 'eda' / 'continuous_distributions.png', dpi=300, bbox_inches='tight')
plt.show()

# Analyse des outliers
print("\n🔍 Détection des outliers (méthode IQR) :")
outliers_summary = {}
for col in continuous_cols:
    data = df_study[col].dropna()
    Q1 = data.quantile(0.25)
    Q3 = data.quantile(0.75)
    IQR = Q3 - Q1

    lower_bound = Q1 - 1.5 * IQR
    upper_bound = Q3 + 1.5 * IQR

    outliers = data[(data < lower_bound) | (data > upper_bound)]
    outliers_pct = len(outliers) / len(data) * 100

    outliers_summary[col] = {
        'count': len(outliers),
        'percentage': outliers_pct,
        'lower_bound': lower_bound,
        'upper_bound': upper_bound
    }

    print(f"\n{col}:")
    print(f"  - Limites : [{lower_bound:.2f}, {upper_bound:.2f}]")
    print(f"  - Outliers : {len(outliers)} ({outliers_pct:.2f}%)")

# Corrélation avec la variable cible
print("\n🎯 Corrélation avec la variable cible (y) :")
correlations = {}
for col in continuous_cols:
    # Calculer la corrélation seulement pour les valeurs non manquantes
    mask = df_study[col].notna()
    corr = df_study.loc[mask, col].corr(df_study.loc[mask, 'y'])
    correlations[col] = corr
    print(f"  - {col}: {corr:.4f}")

# Matrice de corrélation entre variables continues
print("\n📊 Matrice de corrélation entre variables continues :")
corr_matrix = df_study[continuous_cols].corr()
display(corr_matrix)

# Heatmap de corrélation
plt.figure(figsize=(6, 4))
sns.heatmap(corr_matrix, annot=True, cmap='coolwarm', center=0,
            square=True, linewidths=1, cbar_kws={"shrink": 0.8})
plt.title('Matrice de corrélation des variables continues', fontsize=14)
plt.tight_layout()
plt.savefig(FIGURES_DIR / 'eda' / 'continuous_correlation_matrix.png', dpi=300, bbox_inches='tight')
plt.show()

# Résumé et recommandations
print("\n💡 Résumé et recommandations :")
print("  - Les trois variables continues montrent des distributions fortement asymétriques")
print("  - Transformation Yeo-Johnson recommandée pour normaliser les distributions")
print(f"  - Outliers détectés : {sum(info['count'] for info in outliers_summary.values())} au total")
print("  - Corrélations faibles avec la cible, mais potentiellement utiles après transformation")








## 4.3 Distribution des variables binaires <a id="distribution-des-variables-binaires"></a>

print("🔢 Analyse de la distribution des variables binaires")
print("="*60)

# Variables binaires (incluant X4 maintenant)
binary_cols = [col for col in df_study.columns if col.startswith('X') and col not in continuous_cols]
print(f"\n📊 Nombre total de variables binaires : {len(binary_cols)}")

# Calcul du taux de présence pour chaque variable
presence_rates = {}
for col in binary_cols:
    presence_rate = (df_study[col] == 1).sum() / len(df_study) * 100
    presence_rates[col] = presence_rate

presence_series = pd.Series(presence_rates)

# Statistiques de base
print(f"\n📊 Statistiques des taux de présence :")
print(f"  - Moyenne : {presence_series.mean():.2f}%")
print(f"  - Médiane : {presence_series.median():.2f}%")
print(f"  - Min : {presence_series.min():.2f}%")
print(f"  - Max : {presence_series.max():.2f}%")

# Sparsité globale
total_values = len(df_study) * len(binary_cols)
total_ones = sum(df_study[col].sum() for col in binary_cols)
sparsity = (1 - total_ones / total_values) * 100
print(f"\n📊 Sparsité globale : {sparsity:.2f}% de zéros")

# Visualisation simple
plt.figure(figsize=(10, 5))
presence_series.hist(bins=50, color='skyblue', edgecolor='black')
plt.xlabel('Taux de présence (%)')
plt.ylabel('Nombre de variables')
plt.title('Distribution des taux de présence des variables binaires')
plt.axvline(presence_series.mean(), color='red', linestyle='--', label=f'Moyenne: {presence_series.mean():.1f}%')
plt.legend()
plt.tight_layout()
plt.savefig(FIGURES_DIR / 'eda' / 'binary_presence_distribution.png', dpi=300, bbox_inches='tight')
plt.show()

print("\n✅ Analyse des variables binaires terminée")
print("   → Dataset très sparse, adapté pour des méthodes de sélection de features")





## 4.4 Analyse des corrélations <a id="analyse-des-correlations"></a>

print("🔗 Analyse des corrélations")
print("="*60)

# Sélection d'un échantillon de variables pour l'analyse (trop de variables pour tout analyser)
print("\n📊 Sélection des variables pour l'analyse des corrélations...")

# Stratégie : prendre les variables avec différents taux de présence
presence_series = pd.Series(presence_rates)
quartiles = presence_series.quantile([0.25, 0.5, 0.75])

# Sélectionner des variables de chaque quartile
vars_q1 = presence_series[presence_series <= quartiles[0.25]].sample(10, random_state=42).index.tolist()
vars_q2 = presence_series[(presence_series > quartiles[0.25]) & (presence_series <= quartiles[0.5])].sample(10, random_state=42).index.tolist()
vars_q3 = presence_series[(presence_series > quartiles[0.5]) & (presence_series <= quartiles[0.75])].sample(10, random_state=42).index.tolist()
vars_q4 = presence_series[presence_series > quartiles[0.75]].sample(10, random_state=42).index.tolist()

selected_vars = continuous_cols + vars_q1 + vars_q2 + vars_q3 + vars_q4
print(f"  - Variables sélectionnées : {len(selected_vars)} (3 continues + 40 binaires)")

# Calcul de la matrice de corrélation
print("\n📊 Calcul de la matrice de corrélation...")
corr_matrix = df_study[selected_vars + ['y']].corr()

# Corrélations avec la variable cible
target_corr = corr_matrix['y'].drop('y').sort_values(ascending=False)
print("\n🎯 Top 10 corrélations avec la variable cible (y) :")
for var, corr in target_corr.head(10).items():
    print(f"  - {var}: {corr:.4f}")

print("\n🎯 Bottom 10 corrélations avec la variable cible (y) :")
for var, corr in target_corr.tail(10).items():
    print(f"  - {var}: {corr:.4f}")

# Visualisation de la matrice de corrélation
plt.figure(figsize=(8, 6))
mask = np.triu(np.ones_like(corr_matrix, dtype=bool))
sns.heatmap(corr_matrix, mask=mask, cmap='coolwarm', center=0,
            square=True, linewidths=0.5, cbar_kws={"shrink": 0.8},
            vmin=-0.5, vmax=0.5)
plt.title('Matrice de corrélation (échantillon de variables)', fontsize=14)
plt.tight_layout()
plt.savefig(FIGURES_DIR / 'eda' / 'correlation_matrix_sample.png', dpi=300, bbox_inches='tight')
plt.show()

# Analyse des corrélations entre features
print("\n🔍 Analyse des corrélations entre features :")
# Extraire la partie triangulaire supérieure (sans la diagonale)
upper_triangle = corr_matrix.where(np.triu(np.ones_like(corr_matrix, dtype=bool), k=1))
high_corr_pairs = []

for i in range(len(upper_triangle.columns)):
    for j in range(i):
        if abs(upper_triangle.iloc[i, j]) > 0.8:  # Seuil de corrélation élevée
            high_corr_pairs.append({
                'var1': upper_triangle.columns[i],
                'var2': upper_triangle.columns[j],
                'corr': upper_triangle.iloc[i, j]
            })

if high_corr_pairs:
    print(f"\n⚠️ Paires de variables hautement corrélées (|r| > 0.8) : {len(high_corr_pairs)}")
    for pair in high_corr_pairs[:5]:  # Afficher les 5 premières
        print(f"  - {pair['var1']} vs {pair['var2']}: {pair['corr']:.3f}")
else:
    print("\n✅ Aucune paire de variables avec corrélation élevée (|r| > 0.8)")

# Résumé
print("\n💡 Résumé de l'analyse des corrélations :")
print(f"  - Corrélations avec la cible généralement faibles (max: {abs(target_corr).max():.3f})")
print(f"  - Variables continues montrent des corrélations négatives avec y")
print(f"  - Peu de corrélations élevées entre features → pas de multicollinéarité majeure")
print(f"  - Dataset sparse → corrélations naturellement faibles")





## 4.5 Analyse approfondie des corrélations (binaires et continues)
print("\n🔗 Analyse approfondie des corrélations entre variables...")

# Import de la fonction depuis le module
from eda_module_sta211 import bivariate_analysis

# Préparer les données avec le bon format de colonne cible
df_bivariate = df_study.copy()
df_bivariate['outcome'] = df_bivariate['y'].map({0: 'noad.', 1: 'ad.'})

# Appeler la fonction bivariate_analysis
print("\n📊 Analyse bivariée complète...")
corr_df, high_corr_pairs, binary_corr_pairs = bivariate_analysis(
    data=df_bivariate,
    use_transformed=False,  # Pas de variables transformées pour l'instant
    display_correlations=True,
    top_n=20,  # Afficher plus de variables
    show_plot=True
)

# Analyse des résultats pour les variables continues
print(f"\n📈 Variables continues fortement corrélées entre elles (|r| > 0.9):")
if high_corr_pairs:
    for var1, var2, corr in high_corr_pairs:
        print(f"  - {var1} ↔ {var2}: r = {corr:.3f}")
else:
    print("  ✅ Aucune paire de variables continues avec |r| > 0.9")

# Analyse des résultats pour les variables binaires
print(f"\n🔢 Variables binaires fortement corrélées entre elles (|r| > 0.95):")
print(f"  - Nombre total de paires: {len(binary_corr_pairs)}")

if binary_corr_pairs:
    # Analyser la distribution des corrélations
    corr_values = [abs(corr) for _, _, corr in binary_corr_pairs]
    print(f"  - Corrélation moyenne: {np.mean(corr_values):.3f}")
    print(f"  - Corrélation maximale: {max(corr_values):.3f}")
    
    # Afficher quelques exemples
    print("\n  Exemples de paires fortement corrélées:")
    for i, (var1, var2, corr) in enumerate(binary_corr_pairs[:5]):
        print(f"    {i+1}. {var1} ↔ {var2}: r = {corr:.3f}")
    
    if len(binary_corr_pairs) > 5:
        print(f"    ... et {len(binary_corr_pairs) - 5} autres paires")
    
    # Visualisation de la distribution des corrélations élevées
    plt.figure(figsize=(10, 5))
    
    plt.subplot(1, 2, 1)
    plt.hist([abs(corr) for _, _, corr in binary_corr_pairs], bins=20, color='coral', edgecolor='black')
    plt.xlabel('|Corrélation|')
    plt.ylabel('Nombre de paires')
    plt.title(f'Distribution des {len(binary_corr_pairs)} paires fortement corrélées')
    plt.axvline(0.95, color='red', linestyle='--', label='Seuil = 0.95')
    plt.legend()
    
    # Identification des variables impliquées dans le plus de paires
    var_counts = {}
    for var1, var2, _ in binary_corr_pairs:
        var_counts[var1] = var_counts.get(var1, 0) + 1
        var_counts[var2] = var_counts.get(var2, 0) + 1
    
    # Top 10 des variables les plus redondantes
    top_redundant = sorted(var_counts.items(), key=lambda x: x[1], reverse=True)[:10]
    
    plt.subplot(1, 2, 2)
    vars_names = [var for var, _ in top_redundant]
    counts = [count for _, count in top_redundant]
    plt.barh(vars_names, counts, color='skyblue')
    plt.xlabel('Nombre de corrélations élevées')
    plt.title('Top 10 variables les plus redondantes')
    
    plt.tight_layout()
    save_fig('binary_correlations_analysis.png', directory=FIGURES_DIR / 'eda', figsize=(10, 5))
    
    # Recommandations
    print("\n⚠️ Recommandations basées sur l'analyse des corrélations:")
    print(f"  1. {len(binary_corr_pairs)} paires de variables binaires sont fortement corrélées (|r| > 0.95)")
    print(f"  2. Environ {len(var_counts)} variables sont impliquées dans ces corrélations")
    print("  3. Une réduction de dimensionnalité est FORTEMENT recommandée avant la modélisation")
    print("  4. Options suggérées:")
    print("     - Sélection de features par importance (Random Forest)")
    print("     - Suppression des variables redondantes")
    print("     - PCA ou autre méthode de réduction")
    
else:
    print("  ✅ Aucune paire de variables binaires avec |r| > 0.95")
    print("     (Ce qui est surprenant avec 1555 variables binaires!)")

# Sauvegarder les résultats importants
print("\n💾 Sauvegarde des résultats de l'analyse bivariée...")
corr_results = {
    'top_correlations_with_target': corr_df.head(50).to_dict(),
    'n_high_corr_continuous': len(high_corr_pairs),
    'n_high_corr_binary': len(binary_corr_pairs),
    'redundant_variables': list(var_counts.keys()) if binary_corr_pairs else []
}

import json
results_path = ROOT_DIR / "results" / "bivariate_analysis_results.json"
results_path.parent.mkdir(exist_ok=True)
with open(results_path, 'w') as f:
    json.dump(corr_results, f, indent=2)
print(f"  ✅ Résultats sauvegardés dans: {results_path}")





## 4.6 Visualisations exploratoires <a id="visualisations-exploratoires"></a>

print("📊 Visualisations exploratoires")
print("="*60)

# Import des fonctions du module
from eda_module_sta211 import (
    compare_visualization_methods,
    analyze_feature_importance,
    save_fig
)

# 1. Visualisation des variables continues par classe
print("\n📈 Distribution des variables continues par classe...")
fig, axes = plt.subplots(1, 3, figsize=(15, 5))

for i, col in enumerate(continuous_cols):
    df_study_clean = df_study[[col, 'y']].dropna()
    df_study_clean['y_label'] = df_study_clean['y'].map({0: 'Non-pub', 1: 'Pub'})

    sns.violinplot(data=df_study_clean, x='y_label', y=col, ax=axes[i])
    axes[i].set_title(f'Distribution de {col} par classe')
    axes[i].set_xlabel('Classe')

plt.tight_layout()
save_fig('continuous_by_class.png', directory=FIGURES_DIR / 'eda', figsize=(15, 5))

# 2. Préparation des données pour les visualisations multidimensionnelles
print("\n🔍 Préparation des données pour les visualisations...")
# Convertir 'y' en format texte pour le module
df_study_viz = df_study.copy()
df_study_viz['outcome'] = df_study_viz['y'].map({0: 'noad.', 1: 'ad.'})

# Sélectionner un échantillon de features pour la visualisation
# Utiliser les variables continues + les variables binaires les plus corrélées
important_features = continuous_cols + list(target_corr.abs().nlargest(30).index)
df_sample = df_study_viz[important_features + ['outcome']].dropna()

# 3. Comparaison des méthodes de visualisation (UMAP, t-SNE, PCA)
print("\n📊 Comparaison des méthodes de réduction de dimension...")
try:
    compare_visualization_methods(df_sample, target_col='outcome')
except Exception as e:
    print(f"⚠️ Erreur lors de la comparaison : {e}")
    print("  Installation de packages manquants peut être nécessaire:")
    print("  !pip install umap-learn prince")

# 4. Analyse de l'importance des features
print("\n🌲 Analyse de l'importance des features...")
try:
    # Préparer les données pour l'analyse
    df_importance = df_study_viz[important_features + ['outcome']].dropna()

    # Analyser l'importance
    importance_results = analyze_feature_importance(
        df_importance,
        target_col='outcome',
        include_enhanced=False  # Pas de features polynomiales pour l'instant
    )

    if importance_results is not None and not importance_results.empty:
        print("\nTop 10 features les plus importantes :")
        print(importance_results.head(10)[['feature', 'Combined_Score']])
except Exception as e:
    print(f"⚠️ Erreur lors de l'analyse d'importance : {e}")

# 5. Matrice de corrélation des variables continues avec la cible
print("\n📊 Corrélations des variables continues avec la cible...")
fig, ax = plt.subplots(figsize=(8, 6))

cont_corr_data = df_study[continuous_cols + ['y']].corr()['y'][:-1].to_frame()
cont_corr_data.columns = ['Corrélation avec y']

sns.heatmap(cont_corr_data, annot=True, cmap='coolwarm', center=0,
            cbar_kws={'label': 'Corrélation'}, fmt='.3f', ax=ax)
ax.set_title('Corrélations des variables continues avec la cible')
plt.tight_layout()
save_fig('continuous_target_correlation.png', directory=FIGURES_DIR / 'eda', figsize=(8, 6))

# 6. Visualisation de la sparsité par blocs
print("\n📊 Visualisation de la sparsité des données...")
# Prendre un échantillon de variables binaires
sample_binary_vars = np.random.choice(binary_cols, size=min(100, len(binary_cols)), replace=False)
sample_data = df_study[sample_binary_vars].head(100)

plt.figure(figsize=(12, 8))
plt.imshow(sample_data.values, cmap='binary', aspect='auto')
plt.colorbar(label='Valeur (0 ou 1)')
plt.title('Visualisation de la sparsité (100 observations × 100 variables)')
plt.xlabel('Variables binaires')
plt.ylabel('Observations')
plt.tight_layout()
save_fig('sparsity_visualization.png', directory=FIGURES_DIR / 'eda', figsize=(12, 8))

# 7. Résumé visuel final
print("\n📊 Création du résumé visuel de l'EDA...")
fig = plt.figure(figsize=(16, 10))

# Subplot 1: Distribution de la cible
ax1 = plt.subplot(2, 3, 1)
target_counts.plot(kind='pie', ax=ax1, colors=['#3498db', '#e74c3c'],
                  autopct='%1.1f%%', startangle=90)
ax1.set_title('Distribution de la variable cible')
ax1.set_ylabel('')

# Subplot 2: Valeurs manquantes
ax2 = plt.subplot(2, 3, 2)
missing_data = pd.Series({
    'X1': 27.41, 'X2': 27.37, 'X3': 27.61, 'X4': 0.0  # X4 déjà imputé
})
missing_data.plot(kind='bar', ax=ax2, color='coral')
ax2.set_title('Valeurs manquantes (avant traitement)')
ax2.set_ylabel('% manquant')

# Subplot 3: Sparsité
ax3 = plt.subplot(2, 3, 3)
sparsity_data = pd.Series({'Zéros': sparsity, 'Uns': 100-sparsity})
sparsity_data.plot(kind='pie', ax=ax3, colors=['lightgray', 'darkgray'],
                  autopct='%1.1f%%', startangle=90)
ax3.set_title('Sparsité des variables binaires')

# Subplot 4: Top corrélations
ax4 = plt.subplot(2, 3, 4)
target_corr_abs = target_corr.abs().nlargest(10)
target_corr_abs.plot(kind='barh', ax=ax4, color='skyblue')
ax4.set_xlabel('|Corrélation|')
ax4.set_title('Top 10 corrélations avec la cible')

# Subplot 5: Distribution des taux de présence
ax5 = plt.subplot(2, 3, 5)
presence_series.hist(bins=30, ax=ax5, color='lightgreen', edgecolor='black')
ax5.set_xlabel('Taux de présence (%)')
ax5.set_ylabel('Nombre de variables')
ax5.set_title('Distribution des taux de présence')
ax5.axvline(presence_series.mean(), color='red', linestyle='--', label=f'Moy: {presence_series.mean():.1f}%')
ax5.legend()

# Subplot 6: Statistiques clés
ax6 = plt.subplot(2, 3, 6)
ax6.axis('off')
stats_text = f"""
Statistiques clés:
- Observations: {len(df_study):,}
- Variables: {df_study.shape[1]:,}
- Déséquilibre: {imbalance_ratio:.1f}:1
- Sparsité: {sparsity:.1f}%
- Corr. max avec y: {abs(target_corr).max():.3f}
- Variables binaires: {len(binary_cols)}
- Variables continues: {len(continuous_cols)}
"""
ax6.text(0.1, 0.5, stats_text, fontsize=12, verticalalignment='center')

plt.suptitle('Résumé de l\'Analyse Exploratoire des Données', fontsize=16)
plt.tight_layout()
save_fig('eda_summary.png', directory=FIGURES_DIR / 'eda', figsize=(16, 10))

print("\n✅ Visualisations exploratoires terminées !")
print("\n💡 Points clés de l'EDA :")
print("  - Dataset fortement déséquilibré (14% vs 86%)")
print("  - ~27% de valeurs manquantes pour X1, X2, X3 (pattern MAR)")
print("  - Dataset extrêmement sparse (99.19% de zéros)")
print("  - X2 montre la plus forte corrélation avec la cible (0.573)")
print("  - Nécessité de prétraitement : transformation, imputation, rééquilibrage")







































