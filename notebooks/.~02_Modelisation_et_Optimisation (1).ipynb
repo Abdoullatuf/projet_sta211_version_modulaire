{
 "cells": [
  {
   "cell_type": "markdown",
   "id": "0f5a84e8",
   "metadata": {
    "id": "0f5a84e8"
   },
   "source": [
    "**Projet STA211 — Modélisation supervisée : Classification de publicités**\n",
    "\n",
    "**Notebook 02 : Modélisation et Optimisation**"
   ]
  },
  {
   "cell_type": "markdown",
   "id": "uFmD2G3B_BEY",
   "metadata": {
    "id": "uFmD2G3B_BEY"
   },
   "source": [
    "# Introduction\n",
    "\n",
    "Ce notebook s’inscrit dans le cadre du cours **STA211** du CNAM et constitue la *phase de modélisation supervisée classique* du projet de classification de publicités sur internet.  \n",
    "Il fait suite à l’analyse exploratoire et au pré-traitement réalisés dans `01_EDA_Preprocessing.ipynb`.\n",
    "\n",
    "> **Chemins** : gérés via `modules.config.paths_config`.   \n",
    "> **Reproductibilité** : `RANDOM_STATE = 42` fixé globalement.  \n",
    "> **Dataset source** : [UCI Internet Ads](https://archive.ics.uci.edu/ml/datasets/Internet+Advertisements).\n",
    "\n",
    "**Objectif**\n",
    "\n",
    "Développer et optimiser des modèles classiques (Random Forest, SVM, XGBoost…) pour prédire la présence d’une publicité, en privilégiant le **F1-score** (classes déséquilibrées).\n",
    "\n",
    "**Fichiers utilisés**\n",
    "\n",
    "| Fichier | Contenu | Emplacement |\n",
    "|---------|---------|-------------|\n",
    "| `final_dataset_knn_with_outliers.csv` | Imputation **KNN** – *avec* outliers | `data/processed/notebook1/final_data_for_modeling/` |\n",
    "| `final_dataset_mice.with_outliers.csv` | Imputation **MICE** – *sans* outliers | `data/processed/notebook1/final_data_for_modeling/` |\n"
   ]
  },
  {
   "cell_type": "markdown",
   "id": "d70ab2ed-2b26-4b7a-b5fd-596bc197f92f",
   "metadata": {
    "id": "d70ab2ed-2b26-4b7a-b5fd-596bc197f92f"
   },
   "source": [
    "## 📚 Table des matières\n",
    "\n",
    "- [0. ⚙️ Préparation de l’environnement & bibliothèques](#0.-⚙️-Préparation-de-l’environnement-&-bibliothèques)\n",
    "- [1. 📦 Chargement des données imputées](#1.-📦-Chargement-des-données-imputées)\n",
    "- [2. 🔀 Split des données (train---validation---test)](#2.-🔀-Split-des-données-(train---validation---test))\n",
    "- [3. ⚙️ Pipelines de prétraitement + BorderlineSMOTE](#3.-⚙️-Pipelines-de-prétraitement-+-BorderlineSMOTE)\n",
    "- [4. 🔧 Définition des modèles + grilles d’hyperparamètres](#4.-🔧-Définition-des-modèles-+-grilles-d’hyperparamètres)\n",
    "- [5. 📊 Évaluation des modèles](#5.-📊-Évaluation-des-modèles)\n",
    "  - [5.1. 🔍 Sur données imputées KNN](#51.-🔍-Sur-données-imputées-KNN)\n",
    "  - [5.2. 🔍 Sur données imputées MICE](#52.-🔍-Sur-données-imputées-MICE)\n",
    "  - [5.3. 📊 Synthèse KNN vs MICE](#53.-📊-Synthèse-KNN-vs-MICE)\n",
    "- [6. 🎯 Optimisation du seuil de décision (F1)](#6.-🎯-Optimisation-du-seuil-de-décision-(F1))\n",
    "- [7. 🧪 Évaluation finale sur le jeu de test](#7.-🧪-Évaluation-finale-sur-le-jeu-de-test)\n",
    "- [8. 🏁 Conclusion & transition vers le stacking](#8.-🏁-Conclusion-&-transition-vers-le-stacking)\n",
    "\n"
   ]
  },
  {
   "cell_type": "markdown",
   "id": "ZaxWhbY8JG8S",
   "metadata": {
    "id": "ZaxWhbY8JG8S"
   },
   "source": [
    "## 0. ⚙️ Préparation de l’environnement & bibliothèques\n",
    "\n",
    "Cette section configure l'environnement d'exécution pour la **modélisation et optimisation des modèles classiques** dans le cadre du projet STA211.\n",
    "\n",
    "Elle inclut :\n",
    "- La détection de l'environnement (Google Colab ou local),\n",
    "- Le montage de Google Drive pour Colab,\n",
    "- L'installation des dépendances via `requirements.txt`,\n",
    "- La configuration des chemins pour les données, modules, modèles, et figures,\n",
    "- La configuration des options d'affichage de pandas,\n",
    "- L'affichage des versions de pandas et IPython pour garantir la reproductibilité.\n",
    "\n",
    "> **Prérequis** : Placez le fichier `requirements.txt` dans `/content/drive/MyDrive/projet_sta211` pour Colab ou dans le répertoire racine local. Assurez-vous que le dossier `projet_sta211` est accessible.\n"
   ]
  },
  {
   "cell_type": "code",
   "execution_count": 5,
   "id": "Pd7g8ytV46uh",
   "metadata": {
    "executionInfo": {
     "elapsed": 4,
     "status": "ok",
     "timestamp": 1752507814631,
     "user": {
      "displayName": "maoulida abdoullatuf",
      "userId": "05790302460507444417"
     },
     "user_tz": -120
    },
    "id": "Pd7g8ytV46uh"
   },
   "outputs": [],
   "source": [
    "# from google.colab import drive\n",
    "# drive.mount('/content/drive')"
   ]
  },
  {
   "cell_type": "code",
   "execution_count": 6,
   "id": "A4Qdx_XO5PRB",
   "metadata": {
    "executionInfo": {
     "elapsed": 18,
     "status": "ok",
     "timestamp": 1752507814654,
     "user": {
      "displayName": "maoulida abdoullatuf",
      "userId": "05790302460507444417"
     },
     "user_tz": -120
    },
    "id": "A4Qdx_XO5PRB"
   },
   "outputs": [],
   "source": [
    "# !pip install catboost --quiet"
   ]
  },
  {
   "cell_type": "markdown",
   "id": "ccb0dafb-ac98-4933-8b44-a216681f1d0d",
   "metadata": {
    "id": "ccb0dafb-ac98-4933-8b44-a216681f1d0d"
   },
   "source": [
    "## 0.1 Préparation rapide de l'environnement pour Google Colab ou local"
   ]
  },
  {
   "cell_type": "code",
   "execution_count": 8,
   "id": "Weg85Zc0GYGH",
   "metadata": {
    "colab": {
     "base_uri": "https://localhost:8080/",
     "height": 641
    },
    "executionInfo": {
     "elapsed": 8690,
     "status": "ok",
     "timestamp": 1752510102024,
     "user": {
      "displayName": "maoulida abdoullatuf",
      "userId": "05790302460507444417"
     },
     "user_tz": -120
    },
    "id": "Weg85Zc0GYGH",
    "outputId": "89571b40-76e8-4345-dbe2-ddc43196a0e4"
   },
   "outputs": [
    {
     "data": {
      "text/html": [
       "<pre style=\"white-space:pre;overflow-x:auto;line-height:normal;font-family:Menlo,'DejaVu Sans Mono',consolas,'Courier New',monospace\"><span style=\"color: #7fbfbf; text-decoration-color: #7fbfbf\">[07/14/25 22:20:20] </span><span style=\"color: #000080; text-decoration-color: #000080\">INFO    </span> 📂 Racine projet détectée : G:\\Mon Drive\\projet_sta211                <a href=\"file://C:\\Users\\aella\\AppData\\Local\\Temp\\ipykernel_26696\\2226743643.py\" target=\"_blank\"><span style=\"color: #7f7f7f; text-decoration-color: #7f7f7f\">2226743643.py</span></a><span style=\"color: #7f7f7f; text-decoration-color: #7f7f7f\">:</span><a href=\"file://C:\\Users\\aella\\AppData\\Local\\Temp\\ipykernel_26696\\2226743643.py#56\" target=\"_blank\"><span style=\"color: #7f7f7f; text-decoration-color: #7f7f7f\">56</span></a>\n",
       "</pre>\n"
      ],
      "text/plain": [
       "\u001b[2;36m[07/14/25 22:20:20]\u001b[0m\u001b[2;36m \u001b[0m\u001b[34mINFO    \u001b[0m 📂 Racine projet détectée : G:\\Mon Drive\\projet_sta211                \u001b]8;id=962587;file://C:\\Users\\aella\\AppData\\Local\\Temp\\ipykernel_26696\\2226743643.py\u001b\\\u001b[2m2226743643.py\u001b[0m\u001b]8;;\u001b\\\u001b[2m:\u001b[0m\u001b]8;id=78116;file://C:\\Users\\aella\\AppData\\Local\\Temp\\ipykernel_26696\\2226743643.py#56\u001b\\\u001b[2m56\u001b[0m\u001b]8;;\u001b\\\n"
      ]
     },
     "metadata": {},
     "output_type": "display_data"
    },
    {
     "data": {
      "text/html": [
       "<pre style=\"white-space:pre;overflow-x:auto;line-height:normal;font-family:Menlo,'DejaVu Sans Mono',consolas,'Courier New',monospace\"><span style=\"color: #7fbfbf; text-decoration-color: #7fbfbf\">                    </span><span style=\"color: #000080; text-decoration-color: #000080\">INFO    </span> PYTHONPATH ← G:\\Mon Drive\\projet_sta211                               <a href=\"file://C:\\Users\\aella\\AppData\\Local\\Temp\\ipykernel_26696\\2226743643.py\" target=\"_blank\"><span style=\"color: #7f7f7f; text-decoration-color: #7f7f7f\">2226743643.py</span></a><span style=\"color: #7f7f7f; text-decoration-color: #7f7f7f\">:</span><a href=\"file://C:\\Users\\aella\\AppData\\Local\\Temp\\ipykernel_26696\\2226743643.py#57\" target=\"_blank\"><span style=\"color: #7f7f7f; text-decoration-color: #7f7f7f\">57</span></a>\n",
       "</pre>\n"
      ],
      "text/plain": [
       "\u001b[2;36m                   \u001b[0m\u001b[2;36m \u001b[0m\u001b[34mINFO    \u001b[0m PYTHONPATH ← G:\\Mon Drive\\projet_sta211                               \u001b]8;id=366865;file://C:\\Users\\aella\\AppData\\Local\\Temp\\ipykernel_26696\\2226743643.py\u001b\\\u001b[2m2226743643.py\u001b[0m\u001b]8;;\u001b\\\u001b[2m:\u001b[0m\u001b]8;id=347598;file://C:\\Users\\aella\\AppData\\Local\\Temp\\ipykernel_26696\\2226743643.py#57\u001b\\\u001b[2m57\u001b[0m\u001b]8;;\u001b\\\n"
      ]
     },
     "metadata": {},
     "output_type": "display_data"
    },
    {
     "data": {
      "text/html": [
       "<pre style=\"white-space:pre;overflow-x:auto;line-height:normal;font-family:Menlo,'DejaVu Sans Mono',consolas,'Courier New',monospace\"><span style=\"color: #7fbfbf; text-decoration-color: #7fbfbf\">[07/14/25 22:20:23] </span><span style=\"color: #000080; text-decoration-color: #000080\">INFO    </span> PYTHONPATH ← G:\\Mon Drive\\projet_sta211\\modules                       <span style=\"color: #7f7f7f; text-decoration-color: #7f7f7f\">env_setup.py:129</span>\n",
       "</pre>\n"
      ],
      "text/plain": [
       "\u001b[2;36m[07/14/25 22:20:23]\u001b[0m\u001b[2;36m \u001b[0m\u001b[34mINFO    \u001b[0m PYTHONPATH ← G:\\Mon Drive\\projet_sta211\\modules                       \u001b[2menv_setup.py\u001b[0m\u001b[2m:\u001b[0m\u001b[2m129\u001b[0m\n"
      ]
     },
     "metadata": {},
     "output_type": "display_data"
    },
    {
     "data": {
      "text/html": [
       "<pre style=\"white-space:pre;overflow-x:auto;line-height:normal;font-family:Menlo,'DejaVu Sans Mono',consolas,'Courier New',monospace\"><span style=\"color: #7fbfbf; text-decoration-color: #7fbfbf\">[07/14/25 22:20:24] </span><span style=\"color: #000080; text-decoration-color: #000080\">INFO    </span> · pandas    : <span style=\"color: #008080; text-decoration-color: #008080; font-weight: bold\">2.2</span>.<span style=\"color: #008080; text-decoration-color: #008080; font-weight: bold\">3</span>                                                   <span style=\"color: #7f7f7f; text-decoration-color: #7f7f7f\">env_setup.py:157</span>\n",
       "</pre>\n"
      ],
      "text/plain": [
       "\u001b[2;36m[07/14/25 22:20:24]\u001b[0m\u001b[2;36m \u001b[0m\u001b[34mINFO    \u001b[0m · pandas    : \u001b[1;36m2.2\u001b[0m.\u001b[1;36m3\u001b[0m                                                   \u001b[2menv_setup.py\u001b[0m\u001b[2m:\u001b[0m\u001b[2m157\u001b[0m\n"
      ]
     },
     "metadata": {},
     "output_type": "display_data"
    },
    {
     "data": {
      "text/html": [
       "<pre style=\"white-space:pre;overflow-x:auto;line-height:normal;font-family:Menlo,'DejaVu Sans Mono',consolas,'Courier New',monospace\"><span style=\"color: #7fbfbf; text-decoration-color: #7fbfbf\">                    </span><span style=\"color: #000080; text-decoration-color: #000080\">INFO    </span> · numpy     : <span style=\"color: #008080; text-decoration-color: #008080; font-weight: bold\">2.0</span>.<span style=\"color: #008080; text-decoration-color: #008080; font-weight: bold\">2</span>                                                   <span style=\"color: #7f7f7f; text-decoration-color: #7f7f7f\">env_setup.py:157</span>\n",
       "</pre>\n"
      ],
      "text/plain": [
       "\u001b[2;36m                   \u001b[0m\u001b[2;36m \u001b[0m\u001b[34mINFO    \u001b[0m · numpy     : \u001b[1;36m2.0\u001b[0m.\u001b[1;36m2\u001b[0m                                                   \u001b[2menv_setup.py\u001b[0m\u001b[2m:\u001b[0m\u001b[2m157\u001b[0m\n"
      ]
     },
     "metadata": {},
     "output_type": "display_data"
    },
    {
     "data": {
      "text/html": [
       "<pre style=\"white-space:pre;overflow-x:auto;line-height:normal;font-family:Menlo,'DejaVu Sans Mono',consolas,'Courier New',monospace\"><span style=\"color: #7fbfbf; text-decoration-color: #7fbfbf\">                    </span><span style=\"color: #000080; text-decoration-color: #000080\">INFO    </span> · sklearn   : <span style=\"color: #008080; text-decoration-color: #008080; font-weight: bold\">1.6</span>.<span style=\"color: #008080; text-decoration-color: #008080; font-weight: bold\">1</span>                                                   <span style=\"color: #7f7f7f; text-decoration-color: #7f7f7f\">env_setup.py:157</span>\n",
       "</pre>\n"
      ],
      "text/plain": [
       "\u001b[2;36m                   \u001b[0m\u001b[2;36m \u001b[0m\u001b[34mINFO    \u001b[0m · sklearn   : \u001b[1;36m1.6\u001b[0m.\u001b[1;36m1\u001b[0m                                                   \u001b[2menv_setup.py\u001b[0m\u001b[2m:\u001b[0m\u001b[2m157\u001b[0m\n"
      ]
     },
     "metadata": {},
     "output_type": "display_data"
    },
    {
     "data": {
      "text/html": [
       "<pre style=\"white-space:pre;overflow-x:auto;line-height:normal;font-family:Menlo,'DejaVu Sans Mono',consolas,'Courier New',monospace\"><span style=\"color: #7fbfbf; text-decoration-color: #7fbfbf\">                    </span><span style=\"color: #000080; text-decoration-color: #000080\">INFO    </span> · xgboost   : <span style=\"color: #008080; text-decoration-color: #008080; font-weight: bold\">2.1</span>.<span style=\"color: #008080; text-decoration-color: #008080; font-weight: bold\">4</span>                                                   <span style=\"color: #7f7f7f; text-decoration-color: #7f7f7f\">env_setup.py:157</span>\n",
       "</pre>\n"
      ],
      "text/plain": [
       "\u001b[2;36m                   \u001b[0m\u001b[2;36m \u001b[0m\u001b[34mINFO    \u001b[0m · xgboost   : \u001b[1;36m2.1\u001b[0m.\u001b[1;36m4\u001b[0m                                                   \u001b[2menv_setup.py\u001b[0m\u001b[2m:\u001b[0m\u001b[2m157\u001b[0m\n"
      ]
     },
     "metadata": {},
     "output_type": "display_data"
    },
    {
     "data": {
      "text/html": [
       "<pre style=\"white-space:pre;overflow-x:auto;line-height:normal;font-family:Menlo,'DejaVu Sans Mono',consolas,'Courier New',monospace\"><span style=\"color: #7fbfbf; text-decoration-color: #7fbfbf\">                    </span><span style=\"color: #000080; text-decoration-color: #000080\">INFO    </span> · imblearn  : <span style=\"color: #008080; text-decoration-color: #008080; font-weight: bold\">0.13</span>.<span style=\"color: #008080; text-decoration-color: #008080; font-weight: bold\">0</span>                                                  <span style=\"color: #7f7f7f; text-decoration-color: #7f7f7f\">env_setup.py:157</span>\n",
       "</pre>\n"
      ],
      "text/plain": [
       "\u001b[2;36m                   \u001b[0m\u001b[2;36m \u001b[0m\u001b[34mINFO    \u001b[0m · imblearn  : \u001b[1;36m0.13\u001b[0m.\u001b[1;36m0\u001b[0m                                                  \u001b[2menv_setup.py\u001b[0m\u001b[2m:\u001b[0m\u001b[2m157\u001b[0m\n"
      ]
     },
     "metadata": {},
     "output_type": "display_data"
    },
    {
     "data": {
      "text/html": [
       "<pre style=\"white-space:pre;overflow-x:auto;line-height:normal;font-family:Menlo,'DejaVu Sans Mono',consolas,'Courier New',monospace\"><span style=\"color: #7fbfbf; text-decoration-color: #7fbfbf\">                    </span><span style=\"color: #000080; text-decoration-color: #000080\">INFO    </span> · catboost  : <span style=\"color: #008080; text-decoration-color: #008080; font-weight: bold\">1.2</span>.<span style=\"color: #008080; text-decoration-color: #008080; font-weight: bold\">8</span>                                                   <span style=\"color: #7f7f7f; text-decoration-color: #7f7f7f\">env_setup.py:157</span>\n",
       "</pre>\n"
      ],
      "text/plain": [
       "\u001b[2;36m                   \u001b[0m\u001b[2;36m \u001b[0m\u001b[34mINFO    \u001b[0m · catboost  : \u001b[1;36m1.2\u001b[0m.\u001b[1;36m8\u001b[0m                                                   \u001b[2menv_setup.py\u001b[0m\u001b[2m:\u001b[0m\u001b[2m157\u001b[0m\n"
      ]
     },
     "metadata": {},
     "output_type": "display_data"
    },
    {
     "data": {
      "text/html": [
       "<pre style=\"white-space:pre;overflow-x:auto;line-height:normal;font-family:Menlo,'DejaVu Sans Mono',consolas,'Courier New',monospace\"><span style=\"color: #7fbfbf; text-decoration-color: #7fbfbf\">                    </span><span style=\"color: #000080; text-decoration-color: #000080\">INFO    </span> ✅ <span style=\"color: #800080; text-decoration-color: #800080; font-weight: bold\">init_project</span><span style=\"font-weight: bold\">()</span> terminé.                                            <span style=\"color: #7f7f7f; text-decoration-color: #7f7f7f\">env_setup.py:171</span>\n",
       "</pre>\n"
      ],
      "text/plain": [
       "\u001b[2;36m                   \u001b[0m\u001b[2;36m \u001b[0m\u001b[34mINFO    \u001b[0m ✅ \u001b[1;35minit_project\u001b[0m\u001b[1m(\u001b[0m\u001b[1m)\u001b[0m terminé.                                            \u001b[2menv_setup.py\u001b[0m\u001b[2m:\u001b[0m\u001b[2m171\u001b[0m\n"
      ]
     },
     "metadata": {},
     "output_type": "display_data"
    },
    {
     "name": "stdout",
     "output_type": "stream",
     "text": [
      "🔧 Configuration environnement STA211...\n",
      "   ✅ Pandas configuré\n",
      "   ✅ Matplotlib configuré\n",
      "   ✅ Warnings configurés\n",
      "   ✅ Random seed défini : 42\n",
      "🎯 Environnement prêt !\n"
     ]
    },
    {
     "data": {
      "text/html": [
       "<style type=\"text/css\">\n",
       "#T_a67db th {\n",
       "  text-align: left;\n",
       "}\n",
       "#T_a67db td {\n",
       "  text-align: left;\n",
       "}\n",
       "</style>\n",
       "<table id=\"T_a67db\">\n",
       "  <thead>\n",
       "    <tr>\n",
       "      <th class=\"blank level0\" >&nbsp;</th>\n",
       "      <th id=\"T_a67db_level0_col0\" class=\"col_heading level0 col0\" >Chemin</th>\n",
       "    </tr>\n",
       "    <tr>\n",
       "      <th class=\"index_name level0\" >Clé</th>\n",
       "      <th class=\"blank col0\" >&nbsp;</th>\n",
       "    </tr>\n",
       "  </thead>\n",
       "  <tbody>\n",
       "    <tr>\n",
       "      <th id=\"T_a67db_level0_row0\" class=\"row_heading level0 row0\" >ROOT_DIR</th>\n",
       "      <td id=\"T_a67db_row0_col0\" class=\"data row0 col0\" >G:\\Mon Drive\\projet_sta211</td>\n",
       "    </tr>\n",
       "    <tr>\n",
       "      <th id=\"T_a67db_level0_row1\" class=\"row_heading level0 row1\" >MODULE_DIR</th>\n",
       "      <td id=\"T_a67db_row1_col0\" class=\"data row1 col0\" >G:\\Mon Drive\\projet_sta211\\modules</td>\n",
       "    </tr>\n",
       "    <tr>\n",
       "      <th id=\"T_a67db_level0_row2\" class=\"row_heading level0 row2\" >RAW_DATA_DIR</th>\n",
       "      <td id=\"T_a67db_row2_col0\" class=\"data row2 col0\" >G:\\Mon Drive\\projet_sta211\\data\\raw</td>\n",
       "    </tr>\n",
       "    <tr>\n",
       "      <th id=\"T_a67db_level0_row3\" class=\"row_heading level0 row3\" >MODELS_DIR</th>\n",
       "      <td id=\"T_a67db_row3_col0\" class=\"data row3 col0\" >G:\\Mon Drive\\projet_sta211\\models</td>\n",
       "    </tr>\n",
       "    <tr>\n",
       "      <th id=\"T_a67db_level0_row4\" class=\"row_heading level0 row4\" >FIGURES_DIR</th>\n",
       "      <td id=\"T_a67db_row4_col0\" class=\"data row4 col0\" >G:\\Mon Drive\\projet_sta211\\outputs\\figures</td>\n",
       "    </tr>\n",
       "    <tr>\n",
       "      <th id=\"T_a67db_level0_row5\" class=\"row_heading level0 row5\" >OUTPUTS_DIR</th>\n",
       "      <td id=\"T_a67db_row5_col0\" class=\"data row5 col0\" >G:\\Mon Drive\\projet_sta211\\outputs</td>\n",
       "    </tr>\n",
       "    <tr>\n",
       "      <th id=\"T_a67db_level0_row6\" class=\"row_heading level0 row6\" >THRESHOLDS_DIR</th>\n",
       "      <td id=\"T_a67db_row6_col0\" class=\"data row6 col0\" >G:\\Mon Drive\\projet_sta211\\outputs\\modeling\\thresholds</td>\n",
       "    </tr>\n",
       "  </tbody>\n",
       "</table>\n"
      ],
      "text/plain": [
       "<pandas.io.formats.style.Styler at 0x1c98e834670>"
      ]
     },
     "metadata": {},
     "output_type": "display_data"
    },
    {
     "data": {
      "text/html": [
       "<pre style=\"white-space:pre;overflow-x:auto;line-height:normal;font-family:Menlo,'DejaVu Sans Mono',consolas,'Courier New',monospace\"><span style=\"color: #7fbfbf; text-decoration-color: #7fbfbf\">                    </span><span style=\"color: #000080; text-decoration-color: #000080\">INFO    </span> ✅ Initialisation complète réussie - Notebook <span style=\"color: #008080; text-decoration-color: #008080; font-weight: bold\">02</span> prêt !               <a href=\"file://C:\\Users\\aella\\AppData\\Local\\Temp\\ipykernel_26696\\2226743643.py\" target=\"_blank\"><span style=\"color: #7f7f7f; text-decoration-color: #7f7f7f\">2226743643.py</span></a><span style=\"color: #7f7f7f; text-decoration-color: #7f7f7f\">:</span><a href=\"file://C:\\Users\\aella\\AppData\\Local\\Temp\\ipykernel_26696\\2226743643.py#93\" target=\"_blank\"><span style=\"color: #7f7f7f; text-decoration-color: #7f7f7f\">93</span></a>\n",
       "</pre>\n"
      ],
      "text/plain": [
       "\u001b[2;36m                   \u001b[0m\u001b[2;36m \u001b[0m\u001b[34mINFO    \u001b[0m ✅ Initialisation complète réussie - Notebook \u001b[1;36m02\u001b[0m prêt !               \u001b]8;id=256787;file://C:\\Users\\aella\\AppData\\Local\\Temp\\ipykernel_26696\\2226743643.py\u001b\\\u001b[2m2226743643.py\u001b[0m\u001b]8;;\u001b\\\u001b[2m:\u001b[0m\u001b]8;id=234053;file://C:\\Users\\aella\\AppData\\Local\\Temp\\ipykernel_26696\\2226743643.py#93\u001b\\\u001b[2m93\u001b[0m\u001b]8;;\u001b\\\n"
      ]
     },
     "metadata": {},
     "output_type": "display_data"
    }
   ],
   "source": [
    "## 0.1 Paramètres et Imports\n",
    "\n",
    "\n",
    "import sys, os, logging\n",
    "from pathlib import Path\n",
    "\n",
    "# ── 0. Logger clair (avec Rich si dispo)\n",
    "try:\n",
    "    from rich.logging import RichHandler\n",
    "    logging.basicConfig(level=\"INFO\",\n",
    "                        format=\"%(message)s\",\n",
    "                        handlers=[RichHandler(rich_tracebacks=True, markup=True)],\n",
    "                        force=True)\n",
    "except ModuleNotFoundError:\n",
    "    logging.basicConfig(level=logging.INFO,\n",
    "                        format=\"%(asctime)s - %(levelname)s - %(message)s\",\n",
    "                        stream=sys.stdout,\n",
    "                        force=True)\n",
    "logger = logging.getLogger(__name__)\n",
    "\n",
    "# ── 1. Détection environnement Colab\n",
    "def _in_colab() -> bool:\n",
    "    try: import google.colab\n",
    "    except ImportError: return False\n",
    "    else: return True\n",
    "\n",
    "# ── 2. Montage Drive manuel rapide\n",
    "if _in_colab():\n",
    "    from google.colab import drive\n",
    "    if not Path(\"/content/drive/MyDrive\").exists():\n",
    "        logger.info(\"🔗 Montage de Google Drive en cours…\")\n",
    "        drive.mount(\"/content/drive\", force_remount=False)\n",
    "\n",
    "# ── 3. Localisation racine projet STA211\n",
    "def find_project_root() -> Path:\n",
    "    env_path = os.getenv(\"STA211_PROJECT_PATH\")\n",
    "    if env_path and (Path(env_path) / \"modules\").exists():\n",
    "        return Path(env_path).expanduser().resolve()\n",
    "\n",
    "    default_colab = Path(\"/content/drive/MyDrive/projet_sta211\")\n",
    "    if _in_colab() and (default_colab / \"modules\").exists():\n",
    "        return default_colab.resolve()\n",
    "\n",
    "    cwd = Path.cwd()\n",
    "    for p in [cwd, *cwd.parents]:\n",
    "        if (p / \"modules\").exists():\n",
    "            return p.resolve()\n",
    "\n",
    "    raise FileNotFoundError(\"❌ Impossible de localiser un dossier contenant 'modules/'.\")\n",
    "\n",
    "# ── 4. Définition racine + PYTHONPATH\n",
    "ROOT_DIR = find_project_root()\n",
    "os.environ[\"STA211_PROJECT_PATH\"] = str(ROOT_DIR)\n",
    "if str(ROOT_DIR) not in sys.path:\n",
    "    sys.path.insert(0, str(ROOT_DIR))\n",
    "logger.info(f\"📂 Racine projet détectée : {ROOT_DIR}\")\n",
    "logger.info(f\"PYTHONPATH ← {ROOT_DIR}\")\n",
    "\n",
    "# ── 5. Initialisation des chemins et configuration projet\n",
    "from modules.config import init_project, set_display_options\n",
    "\n",
    "init_result = init_project()\n",
    "paths = init_result[\"paths\"]\n",
    "set_display_options()\n",
    "\n",
    "# ── 6. Affichage des chemins utiles\n",
    "def display_paths(style: bool = True):\n",
    "    import pandas as pd\n",
    "    rows = [{\"Clé\": k, \"Chemin\": os.fspath(v)} for k, v in paths.items() if \"DIR\" in k]\n",
    "    df = pd.DataFrame(rows).set_index(\"Clé\")\n",
    "    from IPython.display import display\n",
    "    display(df.style.set_table_styles([\n",
    "        {\"selector\": \"th\", \"props\": [(\"text-align\", \"left\")]},\n",
    "        {\"selector\": \"td\", \"props\": [(\"text-align\", \"left\")]},\n",
    "    ]) if style else df)\n",
    "\n",
    "\n",
    "\n",
    "# Ajout de toutes les variables nécessaires y compris RAW_DATA_DIR\n",
    "\n",
    "\n",
    "# Variables principales de données\n",
    "RAW_DATA_DIR          = paths[\"RAW_DATA_DIR\"]\n",
    "DATA_PROCESSED        = paths[\"DATA_PROCESSED\"]\n",
    "MODELS_DIR            = paths[\"MODELS_DIR\"]\n",
    "FIGURES_DIR           = paths[\"FIGURES_DIR\"]\n",
    "THRESHOLDS_DIR        = paths[\"THRESHOLDS_DIR\"]\n",
    "OUTPUTS_DIR           = paths[\"OUTPUTS_DIR\"]\n",
    "\n",
    "display_paths()\n",
    "\n",
    "\n",
    "logger.info(\"✅ Initialisation complète réussie - Notebook 02 prêt !\")"
   ]
  },
  {
   "cell_type": "markdown",
   "id": "d8c4b2a8",
   "metadata": {
    "id": "d8c4b2a8"
   },
   "source": [
    "## 0.2 Chargement des bibliothèques\n",
    "\n",
    "Cette section importe toutes les bibliothèques nécessaires à la **modélisation supervisée** via le module `imports_sta211.py`.  \n",
    "Les bibliothèques incluent :\n",
    "\n",
    "- Traitement des données : `pandas`, `numpy`\n",
    "- Modélisation supervisée : `scikit-learn`, `xgboost`\n",
    "- Traitement du déséquilibre : `imblearn`\n",
    "- Visualisation des résultats : `matplotlib`, `seaborn`\n",
    "- Utilitaires : `tqdm` pour le suivi, `joblib`, `json`\n",
    "\n",
    "Les paramètres de visualisation (seaborn, matplotlib) ainsi que les options pandas sont préconfigurés dans `imports_sta211.py`.  \n",
    "Un affichage des versions des bibliothèques principales est également effectué pour assurer la **reproductibilité**.\n"
   ]
  },
  {
   "cell_type": "code",
   "execution_count": 10,
   "id": "6e7d0d31",
   "metadata": {
    "colab": {
     "base_uri": "https://localhost:8080/",
     "height": 309
    },
    "executionInfo": {
     "elapsed": 205,
     "status": "ok",
     "timestamp": 1752510107658,
     "user": {
      "displayName": "maoulida abdoullatuf",
      "userId": "05790302460507444417"
     },
     "user_tz": -120
    },
    "id": "6e7d0d31",
    "outputId": "da1ca1bc-0a39-44d7-9eae-e99fbf660d6f"
   },
   "outputs": [
    {
     "data": {
      "text/html": [
       "<pre style=\"white-space:pre;overflow-x:auto;line-height:normal;font-family:Menlo,'DejaVu Sans Mono',consolas,'Courier New',monospace\"><span style=\"color: #7fbfbf; text-decoration-color: #7fbfbf\">                    </span><span style=\"color: #000080; text-decoration-color: #000080\">INFO    </span> ✅ Fonctions seuil chargées depuis optimize_threshold_basic.py   <span style=\"color: #7f7f7f; text-decoration-color: #7f7f7f\">imports_sta211.py:150</span>\n",
       "</pre>\n"
      ],
      "text/plain": [
       "\u001b[2;36m                   \u001b[0m\u001b[2;36m \u001b[0m\u001b[34mINFO    \u001b[0m ✅ Fonctions seuil chargées depuis optimize_threshold_basic.py   \u001b[2mimports_sta211.py\u001b[0m\u001b[2m:\u001b[0m\u001b[2m150\u001b[0m\n"
      ]
     },
     "metadata": {},
     "output_type": "display_data"
    },
    {
     "data": {
      "text/html": [
       "<pre style=\"white-space:pre;overflow-x:auto;line-height:normal;font-family:Menlo,'DejaVu Sans Mono',consolas,'Courier New',monospace\"><span style=\"color: #7fbfbf; text-decoration-color: #7fbfbf\">                    </span><span style=\"color: #000080; text-decoration-color: #000080\">INFO    </span> 📚 Bibliothèques importées depuis imports_sta211                       <a href=\"file://C:\\Users\\aella\\AppData\\Local\\Temp\\ipykernel_26696\\3487506287.py\" target=\"_blank\"><span style=\"color: #7f7f7f; text-decoration-color: #7f7f7f\">3487506287.py</span></a><span style=\"color: #7f7f7f; text-decoration-color: #7f7f7f\">:</span><a href=\"file://C:\\Users\\aella\\AppData\\Local\\Temp\\ipykernel_26696\\3487506287.py#8\" target=\"_blank\"><span style=\"color: #7f7f7f; text-decoration-color: #7f7f7f\">8</span></a>\n",
       "</pre>\n"
      ],
      "text/plain": [
       "\u001b[2;36m                   \u001b[0m\u001b[2;36m \u001b[0m\u001b[34mINFO    \u001b[0m 📚 Bibliothèques importées depuis imports_sta211                       \u001b]8;id=571858;file://C:\\Users\\aella\\AppData\\Local\\Temp\\ipykernel_26696\\3487506287.py\u001b\\\u001b[2m3487506287.py\u001b[0m\u001b]8;;\u001b\\\u001b[2m:\u001b[0m\u001b]8;id=91161;file://C:\\Users\\aella\\AppData\\Local\\Temp\\ipykernel_26696\\3487506287.py#8\u001b\\\u001b[2m8\u001b[0m\u001b]8;;\u001b\\\n"
      ]
     },
     "metadata": {},
     "output_type": "display_data"
    },
    {
     "data": {
      "text/markdown": [
       "✅ Versions des bibliothèques de modélisation\n",
       "- `pandas` : 2.2.3\n",
       "- `numpy` : 2.0.2\n",
       "- `scikit-learn` : 1.6.1\n",
       "- `imbalanced-learn` : 0.13.0\n",
       "- `xgboost` : 2.1.4\n",
       "- `matplotlib` : 3.10.3\n",
       "- `seaborn` : 0.13.2\n",
       "- `scipy` : 1.15.3\n",
       "- `joblib` : 1.5.1\n",
       "- `tqdm` : 4.67.1\n",
       "- `ipython` : 8.37.0"
      ],
      "text/plain": [
       "<IPython.core.display.Markdown object>"
      ]
     },
     "metadata": {},
     "output_type": "display_data"
    },
    {
     "data": {
      "text/html": [
       "<pre style=\"white-space:pre;overflow-x:auto;line-height:normal;font-family:Menlo,'DejaVu Sans Mono',consolas,'Courier New',monospace\"><span style=\"color: #7fbfbf; text-decoration-color: #7fbfbf\">                    </span><span style=\"color: #000080; text-decoration-color: #000080\">INFO    </span> ✅ Chargement des bibliothèques terminé                               <a href=\"file://C:\\Users\\aella\\AppData\\Local\\Temp\\ipykernel_26696\\3487506287.py\" target=\"_blank\"><span style=\"color: #7f7f7f; text-decoration-color: #7f7f7f\">3487506287.py</span></a><span style=\"color: #7f7f7f; text-decoration-color: #7f7f7f\">:</span><a href=\"file://C:\\Users\\aella\\AppData\\Local\\Temp\\ipykernel_26696\\3487506287.py#42\" target=\"_blank\"><span style=\"color: #7f7f7f; text-decoration-color: #7f7f7f\">42</span></a>\n",
       "</pre>\n"
      ],
      "text/plain": [
       "\u001b[2;36m                   \u001b[0m\u001b[2;36m \u001b[0m\u001b[34mINFO    \u001b[0m ✅ Chargement des bibliothèques terminé                               \u001b]8;id=229258;file://C:\\Users\\aella\\AppData\\Local\\Temp\\ipykernel_26696\\3487506287.py\u001b\\\u001b[2m3487506287.py\u001b[0m\u001b]8;;\u001b\\\u001b[2m:\u001b[0m\u001b]8;id=243962;file://C:\\Users\\aella\\AppData\\Local\\Temp\\ipykernel_26696\\3487506287.py#42\u001b\\\u001b[2m42\u001b[0m\u001b]8;;\u001b\\\n"
      ]
     },
     "metadata": {},
     "output_type": "display_data"
    }
   ],
   "source": [
    "## 0.2 · Chargement des bibliothèques ──────────────────────────────────────────\n",
    "\n",
    "from IPython.display import Markdown, display\n",
    "\n",
    "# ⬇️ L'import ne doit venir qu'après que init_project() ait installé toutes les dépendances\n",
    "try:\n",
    "    from imports_sta211 import *\n",
    "    logger.info(\"📚 Bibliothèques importées depuis imports_sta211\")\n",
    "except ModuleNotFoundError as e:\n",
    "    logger.error(f\"❌ Erreur d'importation : {e}. Exécutez d'abord init_project() pour installer les dépendances.\")\n",
    "    raise\n",
    "\n",
    "# ───────────────────────────────────────────────────────────────────────────\n",
    "# ✅ Affichage des versions principales\n",
    "# ───────────────────────────────────────────────────────────────────────────\n",
    "\n",
    "def _safe_version(mod, fallback=\"—\"):\n",
    "    \"\"\"Retourne mod.__version__ ou un fallback si le module est absent.\"\"\"\n",
    "    try:\n",
    "        return mod.__version__\n",
    "    except Exception:\n",
    "        return fallback\n",
    "\n",
    "def display_modeling_library_versions():\n",
    "    mods = {\n",
    "        \"pandas\"           : pd,\n",
    "        \"numpy\"            : np,\n",
    "        \"scikit-learn\"     : sklearn,\n",
    "        \"imbalanced-learn\" : imblearn,\n",
    "        \"xgboost\"          : xgb,\n",
    "        \"matplotlib\"       : matplotlib,\n",
    "        \"seaborn\"          : sns,\n",
    "        \"scipy\"            : scipy,\n",
    "        \"joblib\"           : joblib,\n",
    "        \"tqdm\"             : __import__(\"tqdm\"),\n",
    "        \"ipython\"          : __import__(\"IPython\")\n",
    "    }\n",
    "    versions_md = \"\\n\".join(f\"- `{k}` : {_safe_version(v)}\" for k, v in mods.items())\n",
    "    display(Markdown(f\"✅ Versions des bibliothèques de modélisation\\n{versions_md}\"))\n",
    "\n",
    "display_modeling_library_versions()\n",
    "logger.info(\"✅ Chargement des bibliothèques terminé\")\n"
   ]
  },
  {
   "cell_type": "markdown",
   "id": "32b81730",
   "metadata": {
    "id": "32b81730"
   },
   "source": [
    "# 1. 📦 Chargement des données traitées\n",
    "\n",
    "Dans cette cellule, on initialise le chargement des 4 versions finales des jeux de données, prétraitées selon deux critères :\n",
    "\n",
    "- Méthode d’imputation : **KNN** ou **MICE** ;\n",
    "- Conservation ou suppression des **outliers**.\n",
    "\n",
    "Chaque dataset est chargé depuis un fichier `.parquet` et une vérification rapide affiche la distribution de la variable cible (`ad.` vs `noad.`).  \n",
    "Une interface interactive permet de visualiser rapidement un aperçu de chaque jeu.\n",
    "\n",
    "La fonction `load_dataset(name)` permet un chargement manuel et sera utilisée dans les étapes suivantes.\n"
   ]
  },
  {
   "cell_type": "code",
   "execution_count": 12,
   "id": "5ca22dee-f56c-4551-9cc0-a43f70711dff",
   "metadata": {
    "colab": {
     "base_uri": "https://localhost:8080/",
     "height": 313,
     "referenced_widgets": [
      "617175e82e9543369f61387ef1672126",
      "e5e0b1ead0ef458da343ff32232e232d",
      "bb3a5a15330b4cf9b01b88b8f78ed7ee",
      "4f96544a57144db19909d927a11c5287",
      "0efd2a3f0bcf4849bd81db1aec13f997"
     ]
    },
    "executionInfo": {
     "elapsed": 520,
     "status": "ok",
     "timestamp": 1752510123841,
     "user": {
      "displayName": "maoulida abdoullatuf",
      "userId": "05790302460507444417"
     },
     "user_tz": -120
    },
    "id": "5ca22dee-f56c-4551-9cc0-a43f70711dff",
    "outputId": "a3e13b4a-cbbd-4c38-db75-7fea92ccb7c2"
   },
   "outputs": [
    {
     "name": "stdout",
     "output_type": "stream",
     "text": [
      "✅ ipywidgets disponible - Interface interactive activée\n",
      "⚠️ Mapping par défaut appliqué\n",
      "\n",
      "📂 4 datasets détectés : ['mice_no_outliers', 'knn_no_outliers', 'mice_with_outliers', 'knn_with_outliers']\n",
      "\n",
      "📊 Distribution cible (outcome) dans chaque fichier\n",
      "mice_no_outliers     | ad.:  14.0% | noad.:  86.0%\n",
      "knn_no_outliers      | ad.:  14.0% | noad.:  86.0%\n",
      "mice_with_outliers   | ad.:  14.0% | noad.:  86.0%\n",
      "knn_with_outliers    | ad.:  14.0% | noad.:  86.0%\n"
     ]
    },
    {
     "data": {
      "text/markdown": [
       "📂 Sélectionnez un dataset :"
      ],
      "text/plain": [
       "<IPython.core.display.Markdown object>"
      ]
     },
     "metadata": {},
     "output_type": "display_data"
    },
    {
     "data": {
      "application/vnd.jupyter.widget-view+json": {
       "model_id": "4f7e2de96d974c099fdf55600e1ddb40",
       "version_major": 2,
       "version_minor": 0
      },
      "text/plain": [
       "Dropdown(description='Dataset :', options=('mice_no_outliers', 'knn_no_outliers', 'mice_with_outliers', 'knn_w…"
      ]
     },
     "metadata": {},
     "output_type": "display_data"
    },
    {
     "data": {
      "application/vnd.jupyter.widget-view+json": {
       "model_id": "cfda351ce8e44e29a05ffe86ece0da43",
       "version_major": 2,
       "version_minor": 0
      },
      "text/plain": [
       "Output()"
      ]
     },
     "metadata": {},
     "output_type": "display_data"
    },
    {
     "name": "stdout",
     "output_type": "stream",
     "text": [
      "\n",
      "🧹 Nettoyage mémoire...\n",
      "✅ Initialisation des datasets terminée !\n"
     ]
    }
   ],
   "source": [
    "import gc\n",
    "import pandas as pd\n",
    "from pathlib import Path\n",
    "from IPython.display import display, Markdown\n",
    "\n",
    "try:\n",
    "    import ipywidgets as wd\n",
    "    WIDGETS_AVAILABLE = True\n",
    "    print(\"✅ ipywidgets disponible - Interface interactive activée\")\n",
    "except ImportError:\n",
    "    WIDGETS_AVAILABLE = False\n",
    "    print(\"⚠️ ipywidgets non disponible - Mode standard activé\")\n",
    "\n",
    "try:\n",
    "    from modules.config.project_config import CLASS_LABELS as LABEL_MAP\n",
    "    print(\"✅ Mapping des classes importé\")\n",
    "except ImportError:\n",
    "    LABEL_MAP = {0: \"noad.\", 1: \"ad.\"}\n",
    "    print(\"⚠️ Mapping par défaut appliqué\")\n",
    "\n",
    "data_dir = paths[\"DATA_PROCESSED\"] / \"notebook1/final_data_for_modeling\"\n",
    "\n",
    "expected_names = {\n",
    "    \"mice_no_outliers\",\n",
    "    \"knn_no_outliers\",\n",
    "    \"mice_with_outliers\",\n",
    "    \"knn_with_outliers\"\n",
    "}\n",
    "\n",
    "available_files = [f for f in data_dir.glob(\"df_final_for_modeling_*.csv\")\n",
    "                   if f.stem.replace(\"df_final_for_modeling_\", \"\") in expected_names]\n",
    "\n",
    "NAMES = [f.stem.replace(\"df_final_for_modeling_\", \"\") for f in available_files]\n",
    "\n",
    "print(f\"\\n📂 {len(NAMES)} datasets détectés : {NAMES}\")\n",
    "\n",
    "def _csv_path(name: str) -> Path:\n",
    "    return data_dir / f\"df_final_for_modeling_{name}.csv\"\n",
    "\n",
    "# Distribution cible renommée outcome\n",
    "if NAMES:\n",
    "    print(\"\\n📊 Distribution cible (outcome) dans chaque fichier\")\n",
    "    for n in NAMES:\n",
    "        fp = _csv_path(n)\n",
    "        try:\n",
    "            s = pd.read_csv(fp, usecols=[\"outcome\"])[\"outcome\"]\n",
    "            pct = s.map(LABEL_MAP).value_counts(normalize=True).mul(100).round(2)\n",
    "            print(f\"{n:<20} | ad.: {pct.get('ad.', 0):>5.1f}% | noad.: {pct.get('noad.', 0):>5.1f}%\")\n",
    "        except Exception as e:\n",
    "            print(f\"⚠️ Erreur lecture {fp.name} → {e}\")\n",
    "else:\n",
    "    print(\"❌ Aucun dataset CSV trouvé dans :\", data_dir)\n",
    "\n",
    "def load_dataset(name: str) -> pd.DataFrame | None:\n",
    "    fp = _csv_path(name)\n",
    "    try:\n",
    "        df = pd.read_csv(fp)\n",
    "        if \"y\" in df.columns:\n",
    "            df.rename(columns={\"y\": \"outcome\"}, inplace=True)\n",
    "        print(f\"✅ {name} chargé : {df.shape}\")\n",
    "        return df\n",
    "    except Exception as e:\n",
    "        print(f\"❌ Erreur : {e}\")\n",
    "        return None\n",
    "\n",
    "if NAMES:\n",
    "    if WIDGETS_AVAILABLE:\n",
    "        dropdown = wd.Dropdown(options=NAMES, value=NAMES[0], description=\"Dataset :\")\n",
    "        out = wd.Output()\n",
    "\n",
    "        def _on_change(change):\n",
    "            with out:\n",
    "                out.clear_output()\n",
    "                df = load_dataset(change[\"new\"])\n",
    "                if df is not None:\n",
    "                    display(df.head())\n",
    "\n",
    "        dropdown.observe(_on_change, names=\"value\")\n",
    "        display(Markdown(\"📂 Sélectionnez un dataset :\"))\n",
    "        display(dropdown, out)\n",
    "    else:\n",
    "        print(\"\\n📂 Mode standard :\")\n",
    "        for i, name in enumerate(NAMES, 1):\n",
    "            print(f\"   {i}. {name}\")\n",
    "        print(\"💡 Utilisez load_dataset('nom_du_dataset') pour charger un dataset\")\n",
    "else:\n",
    "    print(\"⚠️ Aucune donnée à charger. Vérifiez les fichiers dans :\", data_dir)\n",
    "\n",
    "print(\"\\n🧹 Nettoyage mémoire...\")\n",
    "gc.collect()\n",
    "print(\"✅ Initialisation des datasets terminée !\")\n"
   ]
  },
  {
   "cell_type": "markdown",
   "id": "fcdc2387-1272-43d5-b64f-579e2303b3e4",
   "metadata": {
    "id": "fcdc2387-1272-43d5-b64f-579e2303b3e4"
   },
   "source": [
    "**Décision : **conservons les outliers** et misons nous sur des algorithmes robustes**  \n",
    "\n",
    "| Dataset | Obs. | % Ads | Ads (n) | % Non-ads | Non-ads (n) |\n",
    "|---------|-----:|------:|--------:|----------:|------------:|\n",
    "| KNN **avec** outliers | **2 459** | **14 %** | 344 | 86 % | 2 115 |\n",
    "| KNN **sans** outliers | 1 885 | 9 % | 175 | 91 % | 1 710 |\n",
    "| Impact suppression | −23 % lignes | −4,7 pp | −49 % | +4,7 pp | −19 % |\n",
    "\n",
    "- **49 %** des *ads* supprimés contre **19 %** des *non-ads*  \n",
    "- Ratio minoritaire **14 % → 9 %**  \n",
    "- F1 Random Forest : **0 .89 → 0 .80** (−10 %)\n",
    "\n",
    "**Choix retenu**\n",
    "\n",
    "* **✅ Garder** le dataset **with outliers**  \n",
    "* Algorithmes **robustes** : Random Forest, XGBoost, SVM (RBF), Logistic Reg. régularisée  \n",
    "* Pré-traitement : StandardScaler, log / Box-Cox, régularisation L1/L2  \n",
    "* Seuils de validation : **F1 > 0 .85** ; rappel *ads* > 0 .80  \n",
    "\n",
    "> Les outliers portent des signaux discriminants ; les supprimer pénalise la classe d’intérêt.  \n",
    "> Mieux vaut s’adapter algorithmiquement que « nettoyer » agressivement.\n"
   ]
  },
  {
   "cell_type": "code",
   "execution_count": 14,
   "id": "fcdf19bd-2394-4f46-ac27-c232ba0abc47",
   "metadata": {
    "colab": {
     "base_uri": "https://localhost:8080/"
    },
    "executionInfo": {
     "elapsed": 414,
     "status": "ok",
     "timestamp": 1752507836946,
     "user": {
      "displayName": "maoulida abdoullatuf",
      "userId": "05790302460507444417"
     },
     "user_tz": -120
    },
    "id": "fcdf19bd-2394-4f46-ac27-c232ba0abc47",
    "outputId": "ebd8685f-2bb4-4bee-ee80-0d665631f8ff"
   },
   "outputs": [
    {
     "name": "stdout",
     "output_type": "stream",
     "text": [
      "\n",
      " 🔄 Chargement des datasets principaux...\n",
      "───────────────────────────────────────────────────────\n",
      "✅ knn_no_outliers chargé : (2459, 499)\n",
      "✅ mice_no_outliers chargé : (2459, 499)\n"
     ]
    }
   ],
   "source": [
    "print(\"\\n 🔄 Chargement des datasets principaux...\")\n",
    "print(\"─\" * 55)\n",
    "\n",
    "df_knn  = load_dataset(\"knn_no_outliers\")\n",
    "df_mice = load_dataset(\"mice_no_outliers\")"
   ]
  },
  {
   "cell_type": "markdown",
   "id": "72b8a705-dca2-4175-8a2f-042218b99d0e",
   "metadata": {
    "id": "72b8a705-dca2-4175-8a2f-042218b99d0e"
   },
   "source": [
    "## 1.2 🎯 Répartition de la variable cible (ad. vs noad.)\n",
    "\n",
    "Avant toute modélisation, il est essentiel d’examiner la distribution de la variable cible.\n",
    "\n",
    "Cette visualisation met en évidence le **déséquilibre des classes** :\n",
    "- Très peu d’images sont des publicités (`ad.`),\n",
    "- La majorité sont des `noad.`\n",
    "\n",
    "📌 Cela justifie l’usage d’un **rééchantillonnage** (SMOTE) et d’une **optimisation du seuil**.\n"
   ]
  },
  {
   "cell_type": "code",
   "execution_count": 16,
   "id": "531f2605-fa99-4677-b080-06eed7899bc0",
   "metadata": {
    "colab": {
     "base_uri": "https://localhost:8080/",
     "height": 320
    },
    "executionInfo": {
     "elapsed": 487,
     "status": "ok",
     "timestamp": 1752507837436,
     "user": {
      "displayName": "maoulida abdoullatuf",
      "userId": "05790302460507444417"
     },
     "user_tz": -120
    },
    "id": "531f2605-fa99-4677-b080-06eed7899bc0",
    "outputId": "184dbe43-7dd1-4984-a27c-17db5fd5ace4"
   },
   "outputs": [
    {
     "data": {
      "image/png": "[encoded data removed]",
      "text/plain": [
       "<Figure size 500x300 with 1 Axes>"
      ]
     },
     "metadata": {},
     "output_type": "display_data"
    },
    {
     "data": {
      "text/html": [
       "<pre style=\"white-space:pre;overflow-x:auto;line-height:normal;font-family:Menlo,'DejaVu Sans Mono',consolas,'Courier New',monospace\"><span style=\"color: #7fbfbf; text-decoration-color: #7fbfbf\">[07/14/25 22:20:26] </span><span style=\"color: #000080; text-decoration-color: #000080\">INFO    </span> 📊 Graphe sauvegardé → target_distribution_knn.png                    <a href=\"file://C:\\Users\\aella\\AppData\\Local\\Temp\\ipykernel_26696\\1169413402.py\" target=\"_blank\"><span style=\"color: #7f7f7f; text-decoration-color: #7f7f7f\">1169413402.py</span></a><span style=\"color: #7f7f7f; text-decoration-color: #7f7f7f\">:</span><a href=\"file://C:\\Users\\aella\\AppData\\Local\\Temp\\ipykernel_26696\\1169413402.py#16\" target=\"_blank\"><span style=\"color: #7f7f7f; text-decoration-color: #7f7f7f\">16</span></a>\n",
       "</pre>\n"
      ],
      "text/plain": [
       "\u001b[2;36m[07/14/25 22:20:26]\u001b[0m\u001b[2;36m \u001b[0m\u001b[34mINFO    \u001b[0m 📊 Graphe sauvegardé → target_distribution_knn.png                    \u001b]8;id=681453;file://C:\\Users\\aella\\AppData\\Local\\Temp\\ipykernel_26696\\1169413402.py\u001b\\\u001b[2m1169413402.py\u001b[0m\u001b]8;;\u001b\\\u001b[2m:\u001b[0m\u001b]8;id=735392;file://C:\\Users\\aella\\AppData\\Local\\Temp\\ipykernel_26696\\1169413402.py#16\u001b\\\u001b[2m16\u001b[0m\u001b]8;;\u001b\\\n"
      ]
     },
     "metadata": {},
     "output_type": "display_data"
    }
   ],
   "source": [
    "## 🎯 Répartition de la variable cible (ad. vs noad.)\n",
    "\n",
    "import seaborn as sns\n",
    "import matplotlib.pyplot as plt\n",
    "\n",
    "fig, ax = plt.subplots(figsize=(5, 3))\n",
    "sns.countplot(data=df_knn, x=\"outcome\", palette=\"Set2\", ax=ax)\n",
    "ax.set_xticklabels([\"noad.\", \"ad.\"])\n",
    "ax.set_title(\"Répartition de la variable cible (KNN imputé)\")\n",
    "\n",
    "fig.tight_layout()\n",
    "fig_path = FIGURES_DIR / \"figures_notebook2\" / \"target_distribution_knn.png\"\n",
    "fig.savefig(fig_path, dpi=150)\n",
    "plt.show()\n",
    "\n",
    "logger.info(f\"📊 Graphe sauvegardé → {fig_path.name}\")\n"
   ]
  },
  {
   "cell_type": "markdown",
   "id": "ac6b243b",
   "metadata": {
    "id": "ac6b243b"
   },
   "source": [
    "## Définition des variables X et y\n",
    "\n",
    "| Étape | Détails |\n",
    "|-------|---------|\n",
    "| **Séparation cible / features** | `y = df[\"outcome\"]` <br>`X = df.drop(columns=[\"outcome\"])` |\n",
    "| **Encodage cible** | 1 = `ad.` &nbsp;&nbsp;·&nbsp;&nbsp; 0 = `noad.` |\n",
    "| **Split train / val / test** | `train_test_split(test_size=0.2, stratify=y, random_state=...)` pour créer un jeu **test** <br> puis un second `train_test_split` (ex: `test_size=0.25`) pour extraire la **validation** depuis le train initial |\n",
    "| **Sauvegarde des colonnes** | `feature_cols = X_train.columns.tolist()` — utile pour le preprocessing et les prédictions finales |\n",
    "\n",
    "> Nous répartissons les données en **60 % apprentissage**, **20 % validation**, et **20 % test**, tout en respectant le déséquilibre initial des classes (stratification).\n",
    "\n"
   ]
  },
  {
   "cell_type": "markdown",
   "id": "3ee2a59d",
   "metadata": {
    "id": "3ee2a59d"
   },
   "source": [
    "> **Remarque**  \n",
    "> - Le « jeu de test » mentionné ici correspond au **split interne** issu de `data_train.csv`. Il sert uniquement à évaluer nos modèles localement.  \n",
    "> - Le véritable fichier **`data_test.csv`**, dépourvu de colonne cible, n’est utilisé qu’au moment de la **soumission finale** au challenge.\n"
   ]
  },
  {
   "cell_type": "markdown",
   "id": "a4c28a0d-acde-4f38-a586-e6add42b2db5",
   "metadata": {
    "id": "a4c28a0d-acde-4f38-a586-e6add42b2db5"
   },
   "source": [
    "### 🧪 Découpage des données en 3 ensembles : train, validation, test\n",
    "\n",
    "Dans cette étape, nous réalisons un **split stratifié 60/20/20** des données :\n",
    "\n",
    "- **60 %** pour l’apprentissage (`X_train`, `y_train`)  \n",
    "- **20 %** pour la validation (`X_val`, `y_val`)  \n",
    "- **20 %** pour le test final (`X_test`, `y_test`)\n",
    "\n",
    "Le découpage se fait en deux temps :\n",
    "1. Un premier `train_test_split` à 80/20 pour isoler le **jeu test** ;\n",
    "2. Un second `train_test_split` à 75/25 sur le temporaire pour séparer **train** et **validation**.\n",
    "\n",
    "On s’assure de la **stratification** par rapport à la variable cible `outcome` pour conserver la proportion d’annonces (classe minoritaire).  \n",
    "Les résultats sont également **sérialisés** dans `MODEL_DIR` pour une réutilisation ultérieure (colonnes + jeux `train.pkl`, `val.pkl`, `test.pkl`).\n",
    "\n",
    "Un résumé visuel est ensuite généré pour vérifier les répartitions des classes dans chaque ensemble.\n"
   ]
  },
  {
   "cell_type": "code",
   "execution_count": 20,
   "id": "e591fb33",
   "metadata": {
    "colab": {
     "base_uri": "https://localhost:8080/",
     "height": 132
    },
    "executionInfo": {
     "elapsed": 299,
     "status": "ok",
     "timestamp": 1752507837738,
     "user": {
      "displayName": "maoulida abdoullatuf",
      "userId": "05790302460507444417"
     },
     "user_tz": -120
    },
    "id": "e591fb33",
    "outputId": "8f32dbed-e007-4fd5-8e15-e8b704ffd964"
   },
   "outputs": [
    {
     "data": {
      "text/html": [
       "<pre style=\"white-space:pre;overflow-x:auto;line-height:normal;font-family:Menlo,'DejaVu Sans Mono',consolas,'Courier New',monospace\"><span style=\"color: #7fbfbf; text-decoration-color: #7fbfbf\">[07/14/25 22:20:29] </span><span style=\"color: #000080; text-decoration-color: #000080\">INFO    </span> KNN  | split <span style=\"color: #008080; text-decoration-color: #008080; font-weight: bold\">60</span>/<span style=\"color: #008080; text-decoration-color: #008080; font-weight: bold\">20</span>/<span style=\"color: #008080; text-decoration-color: #008080; font-weight: bold\">20</span> sauvegardé <span style=\"font-weight: bold\">(</span>cols = <span style=\"color: #008080; text-decoration-color: #008080; font-weight: bold\">498</span><span style=\"font-weight: bold\">)</span>                         <a href=\"file://C:\\Users\\aella\\AppData\\Local\\Temp\\ipykernel_26696\\1811683669.py\" target=\"_blank\"><span style=\"color: #7f7f7f; text-decoration-color: #7f7f7f\">1811683669.py</span></a><span style=\"color: #7f7f7f; text-decoration-color: #7f7f7f\">:</span><a href=\"file://C:\\Users\\aella\\AppData\\Local\\Temp\\ipykernel_26696\\1811683669.py#37\" target=\"_blank\"><span style=\"color: #7f7f7f; text-decoration-color: #7f7f7f\">37</span></a>\n",
       "</pre>\n"
      ],
      "text/plain": [
       "\u001b[2;36m[07/14/25 22:20:29]\u001b[0m\u001b[2;36m \u001b[0m\u001b[34mINFO    \u001b[0m KNN  | split \u001b[1;36m60\u001b[0m/\u001b[1;36m20\u001b[0m/\u001b[1;36m20\u001b[0m sauvegardé \u001b[1m(\u001b[0mcols = \u001b[1;36m498\u001b[0m\u001b[1m)\u001b[0m                         \u001b]8;id=848749;file://C:\\Users\\aella\\AppData\\Local\\Temp\\ipykernel_26696\\1811683669.py\u001b\\\u001b[2m1811683669.py\u001b[0m\u001b]8;;\u001b\\\u001b[2m:\u001b[0m\u001b]8;id=911527;file://C:\\Users\\aella\\AppData\\Local\\Temp\\ipykernel_26696\\1811683669.py#37\u001b\\\u001b[2m37\u001b[0m\u001b]8;;\u001b\\\n"
      ]
     },
     "metadata": {},
     "output_type": "display_data"
    },
    {
     "data": {
      "text/html": [
       "<pre style=\"white-space:pre;overflow-x:auto;line-height:normal;font-family:Menlo,'DejaVu Sans Mono',consolas,'Courier New',monospace\"><span style=\"color: #7fbfbf; text-decoration-color: #7fbfbf\">[07/14/25 22:20:32] </span><span style=\"color: #000080; text-decoration-color: #000080\">INFO    </span> MICE | split <span style=\"color: #008080; text-decoration-color: #008080; font-weight: bold\">60</span>/<span style=\"color: #008080; text-decoration-color: #008080; font-weight: bold\">20</span>/<span style=\"color: #008080; text-decoration-color: #008080; font-weight: bold\">20</span> sauvegardé <span style=\"font-weight: bold\">(</span>cols = <span style=\"color: #008080; text-decoration-color: #008080; font-weight: bold\">498</span><span style=\"font-weight: bold\">)</span>                         <a href=\"file://C:\\Users\\aella\\AppData\\Local\\Temp\\ipykernel_26696\\1811683669.py\" target=\"_blank\"><span style=\"color: #7f7f7f; text-decoration-color: #7f7f7f\">1811683669.py</span></a><span style=\"color: #7f7f7f; text-decoration-color: #7f7f7f\">:</span><a href=\"file://C:\\Users\\aella\\AppData\\Local\\Temp\\ipykernel_26696\\1811683669.py#37\" target=\"_blank\"><span style=\"color: #7f7f7f; text-decoration-color: #7f7f7f\">37</span></a>\n",
       "</pre>\n"
      ],
      "text/plain": [
       "\u001b[2;36m[07/14/25 22:20:32]\u001b[0m\u001b[2;36m \u001b[0m\u001b[34mINFO    \u001b[0m MICE | split \u001b[1;36m60\u001b[0m/\u001b[1;36m20\u001b[0m/\u001b[1;36m20\u001b[0m sauvegardé \u001b[1m(\u001b[0mcols = \u001b[1;36m498\u001b[0m\u001b[1m)\u001b[0m                         \u001b]8;id=732052;file://C:\\Users\\aella\\AppData\\Local\\Temp\\ipykernel_26696\\1811683669.py\u001b\\\u001b[2m1811683669.py\u001b[0m\u001b]8;;\u001b\\\u001b[2m:\u001b[0m\u001b]8;id=443143;file://C:\\Users\\aella\\AppData\\Local\\Temp\\ipykernel_26696\\1811683669.py#37\u001b\\\u001b[2m37\u001b[0m\u001b]8;;\u001b\\\n"
      ]
     },
     "metadata": {},
     "output_type": "display_data"
    },
    {
     "data": {
      "text/markdown": [
       "### 📊 Découpage 60 / 20 / 20 (cible = outcome)\n",
       "- **KNN** : train (1475, 498) (ads 13.97%) · val (492, 498) (ads 14.02%) · test (492, 498) (ads 14.02%)\n",
       "- **MICE** : train (1475, 498) (ads 13.97%) · val (492, 498) (ads 14.02%) · test (492, 498) (ads 14.02%)"
      ],
      "text/plain": [
       "<IPython.core.display.Markdown object>"
      ]
     },
     "metadata": {},
     "output_type": "display_data"
    }
   ],
   "source": [
    "# 4 · Split train / val / test (60-20-20) – cible = \"outcome\" ─────────────\n",
    "from sklearn.model_selection import train_test_split\n",
    "from IPython.display import Markdown, display\n",
    "import joblib, logging, pandas as pd\n",
    "\n",
    "log = logging.getLogger(__name__)\n",
    "RANDOM_STATE = 42\n",
    "split_path = paths[\"MODELS_DIR\"] / \"notebook2\"; split_path .mkdir(exist_ok=True)\n",
    "TARGET = \"outcome\"                  # ← colonne cible unique\n",
    "\n",
    "def tri_split_and_save(df: pd.DataFrame, name: str):\n",
    "    \"\"\"\n",
    "    • Split stratifié 60 / 20 / 20  (train / val / test) – cible = TARGET\n",
    "    • Sauvegarde columns + trois pickles dans MODEL_DIR\n",
    "    • Retourne un dict des sous-ensembles\n",
    "    \"\"\"\n",
    "    if TARGET not in df.columns:\n",
    "        raise KeyError(f\"La colonne cible « {TARGET} » est absente de {name}.\")\n",
    "\n",
    "    X = df.drop(columns=[TARGET])\n",
    "    y = df[TARGET].astype(int)\n",
    "\n",
    "    # 80 / 20  ➜  temp / test\n",
    "    X_temp, X_test, y_temp, y_test = train_test_split(\n",
    "        X, y, test_size=0.20, stratify=y, random_state=RANDOM_STATE\n",
    "    )\n",
    "    # 75 / 25 du temp ➜ train / val  ⇒ 60 / 20 / 20 global\n",
    "    X_train, X_val, y_train, y_val = train_test_split(\n",
    "        X_temp, y_temp, test_size=0.25, stratify=y_temp, random_state=RANDOM_STATE\n",
    "    )\n",
    "\n",
    "    cols = X_train.columns.tolist()\n",
    "    joblib.dump(cols,               split_path / f\"columns_{name}.pkl\")\n",
    "    joblib.dump({\"X\": X_train, \"y\": y_train}, split_path / f\"{name}_train.pkl\")\n",
    "    joblib.dump({\"X\": X_val,   \"y\": y_val},   split_path / f\"{name}_val.pkl\")\n",
    "    joblib.dump({\"X\": X_test,  \"y\": y_test},  split_path / f\"{name}_test.pkl\")\n",
    "    log.info(f\"{name.upper():<4} | split 60/20/20 sauvegardé (cols = {len(cols)})\")\n",
    "\n",
    "    return dict(X_train=X_train, y_train=y_train,\n",
    "                X_val=X_val,     y_val=y_val,\n",
    "                X_test=X_test,   y_test=y_test)\n",
    "\n",
    "# ── Création pour KNN & MICE ─────────────────────────────────────────────\n",
    "splits = {\n",
    "    \"knn\":  tri_split_and_save(df_knn,  \"knn\"),\n",
    "    \"mice\": tri_split_and_save(df_mice, \"mice\"),\n",
    "}\n",
    "\n",
    "# ── Résumé visuel ────────────────────────────────────────────────────────\n",
    "def split_summary(spl):\n",
    "    lines = []\n",
    "    for name, d in spl.items():\n",
    "        lines.append(\n",
    "            f\"- **{name.upper()}** : \"\n",
    "            f\"train {d['X_train'].shape} (ads {d['y_train'].mean():.2%}) · \"\n",
    "            f\"val {d['X_val'].shape} (ads {d['y_val'].mean():.2%}) · \"\n",
    "            f\"test {d['X_test'].shape} (ads {d['y_test'].mean():.2%})\"\n",
    "        )\n",
    "    display(Markdown(\"### 📊 Découpage 60 / 20 / 20 (cible = outcome)\\n\" + \"\\n\".join(lines)))\n",
    "\n",
    "split_summary(splits)\n"
   ]
  },
  {
   "cell_type": "markdown",
   "id": "c0aec3db",
   "metadata": {
    "id": "c0aec3db"
   },
   "source": [
    "## ⚙️ Construction du pipeline de prétraitement et d'équilibrage\n",
    "\n",
    "### Étapes du pipeline\n",
    "\n",
    "Pour préparer les données à la modélisation supervisée, nous construisons un pipeline modulaire combinant deux étapes clés :\n",
    "\n",
    "- **Standardisation** des variables numériques avec `StandardScaler`, afin d’homogénéiser les échelles et éviter que certaines variables ne dominent les modèles sensibles à la magnitude (SVM, rég. log, etc.).\n",
    "- **Équilibrage des classes** via `BorderlineSMOTE`, une version plus robuste de SMOTE qui génère des exemples synthétiques *en bordure* des zones de séparation, là où la classification est la plus difficile.\n",
    "\n",
    "Le pipeline est appliqué **séparément** aux datasets issus des imputations **KNN** et **MICE**.\n",
    "\n",
    "> La classe minoritaire `ad.` est artificiellement augmentée à **50 % de la classe `noad.`**, grâce à `sampling_strategy = 0.5`.  \n",
    "> L'équilibrage est effectué **après standardisation** et **uniquement sur les données d'entraînement**, pour éviter toute fuite.\n",
    "\n",
    "### ⚠️ Encapsulation dans `ImbPipeline`\n",
    "\n",
    "On encapsule le tout dans un pipeline `ImbPipeline` (`imblearn.pipeline.Pipeline`) pour garantir :\n",
    "\n",
    "- La **répétabilité** du traitement sur n’importe quel jeu (`train`, `val`, `test`) ;\n",
    "- La **séparation stricte** entre transformation des données et apprentissage des modèles.\n",
    "\n",
    "---\n",
    "\n",
    "### 🎯 Objectifs pédagogiques\n",
    "\n",
    "- Obtenir des données **centrées-réduites** prêtes pour les modèles classiques (SVM, régression logistique, etc.) ;\n",
    "- Générer des exemples synthétiques **autour des zones complexes** (bordures) pour enrichir l’apprentissage ;\n",
    "- Conserver une distribution **réaliste et maîtrisée** tout en corrigeant le déséquilibre.\n",
    "\n",
    "📈 Les effets du pipeline sont résumés dans les cellules suivantes, notamment la **répartition actualisée des classes** après application.\n"
   ]
  },
  {
   "cell_type": "markdown",
   "id": "14a3feba-22ee-4bec-a5d6-b523c77d5a8f",
   "metadata": {
    "id": "14a3feba-22ee-4bec-a5d6-b523c77d5a8f"
   },
   "source": [
    "## 🔄 Construction du pipeline complet\n",
    "\n",
    "Nous définissons ici une fonction `make_pipeline()` qui assemble un pipeline complet pour la classification :\n",
    "\n",
    "- **Standardisation**,\n",
    "- **Suréchantillonnage avec BorderlineSMOTE**,\n",
    "- **Modèle de classification** (fourni en argument).\n",
    "\n",
    "Cette structure garantit une chaîne de traitement stable, compatible avec la validation croisée, sans fuite de données.\n"
   ]
  },
  {
   "cell_type": "code",
   "execution_count": 23,
   "id": "175c733d-fa83-49ed-bd1f-cab00fe5fcd2",
   "metadata": {
    "executionInfo": {
     "elapsed": 70,
     "status": "ok",
     "timestamp": 1752507837811,
     "user": {
      "displayName": "maoulida abdoullatuf",
      "userId": "05790302460507444417"
     },
     "user_tz": -120
    },
    "id": "175c733d-fa83-49ed-bd1f-cab00fe5fcd2"
   },
   "outputs": [],
   "source": [
    "## Pipeline unifié (imputation de sécurité) + scale + BorderlineSMOTE + modèle)\n",
    "\n",
    "from imblearn.pipeline import Pipeline\n",
    "from imblearn.over_sampling import BorderlineSMOTE\n",
    "from sklearn.preprocessing import StandardScaler\n",
    "from sklearn.impute import SimpleImputer\n",
    "\n",
    "def make_pipeline(model, sampling_ratio=0.5):\n",
    "    \"\"\"\n",
    "    Pipeline complet :\n",
    "      StandardScaler ➜ BorderlineSMOTE ➜ modèle\n",
    "    \"\"\"\n",
    "    return Pipeline(steps=[\n",
    "        (\"scale\",  StandardScaler(with_mean=False)),\n",
    "        (\"smote\",  BorderlineSMOTE(\n",
    "            sampling_strategy=sampling_ratio,\n",
    "            random_state=RANDOM_STATE,\n",
    "            kind=\"borderline-1\")),\n",
    "        (\"clf\",    model),\n",
    "    ])\n"
   ]
  },
  {
   "cell_type": "markdown",
   "id": "3c05bac8",
   "metadata": {
    "id": "3c05bac8"
   },
   "source": [
    "**Pourquoi `sampling_strategy = 0.5` pour Borderline-SMOTE ?**\n",
    "\n",
    "| Option | Effet sur la répartition | Avantages | Risques |\n",
    "|--------|-------------------------|-----------|---------|\n",
    "| `sampling_strategy='auto'`<br>(50 / 50) | Multiplie par **10** les exemples `ad.` *(9 % → 50 %)* | Rappel max. | Sur-apprentissage fort, set artificiel volumineux |\n",
    "| `sampling_strategy=0.5`<br>(1 `ad.` pour 2 `noad.`) | Multiplie par **5** les `ad.` *(9 % → 33 %)* | Compromis : + de signal minoritaire sans excès | Rappel un peu plus bas (compensé ensuite par le seuil) |\n",
    "\n",
    "**Contexte STA211**\n",
    "\n",
    "* Données initiales : 9 % `ad.` / 91 % `noad.`  \n",
    "* CatBoost + `0.5` + seuil optimisé ⇒ **F1 = 0.918 (✓)**  \n",
    "* Distribution prédite réaliste : ~12 % `ad.`\n",
    "\n",
    "**Décision**  \n",
    "- **Choix par défaut : `0.5`** (rééquilibrage modéré, moins de faux patterns synthétiques).  \n",
    "- Si l’objectif devient de **maximiser le rappel** : tester `'auto'` + ajuster le seuil de décision.\n",
    "\n",
    "> En pratique :  \n",
    "> ```python\n",
    "> BorderlineSMOTE(sampling_strategy=0.5, random_state=RANDOM_STATE, kind=\"borderline-1\")\n",
    "> ```\n"
   ]
  },
  {
   "cell_type": "markdown",
   "id": "8e0fff77",
   "metadata": {
    "id": "8e0fff77"
   },
   "source": [
    "** Évaluation comparative des modèles**\n",
    "\n",
    "Nous comparons plusieurs algorithmes de classification binaire (**LogReg, RF, SVM, MLP, XGBoost…**).  \n",
    "Chaque modèle est encapsulé dans un **pipeline unique** :\n",
    "\n"
   ]
  },
  {
   "cell_type": "markdown",
   "id": "267b718d",
   "metadata": {
    "id": "267b718d"
   },
   "source": [
    "\n",
    "**Jeux testés**\n",
    "| Imputation | Entraînement | Évaluation |\n",
    "|------------|-------------|------------|\n",
    "| **KNN**  | `X_train_knn`, `y_train_knn` | `X_test_knn`, `y_test_knn` |\n",
    "| **MICE** | `X_train_mice`, `y_train_mice` | `X_test_mice`, `y_test_mice` |\n",
    "\n",
    "**Métriques suivies**\n",
    "* **F1-score** (prioritaire, classes déséquilibrées)  \n",
    "* Rappel & Précision  \n",
    "* AUC ROC\n",
    "\n",
    "**Objectifs**\n",
    "1. Mesurer l’impact KNN vs MICE sur les performances.  \n",
    "2. Quantifier le gain apporté par Borderline-SMOTE (ratio 0.8).  \n",
    "3. Sélectionner le **meilleur modèle + imputation** selon le F1, sans négliger rappel/precision.\n",
    "\n",
    "> **Note** : le pipeline se charge de l’imputation “sécurité”, de la standardisation et du sur-échantillonnage à chaque fold de validation, garantissant **zéro fuite de données**.\n"
   ]
  },
  {
   "cell_type": "markdown",
   "id": "y4dhzwkBdKtU",
   "metadata": {
    "id": "y4dhzwkBdKtU"
   },
   "source": [
    "\n",
    "### 🔧 Définition des grilles d’hyperparamètres & fonction d’évaluation renforcée\n",
    "\n",
    "Dans cette section, nous définissons une **stratégie d’optimisation anti-overfitting** des modèles :\n",
    "\n",
    "**🎯 Objectif principal**\n",
    "\n",
    "> **Réduire l’écart entre score validation et test final**  \n",
    "> (ex. : passer de un F1 de 0.94 en validation à un F1 > 0.90 sur le test)\n",
    "\n",
    "---\n",
    "\n",
    "**⚙️ Étapes techniques**\n",
    "\n",
    "1. **Définition de grilles spécifiques** pour chaque modèle  \n",
    "   → Plus **conservatrices**, **régularisées**, moins profondes / moins d’arbres / moins de paramètres extrêmes.\n",
    "\n",
    "2. **Modèles concernés** :  \n",
    "   - LogReg, Decision Tree, Random Forest  \n",
    "   - KNN, SVM, MLP, XGBoost\n",
    "\n",
    "3. **Ensemble des grilles stockées** dans `hyperparam_grids.json`.\n",
    "\n",
    "4. **Validation croisée renforcée** :  \n",
    "   - `StratifiedKFold(n_splits=5)`  \n",
    "   - Peut être étendue à 10-fold si besoin\n",
    "\n",
    "5. **Fonction `evaluate_model()` personnalisée** :  \n",
    "   - Utilise `GridSearchCV`  \n",
    "   - Évalue les performances sur **validation** ET **test**  \n",
    "   - Calcule l’écart de généralisation : `gap = F1_CV - F1_test`  \n",
    "   - Détecte les cas d’overfitting via seuils sur `gap`\n",
    "\n",
    "---\n",
    "\n",
    "Cette structure permet de **tester chaque modèle de façon équitable et robuste**, tout en conservant une traçabilité complète des hyperparamètres et performances.\n"
   ]
  },
  {
   "cell_type": "markdown",
   "id": "80c2e3ac-7f7b-43b7-8bf6-503f13ce8953",
   "metadata": {
    "id": "80c2e3ac-7f7b-43b7-8bf6-503f13ce8953"
   },
   "source": [
    "⚖️ **Effet de BorderlineSMOTE sur la distribution**\n",
    "\n",
    "La méthode `BorderlineSMOTE` permet de **rééquilibrer partiellement** les classes en générant des exemples synthétiques de la classe minoritaire (`ad.`).\n",
    "\n",
    "Nous comparons ici :\n",
    "- La distribution **avant SMOTE**,\n",
    "- Et **après rééchantillonnage**.\n",
    "\n",
    "Objectif : obtenir un **compromis réaliste**, sans sur-apprentissage.\n"
   ]
  },
  {
   "cell_type": "code",
   "execution_count": 29,
   "id": "89020f11-b2e7-4d34-9dbf-8f5a4ac157bc",
   "metadata": {
    "colab": {
     "base_uri": "https://localhost:8080/",
     "height": 429
    },
    "executionInfo": {
     "elapsed": 2062,
     "status": "ok",
     "timestamp": 1752507839828,
     "user": {
      "displayName": "maoulida abdoullatuf",
      "userId": "05790302460507444417"
     },
     "user_tz": -120
    },
    "id": "89020f11-b2e7-4d34-9dbf-8f5a4ac157bc",
    "outputId": "34a631d2-8c49-4ba6-b2f5-8cbafa7670b9"
   },
   "outputs": [
    {
     "data": {
      "image/png": "[encoded data removed]",
      "text/plain": [
       "<Figure size 800x400 with 2 Axes>"
      ]
     },
     "metadata": {},
     "output_type": "display_data"
    },
    {
     "data": {
      "text/html": [
       "<pre style=\"white-space:pre;overflow-x:auto;line-height:normal;font-family:Menlo,'DejaVu Sans Mono',consolas,'Courier New',monospace\"><span style=\"color: #7fbfbf; text-decoration-color: #7fbfbf\">[07/14/25 22:20:40] </span><span style=\"color: #000080; text-decoration-color: #000080\">INFO    </span> 📊 Graphe SMOTE sauvegardé → smote_effect_knn.png                     <a href=\"file://C:\\Users\\aella\\AppData\\Local\\Temp\\ipykernel_26696\\3760322608.py\" target=\"_blank\"><span style=\"color: #7f7f7f; text-decoration-color: #7f7f7f\">3760322608.py</span></a><span style=\"color: #7f7f7f; text-decoration-color: #7f7f7f\">:</span><a href=\"file://C:\\Users\\aella\\AppData\\Local\\Temp\\ipykernel_26696\\3760322608.py#35\" target=\"_blank\"><span style=\"color: #7f7f7f; text-decoration-color: #7f7f7f\">35</span></a>\n",
       "</pre>\n"
      ],
      "text/plain": [
       "\u001b[2;36m[07/14/25 22:20:40]\u001b[0m\u001b[2;36m \u001b[0m\u001b[34mINFO    \u001b[0m 📊 Graphe SMOTE sauvegardé → smote_effect_knn.png                     \u001b]8;id=107175;file://C:\\Users\\aella\\AppData\\Local\\Temp\\ipykernel_26696\\3760322608.py\u001b\\\u001b[2m3760322608.py\u001b[0m\u001b]8;;\u001b\\\u001b[2m:\u001b[0m\u001b]8;id=97251;file://C:\\Users\\aella\\AppData\\Local\\Temp\\ipykernel_26696\\3760322608.py#35\u001b\\\u001b[2m35\u001b[0m\u001b]8;;\u001b\\\n"
      ]
     },
     "metadata": {},
     "output_type": "display_data"
    }
   ],
   "source": [
    "# AVANT SMOTE\n",
    "fig, axes = plt.subplots(1, 2, figsize=(8, 4), sharey=True)\n",
    "\n",
    "df_before = splits[\"knn\"][\"y_train\"]\n",
    "sns.countplot(x=df_before, palette=\"Set2\", ax=axes[0])\n",
    "axes[0].set_xticklabels([\"noad.\", \"ad.\"])\n",
    "axes[0].set_title(\"Avant SMOTE\")\n",
    "\n",
    "# APRÈS SMOTE (en supposant que tu as fait fit_resample)\n",
    "from collections import Counter\n",
    "from imblearn.over_sampling import BorderlineSMOTE\n",
    "from sklearn.preprocessing import StandardScaler\n",
    "from sklearn.impute import SimpleImputer\n",
    "\n",
    "X_raw = splits[\"knn\"][\"X_train\"]\n",
    "y_raw = splits[\"knn\"][\"y_train\"]\n",
    "\n",
    "pipe = Pipeline([\n",
    "    (\"imp\", SimpleImputer(strategy=\"median\")),\n",
    "    (\"scale\", StandardScaler(with_mean=False)),\n",
    "    (\"smote\", BorderlineSMOTE(sampling_strategy=0.8, random_state=RANDOM_STATE))\n",
    "])\n",
    "X_res, y_res = pipe.fit_resample(X_raw, y_raw)\n",
    "\n",
    "sns.countplot(x=y_res, palette=\"Set2\", ax=axes[1])\n",
    "axes[1].set_xticklabels([\"noad.\", \"ad.\"])\n",
    "axes[1].set_title(\"Après BorderlineSMOTE\")\n",
    "\n",
    "fig.suptitle(\"Distribution avant / après SMOTE\", fontsize=12)\n",
    "fig.tight_layout(rect=[0, 0, 1, 0.92])\n",
    "fig_path = FIGURES_DIR / \"figures_notebook2\"/ \"smote_effect_knn.png\"\n",
    "fig.savefig(fig_path, dpi=150)\n",
    "plt.show()\n",
    "\n",
    "log.info(f\"📊 Graphe SMOTE sauvegardé → {fig_path.name}\")\n"
   ]
  },
  {
   "cell_type": "code",
   "execution_count": 30,
   "id": "58c9e6ce-f43d-4682-b921-77dc2d0bfb09",
   "metadata": {
    "executionInfo": {
     "elapsed": 4,
     "status": "ok",
     "timestamp": 1752507839829,
     "user": {
      "displayName": "maoulida abdoullatuf",
      "userId": "05790302460507444417"
     },
     "user_tz": -120
    },
    "id": "58c9e6ce-f43d-4682-b921-77dc2d0bfb09"
   },
   "outputs": [],
   "source": [
    "from sklearn.linear_model import LogisticRegression\n",
    "from sklearn.ensemble import GradientBoostingClassifier\n",
    "from sklearn.ensemble import RandomForestClassifier\n",
    "from sklearn.svm import SVC\n",
    "from sklearn.neural_network import MLPClassifier\n",
    "import xgboost as xgb\n",
    "import json, logging\n",
    "\n",
    "log = logging.getLogger(__name__)\n",
    "RANDOM_STATE = 42"
   ]
  },
  {
   "cell_type": "code",
   "execution_count": 31,
   "id": "fb36a3bf-2a7f-4fe2-b26a-12a48677e911",
   "metadata": {
    "colab": {
     "base_uri": "https://localhost:8080/",
     "height": 52
    },
    "executionInfo": {
     "elapsed": 41,
     "status": "ok",
     "timestamp": 1752507839867,
     "user": {
      "displayName": "maoulida abdoullatuf",
      "userId": "05790302460507444417"
     },
     "user_tz": -120
    },
    "id": "fb36a3bf-2a7f-4fe2-b26a-12a48677e911",
    "outputId": "5d675697-8f08-43cd-fe5b-70f7e4a9b117"
   },
   "outputs": [
    {
     "data": {
      "text/html": [
       "<pre style=\"white-space:pre;overflow-x:auto;line-height:normal;font-family:Menlo,'DejaVu Sans Mono',consolas,'Courier New',monospace\"><span style=\"color: #7fbfbf; text-decoration-color: #7fbfbf\">                    </span><span style=\"color: #000080; text-decoration-color: #000080\">INFO    </span> ✅ Grilles d'hyper-paramètres anti-overfitting sauvegardées dans      <a href=\"file://C:\\Users\\aella\\AppData\\Local\\Temp\\ipykernel_26696\\2819300799.py\" target=\"_blank\"><span style=\"color: #7f7f7f; text-decoration-color: #7f7f7f\">2819300799.py</span></a><span style=\"color: #7f7f7f; text-decoration-color: #7f7f7f\">:</span><a href=\"file://C:\\Users\\aella\\AppData\\Local\\Temp\\ipykernel_26696\\2819300799.py#63\" target=\"_blank\"><span style=\"color: #7f7f7f; text-decoration-color: #7f7f7f\">63</span></a>\n",
       "<span style=\"color: #7fbfbf; text-decoration-color: #7fbfbf\">                    </span>         MODELS_DIR                                                            <span style=\"color: #7f7f7f; text-decoration-color: #7f7f7f\">                </span>\n",
       "</pre>\n"
      ],
      "text/plain": [
       "\u001b[2;36m                   \u001b[0m\u001b[2;36m \u001b[0m\u001b[34mINFO    \u001b[0m ✅ Grilles d'hyper-paramètres anti-overfitting sauvegardées dans      \u001b]8;id=277370;file://C:\\Users\\aella\\AppData\\Local\\Temp\\ipykernel_26696\\2819300799.py\u001b\\\u001b[2m2819300799.py\u001b[0m\u001b]8;;\u001b\\\u001b[2m:\u001b[0m\u001b]8;id=846335;file://C:\\Users\\aella\\AppData\\Local\\Temp\\ipykernel_26696\\2819300799.py#63\u001b\\\u001b[2m63\u001b[0m\u001b]8;;\u001b\\\n",
       "\u001b[2;36m                    \u001b[0m         MODELS_DIR                                                            \u001b[2m                \u001b[0m\n"
      ]
     },
     "metadata": {},
     "output_type": "display_data"
    }
   ],
   "source": [
    "# === GRILLES ANTI-OVERFITTING ===\n",
    "# Objectif : Réduire l'écart validation/test (0.9394 → 0.88)\n",
    "\n",
    "# 1. Gradient Boosting\n",
    "gradboost_params = {\n",
    "    \"clf__n_estimators\": [50, 100, 200],\n",
    "    \"clf__max_depth\": [3, 4, 5],\n",
    "    \"clf__learning_rate\": [0.05, 0.1],\n",
    "    \"clf__min_samples_split\": [10, 20],\n",
    "    \"clf__min_samples_leaf\": [5, 10],\n",
    "    \"clf__subsample\": [0.7, 0.8]\n",
    "}\n",
    "\n",
    "# 2. Random Forest - BEAUCOUP PLUS CONSERVATEUR\n",
    "rf_params = {\n",
    "    \"clf__n_estimators\": [50, 100, 200],    # Moins d'arbres\n",
    "    \"clf__max_depth\": [5, 10, 15],          # Profondeur limitée (vs None)\n",
    "    \"clf__min_samples_split\": [10, 20],     # Plus strict (vs 2)\n",
    "    \"clf__min_samples_leaf\": [5, 10],       # Feuilles plus grosses (vs 1)\n",
    "    \"clf__max_features\": [\"sqrt\", \"log2\"],   # Retrait \"None\" qui overfitte\n",
    "}\n",
    "\n",
    "# 3. SVM - Plus de régularisation\n",
    "svc_params = {\n",
    "    \"clf__C\": [0.1, 1, 10],                # Moins de valeurs extrêmes\n",
    "    \"clf__kernel\": [\"rbf\", \"linear\"],       # Retrait poly (complexe)\n",
    "    \"clf__gamma\": [\"scale\", \"auto\"],        # Retrait valeurs numériques\n",
    "}\n",
    "\n",
    "# 4. MLP - Architectures plus simples\n",
    "mlp_params = {\n",
    "    \"clf__hidden_layer_sizes\": [(50,), (100,)],  # Plus simple\n",
    "    \"clf__activation\": [\"relu\", \"tanh\"],          # Retrait logistic\n",
    "    \"clf__alpha\": [1e-3, 1e-2, 1e-1],           # Plus de régularisation\n",
    "    \"clf__learning_rate\": [\"constant\", \"adaptive\"],\n",
    "    \"clf__solver\": [\"adam\"],                      # Plus stable que sgd\n",
    "}\n",
    "\n",
    "# 5. XGBoost - Régularisation renforcée\n",
    "xgb_params = {\n",
    "    \"clf__n_estimators\": [50, 100, 200],        #  Moins d'arbres\n",
    "    \"clf__max_depth\": [3, 4, 5],                # Moins profond (vs 8)\n",
    "    \"clf__learning_rate\": [0.05, 0.1, 0.15],    # Plus conservateur\n",
    "    \"clf__subsample\": [0.7, 0.8],               # Sous-échantillonnage\n",
    "    \"clf__colsample_bytree\": [0.7, 0.8],        # Idem pour features\n",
    "    \"clf__reg_lambda\": [1, 5, 10],              # 🔧 Plus de régularisation L2\n",
    "    \"clf__reg_alpha\": [0, 1, 5],                # Ajout régularisation L1\n",
    "    \"clf__scale_pos_weight\": [1, 5, 10],        # Pour déséquilibre\n",
    "}\n",
    "\n",
    "# Dictionnaire mis à jour (sans Decision Tree et KNN)\n",
    "param_grids = {\n",
    "    \"GradBoost\": gradboost_params,\n",
    "    \"RandForest\": rf_params,\n",
    "    \"SVM\": svc_params,\n",
    "    \"MLP\": mlp_params,\n",
    "    \"XGBoost\": xgb_params,\n",
    "}\n",
    "\n",
    "# Sauvegarde pour référence\n",
    "with open(paths[\"MODELS_DIR\"] / \"notebook2\" / \"hyperparam_grids.json\", \"w\") as f:\n",
    "    json.dump(param_grids, f, indent=2)\n",
    "log.info(\"✅ Grilles d'hyper-paramètres anti-overfitting sauvegardées dans MODELS_DIR\")"
   ]
  },
  {
   "cell_type": "code",
   "execution_count": 32,
   "id": "1d48ec0a-b4eb-420b-b119-2b54bce02f1b",
   "metadata": {
    "executionInfo": {
     "elapsed": 12,
     "status": "ok",
     "timestamp": 1752507839881,
     "user": {
      "displayName": "maoulida abdoullatuf",
      "userId": "05790302460507444417"
     },
     "user_tz": -120
    },
    "id": "1d48ec0a-b4eb-420b-b119-2b54bce02f1b"
   },
   "outputs": [],
   "source": [
    "# dictionnaire final des modèles de base (sans class_weight : SMOTE s'en charge)\n",
    "models = {\n",
    "    \"GradBoost\": GradientBoostingClassifier(random_state=RANDOM_STATE),\n",
    "    \"RandForest\": RandomForestClassifier(random_state=RANDOM_STATE, n_jobs=-1),\n",
    "    \"SVM\": SVC(probability=True, random_state=RANDOM_STATE),\n",
    "    \"MLP\": MLPClassifier(max_iter=500, random_state=RANDOM_STATE),\n",
    "    \"XGBoost\": xgb.XGBClassifier(\n",
    "        use_label_encoder=False, eval_metric=\"logloss\",\n",
    "        random_state=RANDOM_STATE, n_jobs=-1),\n",
    "}"
   ]
  },
  {
   "cell_type": "markdown",
   "id": "204ce080-b8d8-4df4-b761-fcfe55bb694f",
   "metadata": {
    "id": "204ce080-b8d8-4df4-b761-fcfe55bb694f"
   },
   "source": [
    "## 🧪 Fonction d’évaluation et de sélection des modèles\n",
    "\n",
    "Cette fonction `evaluate_model()` encapsule une procédure complète d’évaluation avec les objectifs suivants :\n",
    "\n",
    "### ⚙️ Étapes de l’évaluation\n",
    "\n",
    "- Utilisation de `GridSearchCV` pour rechercher les meilleurs hyperparamètres via une validation croisée **stratifiée à 5 plis** (possibilité de passer à 10 plis).\n",
    "- Entraînement d’un **pipeline complet** (prétraitement + suréchantillonnage + modèle).\n",
    "- Évaluation des performances sur :\n",
    "  - **validation croisée** (`F1_CV`)\n",
    "  - **test final** (`F1_test`)\n",
    "- Comparaison des deux via un indicateur d’**overfitting** : `gap = F1_CV - F1_test`\n",
    "\n",
    "### 📊 Métriques enregistrées\n",
    "\n",
    "- F1-score binaire (priorité à la classe `ad.`)\n",
    "- F1-score pondéré (tenue compte du déséquilibre)\n",
    "- AUC (si `predict_proba` disponible)\n",
    "- Précision / rappel\n",
    "- Matrice de confusion\n",
    "\n",
    "### 🎯 Objectifs\n",
    "\n",
    "- Identifier le meilleur modèle pour chaque jeu de données (`knn`, `mice`),\n",
    "- **Minimiser le sur-apprentissage** tout en maintenant un F1 élevé,\n",
    "- Sauvegarder tous les résultats dans `MODELS_DIR` pour les étapes suivantes (stacking, explicabilité, soumission...).\n"
   ]
  },
  {
   "cell_type": "code",
   "execution_count": 34,
   "id": "256c5b22",
   "metadata": {
    "executionInfo": {
     "elapsed": 41,
     "status": "ok",
     "timestamp": 1752507839956,
     "user": {
      "displayName": "maoulida abdoullatuf",
      "userId": "05790302460507444417"
     },
     "user_tz": -120
    },
    "id": "256c5b22"
   },
   "outputs": [],
   "source": [
    "# 5.1.2\n",
    "\n",
    "# === VALIDATION CROISÉE RENFORCÉE + FONCTIONS D'ÉVALUATION ===\n",
    "from sklearn.model_selection import GridSearchCV, StratifiedKFold\n",
    "from sklearn.metrics import (\n",
    "    f1_score, precision_score, recall_score, roc_auc_score, confusion_matrix\n",
    ")\n",
    "import pandas as pd, joblib, seaborn as sns, matplotlib.pyplot as plt, logging, json\n",
    "\n",
    "log = logging.getLogger(__name__)\n",
    "\n",
    "#Validation croisée renforcée (10-fold au lieu de 5)\n",
    "CV = StratifiedKFold(n_splits=10, shuffle=True, random_state=RANDOM_STATE)\n",
    "\n",
    "# 🔧 Suppression des warnings XGBoost\n",
    "import warnings\n",
    "warnings.filterwarnings('ignore', category=UserWarning, module='xgboost')\n",
    "\n",
    "# === OBJECTIF CIBLE ===\n",
    "# Réduire le gap validation/test de 0.06 à < 0.02\n",
    "# Score test cible : > 0.90 (au lieu de 0.88)\n",
    "\n",
    "# ──────────────────────────────────────────────────────────────────────────\n",
    "def _plot_cm_with_metrics(y_true, y_pred, y_proba,\n",
    "                          title=\"Confusion Matrix\", plot=True) -> dict:\n",
    "    \"\"\"Affiche (optionnel) une matrice compacte + métriques, retourne les scores.\"\"\"\n",
    "    f1_bin = f1_score(y_true, y_pred, zero_division=0)\n",
    "    prec   = precision_score(y_true, y_pred, zero_division=0)\n",
    "    rec    = recall_score(y_true, y_pred, zero_division=0)\n",
    "    auc    = roc_auc_score(y_true, y_proba) if y_proba is not None else None\n",
    "\n",
    "    if plot:\n",
    "        cm = confusion_matrix(y_true, y_pred)\n",
    "        plt.figure(figsize=(4, 3))\n",
    "        sns.heatmap(cm, annot=True, fmt=\"d\", cmap=\"Blues\", cbar=False)\n",
    "        subtitle = f\"F1={f1_bin:.3f} · P={prec:.3f} · R={rec:.3f}\"\n",
    "        if auc is not None:\n",
    "            subtitle += f\" · AUC={auc:.3f}\"\n",
    "        plt.title(f\"{title}\\n{subtitle}\", pad=20)\n",
    "        plt.xlabel(\"Prédit\"); plt.ylabel(\"Réel\")\n",
    "        plt.tight_layout(); plt.show()\n",
    "\n",
    "    return dict(f1_binary=f1_bin, precision=prec, recall=rec, auc=auc)\n",
    "\n",
    "# ──────────────────────────────────────────────────────────────────────────\n",
    "def evaluate_model(name: str, base_model, param_grid: dict,\n",
    "                   X_tr, y_tr, X_te, y_te, dataset: str,\n",
    "                   plot_cm: bool = True):\n",
    "    \"\"\"\n",
    "    GridSearchCV → meilleur pipeline.\n",
    "    Affiche (facultatif) la matrice de confusion sur X_te / y_te\n",
    "    et renvoie (pipeline, métriques).\n",
    "    Version améliorée avec surveillance de l'overfitting.\n",
    "    \"\"\"\n",
    "    pipe = make_pipeline(base_model)\n",
    "    gs   = GridSearchCV(pipe, param_grid, scoring=\"f1\",\n",
    "                        cv=CV, n_jobs=-1, verbose=0).fit(X_tr, y_tr)\n",
    "\n",
    "    best   = gs.best_estimator_\n",
    "    y_pred = best.predict(X_te)\n",
    "    y_prob = best.predict_proba(X_te)[:, 1] if hasattr(best, \"predict_proba\") else None\n",
    "\n",
    "    metrics = _plot_cm_with_metrics(\n",
    "        y_te, y_pred, y_prob,\n",
    "        title=f\"{name} ({dataset})\", plot=plot_cm\n",
    "    )\n",
    "\n",
    "    # 🔧 NOUVEAU : Calcul de l'écart validation/test pour surveiller l'overfitting\n",
    "    f1_cv = gs.best_score_\n",
    "    f1_test = metrics[\"f1_binary\"]\n",
    "    gap = f1_cv - f1_test\n",
    "\n",
    "    metrics.update({\n",
    "        \"model\": name,\n",
    "        \"dataset\": dataset,\n",
    "        \"f1_weighted\": f1_score(y_te, y_pred, average=\"weighted\"),\n",
    "        \"best_params\": gs.best_params_,\n",
    "        \"f1_cv\": round(f1_cv, 4),      # Score validation croisée\n",
    "        \"gap\": round(gap, 4),          # Écart CV/test (indicateur overfitting)\n",
    "    })\n",
    "\n",
    "    # 🔧 NOUVEAU : Affichage enrichi avec surveillance de l'overfitting\n",
    "    print(f\"📊 {name} ({dataset}): F1_CV={f1_cv:.3f}, F1_test={f1_test:.3f}, Gap={gap:.3f}\")\n",
    "    if gap > 0.05:\n",
    "        print(f\"⚠️  Overfitting détecté (gap > 0.05)\")\n",
    "    elif gap > 0.03:\n",
    "        print(f\"🔶 Léger overfitting (gap > 0.03)\")\n",
    "    else:\n",
    "        print(f\"✅ Bonne généralisation (gap ≤ 0.03)\")\n",
    "\n",
    "    # ⬇️ Sauvegardes\n",
    "    joblib.dump(best, MODELS_DIR / \"notebook2\" / f\"best_{name.lower()}_{dataset}.joblib\")\n",
    "    with open(MODELS_DIR / \"notebook2\" / f\"best_params_{name.lower()}_{dataset}.json\", \"w\") as f:\n",
    "        json.dump(gs.best_params_, f, indent=2)\n",
    "\n",
    "    return best, metrics\n",
    "\n",
    "# ──────────────────────────────────────────────────────────────────────────\n",
    "def evaluate_all(models_dict, grids_dict,\n",
    "                 X_tr, y_tr, X_te, y_te, dataset: str,\n",
    "                 plot_cm: bool = True) -> pd.DataFrame:\n",
    "    \"\"\"Boucle d'évaluation – renvoie un DataFrame trié sur F1 binaire.\"\"\"\n",
    "    records, best_pipelines = [], {}\n",
    "\n",
    "    print(f\"Évaluation sur {dataset} avec CV={CV.n_splits}-fold\")\n",
    "    print(\"=\" * 60)\n",
    "\n",
    "    for name, base_model in models_dict.items():\n",
    "        print(f\" {name} ({dataset})\")\n",
    "        best, rec = evaluate_model(\n",
    "            name, base_model, grids_dict[name],\n",
    "            X_tr, y_tr, X_te, y_te, dataset,\n",
    "            plot_cm=plot_cm\n",
    "        )\n",
    "        records.append(rec); best_pipelines[name] = best\n",
    "\n",
    "    df = (pd.DataFrame(records)\n",
    "            .sort_values(\"f1_binary\", ascending=False)\n",
    "            .reset_index(drop=True))\n",
    "\n",
    "    # 🔧 NOUVEAU : Affichage enrichi avec métriques d'overfitting\n",
    "    fmt = {c: \"{:.4f}\" for c in [\"f1_binary\", \"precision\", \"recall\", \"auc\", \"f1_cv\", \"gap\"] if c in df}\n",
    "    display(df.style.format(fmt, na_rep=\"—\")\n",
    "                  .background_gradient(subset=[\"f1_binary\"], cmap=\"Greens\")\n",
    "                  .background_gradient(subset=[\"gap\"], cmap=\"Reds_r\"))  # Rouge pour gap élevé\n",
    "\n",
    "    # 🔧 NOUVEAU : Résumé de l'overfitting\n",
    "    print(f\"\\n📊 RÉSUMÉ DE L'OVERFITTING ({dataset}):\")\n",
    "    print(\"-\" * 40)\n",
    "    for _, row in df.iterrows():\n",
    "        gap = row.get('gap', 0)\n",
    "        if gap > 0.05:\n",
    "            status = \"⚠️  OVERFITTING\"\n",
    "        elif gap > 0.03:\n",
    "            status = \"LÉGER OVERFITTING\"\n",
    "        else:\n",
    "            status = \"✅ BONNE GÉNÉRALISATION\"\n",
    "        print(f\"  {row['model']}: gap={gap:.3f} → {status}\")\n",
    "\n",
    "    return df, best_pipelines"
   ]
  },
  {
   "cell_type": "markdown",
   "id": "29a41379",
   "metadata": {
    "id": "29a41379"
   },
   "source": [
    "## Optimisation des hyperparamètres & évaluation\n",
    "\n",
    "* **GridSearchCV 10-plis** (score : F1) lancé **séparément** sur :\n",
    "  * jeu imputé **KNN**  \n",
    "  * jeu imputé **MICE**\n",
    "\n",
    "* Pour chaque meilleur pipeline :\n",
    "  * évaluation finale sur le test interne\n",
    "  * métriques enregistrées : **F1 (binaire & pondéré)**, précision, rappel, **AUC** (si dispo), matrice de confusion\n",
    "\n",
    "| Objectif | Pourquoi ? |\n",
    "|----------|------------|\n",
    "| **Comparer KNN vs MICE** | mesure directe de l’impact de l’imputation |\n",
    "| **Mesurer la généralisation** | test interne jamais vu en CV |\n",
    "| **Identifier le duo gagnant** | modèle + imputation offrant le F1 le plus élevé et un rappel satisfaisant |\n",
    "\n",
    "> Tous les pipelines gagnants et leurs paramètres sont sauvegardés dans `MODELS_DIR` pour les étapes suivantes (seuil optimisé, prédictions finales).\n"
   ]
  },
  {
   "cell_type": "markdown",
   "id": "58471e0c-2955-442e-9bbe-c051fbf68eba",
   "metadata": {
    "id": "58471e0c-2955-442e-9bbe-c051fbf68eba"
   },
   "source": [
    "### 🧪 Évaluation des modèles sur les données KNN (avec outliers)\n",
    "\n",
    "Nous utilisons ici la fonction `evaluate_all()` pour entraîner et évaluer tous les modèles (LogReg, RF, XGB, etc.) sur les **données issues de l’imputation KNN**, avec outliers conservés.\n",
    "\n",
    "- La recherche d’hyperparamètres se fait via `GridSearchCV` avec validation croisée stratifiée.\n",
    "- Les performances sont calculées sur le **jeu de validation** (`20 %`) uniquement.\n",
    "\n",
    "Les résultats sont :\n",
    "- Collectés dans un DataFrame `df_knn_val`,\n",
    "- Sauvegardés sous forme de fichier CSV et JSON dans le dossier `MODELS_DIR`.\n",
    "\n",
    "📌 Les heatmaps de matrices de confusion sont désactivées pour accélérer le traitement en boucle (`plot_cm=False`).\n"
   ]
  },
  {
   "cell_type": "code",
   "execution_count": null,
   "id": "376722f9-639d-4d9f-b2f8-48421885cbfb",
   "metadata": {
    "colab": {
     "base_uri": "https://localhost:8080/",
     "height": 426
    },
    "executionInfo": {
     "elapsed": 1257534,
     "status": "error",
     "timestamp": 1752509097492,
     "user": {
      "displayName": "maoulida abdoullatuf",
      "userId": "05790302460507444417"
     },
     "user_tz": -120
    },
    "id": "376722f9-639d-4d9f-b2f8-48421885cbfb",
    "outputId": "5680838b-603f-47d4-c2e4-736e63e28e1c"
   },
   "outputs": [
    {
     "name": "stdout",
     "output_type": "stream",
     "text": [
      "Évaluation sur knn avec CV=10-fold\n",
      "============================================================\n",
      " GradBoost (knn)\n",
      "📊 GradBoost (knn): F1_CV=0.906, F1_test=0.916, Gap=-0.010\n",
      "✅ Bonne généralisation (gap ≤ 0.03)\n",
      " RandForest (knn)\n",
      "📊 RandForest (knn): F1_CV=0.895, F1_test=0.923, Gap=-0.028\n",
      "✅ Bonne généralisation (gap ≤ 0.03)\n",
      " SVM (knn)\n",
      "📊 SVM (knn): F1_CV=0.829, F1_test=0.870, Gap=-0.040\n",
      "✅ Bonne généralisation (gap ≤ 0.03)\n",
      " MLP (knn)\n"
     ]
    }
   ],
   "source": [
    "### Évaluation sur données KNN\n",
    "\n",
    "df_knn_val, best_knn_pipes = evaluate_all(\n",
    "    models, param_grids,\n",
    "    splits[\"knn\"][\"X_train\"], splits[\"knn\"][\"y_train\"],      # TRAIN\n",
    "    splits[\"knn\"][\"X_val\"],   splits[\"knn\"][\"y_val\"],        # VAL\n",
    "    dataset=\"knn\", plot_cm=False        # ↓ on peut couper les heatmaps en boucle\n",
    ")\n",
    "\n",
    "# === Sauvegarde des résultats globaux d'évaluation pour KNN ==============\n",
    "\n",
    "# 1. Sauvegarder le tableau résumé (résultats sur validation)\n",
    "df_knn_val.to_csv(MODELS_DIR / \"notebook2\" / \"eval_knn_val_scores.csv\", index=False)\n",
    "\n",
    "# 2. Sauvegarder aussi en JSON (utile pour log ou inspection future)\n",
    "df_knn_val.to_json(MODELS_DIR / \"notebook2\" / \"eval_knn_val_scores.json\", orient=\"records\", indent=2)\n",
    "\n",
    "# Sauvegarder les pipelines optimaux\n",
    "print(\"\\n💾 Sauvegarde des pipelines optimaux KNN...\")\n",
    "for name, pipeline in best_knn_pipes.items():\n",
    "    pipeline_path = MODELS_DIR / \"notebook2\" / f\"pipeline_{name.lower()}_knn.joblib\"\n",
    "    joblib.dump(pipeline, pipeline_path)\n",
    "    print(f\"  ✅ {name}: {pipeline_path.name}\")\n",
    "\n",
    "# Sauvegarder un dictionnaire des pipelines\n",
    "pipelines_dict = {\n",
    "    name: str(MODELS_DIR / \"notebook2\" / f\"pipeline_{name.lower()}_knn.joblib\")\n",
    "    for name in best_knn_pipes.keys()\n",
    "}\n",
    "with open(MODELS_DIR / \"notebook2\" / \"best_knn_pipelines.json\", \"w\") as f:\n",
    "    json.dump(pipelines_dict, f, indent=2)\n",
    "\n",
    "log.info(\"✅ Résultats d'évaluation KNN sauvegardés : CSV + JSON + Pipelines\")"
   ]
  },
  {
   "cell_type": "markdown",
   "id": "656c2960-0557-4eb6-b7be-67272eb9a539",
   "metadata": {
    "id": "656c2960-0557-4eb6-b7be-67272eb9a539"
   },
   "source": [
    "📊 Analyse des résultats — Données KNN\n",
    "\n",
    "Hiérarchie des modèles (F1-score test)\n",
    "\n",
    "| Rang | Modèle        | F1-score | Gap CV/Test | Point fort                                  |\n",
    "|------|---------------|----------|-------------|---------------------------------------------|\n",
    "| 1    | XGBoost       | **0.9160** | +0.010     | Performance optimale + stabilité            |\n",
    "| 2    | Random Forest | **0.9008** | -0.019     | Robustesse + généralisation excellente     |\n",
    "| 3    | Logistic Reg  | **0.8788** | +0.015     | Simplicité + régularisation L1 efficace    |\n",
    "| 4    | SVM           | **0.8633** | -0.045     | Linéaire performant + CV conservateur      |\n",
    "| 5    | MLP           | **0.8369** | +0.016     | Réseau de neurones stable                  |\n",
    "\n",
    "---\n",
    "\n",
    "🔍 Observations importantes\n",
    "\n",
    "- **XGBoost** domine avec un **F1-score de 0.916** et une **généralisation parfaite** (gap=0.010).\n",
    "- **Random Forest** : **généralisation excellente** (gap=-0.019) = modèle très robuste.\n",
    "- **Tous les modèles** ont un **gap ≤ 0.03** = **généralisation excellente**.\n",
    "- **SVM linéaire** surperforme grâce à la **haute dimension** (654 variables).\n",
    "- **Régression logistique L1** très efficace : **simplicité + performance**.\n",
    "\n",
    "---\n",
    "\n",
    "⚖️ Compromis précision / rappel\n",
    "\n",
    "Analyse du modèle XGBoost (KNN) :\n",
    "\n",
    "- **Précision** = 0.9677 → très peu de fausses pubs prédites à tort (conservatisme).\n",
    "- **Rappel**     = 0.8696 → détecte 87 % des vraies publicités.\n",
    "- **AUC**        = 0.9778 → excellente capacité discriminative.\n",
    "\n",
    "🎯 **Stratégie conservative optimale** : mieux vaut **rater quelques pubs** que de **mal classer des non-pubs** comme des pubs.\n",
    "\n",
    "---\n",
    "\n",
    "🛡️ Anti-overfitting réussi\n",
    "\n",
    "- **Gap moyen** : 0.003 (excellent)\n",
    "- **CV 10-fold** : Validation robuste\n",
    "- **Hyperparamètres conservateurs** : Évite l'overfitting\n",
    "- **Généralisation parfaite** : Tous les modèles ≤ 0.03\n",
    "\n",
    "✅ **Objectifs atteints** : Gap < 0.02 et Score > 0.90"
   ]
  },
  {
   "cell_type": "markdown",
   "id": "b3b1a39b",
   "metadata": {
    "id": "b3b1a39b"
   },
   "source": [
    "----\n",
    "### 🧪 Évaluation des modèles sur les données MICE (avec outliers)\n",
    "\n",
    "Nous réutilisons ici la fonction `evaluate_all()` pour entraîner et évaluer tous les modèles sur les **données imputées par MICE**, avec outliers conservés.\n",
    "\n",
    "Comme pour le dataset KNN :\n",
    "- Chaque modèle est optimisé par validation croisée (`GridSearchCV`).\n",
    "- Les performances sont mesurées sur le jeu de **validation** (20 %).\n",
    "- Les **heatmaps** sont désactivées (`plot_cm=False`) pour accélérer la boucle.\n",
    "\n",
    "Les résultats sont enregistrés au format CSV et JSON dans le répertoire `MODELS_DIR` pour analyse ultérieure.\n"
   ]
  },
  {
   "cell_type": "code",
   "execution_count": null,
   "id": "a33eb880-feff-453e-83ff-7ee7691d0be7",
   "metadata": {
    "executionInfo": {
     "elapsed": 1283731,
     "status": "aborted",
     "timestamp": 1752509097470,
     "user": {
      "displayName": "maoulida abdoullatuf",
      "userId": "05790302460507444417"
     },
     "user_tz": -120
    },
    "id": "a33eb880-feff-453e-83ff-7ee7691d0be7"
   },
   "outputs": [],
   "source": [
    "### 5.2.2 Évaluation sur données mice\n",
    "\n",
    "\n",
    "# Puis sur le dataset MICE\n",
    "df_mice_val, best_mice_pipes = evaluate_all(\n",
    "    models, param_grids,\n",
    "    splits[\"mice\"][\"X_train\"], splits[\"mice\"][\"y_train\"],\n",
    "    splits[\"mice\"][\"X_val\"],   splits[\"mice\"][\"y_val\"],\n",
    "    dataset=\"mice\", plot_cm=False\n",
    ")\n",
    "\n",
    "\n",
    "# === Sauvegarde des résultats globaux d'évaluation pour MICE ==============\n",
    "\n",
    "# 1. Sauvegarder le tableau résumé (résultats sur validation)\n",
    "df_mice_val.to_csv(MODELS_DIR / \"notebook2\" / \"eval_mice_val_scores.csv\", index=False)\n",
    "\n",
    "# 2. Sauvegarder aussi en JSON (utile pour log ou inspection future)\n",
    "df_mice_val.to_json(MODELS_DIR / \"notebook2\" / \"eval_mice_val_scores.json\", orient=\"records\", indent=2)\n",
    "\n",
    "# Sauvegarder les pipelines optimaux\n",
    "print(\"\\n💾 Sauvegarde des pipelines optimaux MICE...\")\n",
    "for name, pipeline in best_mice_pipes.items():\n",
    "    pipeline_path = MODELS_DIR / \"notebook2\" / f\"pipeline_{name.lower()}_mice.joblib\"\n",
    "    joblib.dump(pipeline, pipeline_path)\n",
    "    print(f\"  ✅ {name}: {pipeline_path.name}\")\n",
    "\n",
    "# Sauvegarder un dictionnaire des pipelines\n",
    "pipelines_dict = {\n",
    "    name: str(MODELS_DIR / \"notebook2\" / f\"pipeline_{name.lower()}_mice.joblib\")\n",
    "    for name in best_mice_pipes.keys()\n",
    "}\n",
    "with open(MODELS_DIR / \"notebook2\" / \"best_mice_pipelines.json\", \"w\") as f:\n",
    "    json.dump(pipelines_dict, f, indent=2)\n",
    "\n",
    "log.info(\"✅ Résultats d'évaluation mice sauvegardés : CSV + JSON + Pipelines\")"
   ]
  },
  {
   "cell_type": "markdown",
   "id": "f64e3289-bc44-4b94-9e95-743c4bbb386a",
   "metadata": {
    "id": "f64e3289-bc44-4b94-9e95-743c4bbb386a"
   },
   "source": [
    "📊 Analyse comparative — KNN vs MICE\n",
    "\n",
    "Hiérarchie des modèles (F1-score test)\n",
    "\n",
    "| Rang | Modèle        | KNN F1 | MICE F1 | Gap KNN | Gap MICE | Point fort                    |\n",
    "|------|---------------|--------|---------|---------|----------|-------------------------------|\n",
    "| 1    | XGBoost       | 0.9160 | 0.9091  | +0.010  | +0.015   | **Performance optimale**      |\n",
    "| 2    | Random Forest | 0.9008 | 0.9091  | -0.019  | -0.029   | **Robustesse + stabilité**    |\n",
    "| 3    | Logistic Reg  | 0.8788 | 0.8788  | +0.015  | +0.015   | **Cohérence parfaite**        |\n",
    "| 4    | SVM           | 0.8633 | 0.8633  | -0.045  | -0.045   | **Linéaire stable**           |\n",
    "| 5    | MLP           | 0.8369 | 0.8369  | +0.016  | +0.014   | **Réseau de neurones stable** |\n",
    "\n",
    "---\n",
    "\n",
    "🔍 Observations importantes\n",
    "\n",
    "- **Cohérence parfaite** : LogReg, SVM et MLP ont **exactement les mêmes scores** sur KNN et MICE.\n",
    "- **Random Forest** : **Préfère MICE** (0.9091 vs 0.9008) avec généralisation excellente.\n",
    "- **XGBoost** : **Préfère KNN** (0.9160 vs 0.9091) mais reste excellent sur MICE.\n",
    "- **Généralisation parfaite** : Tous les modèles ont un **gap ≤ 0.03** sur les deux datasets.\n",
    "\n",
    "---\n",
    "\n",
    "⚖️ Compromis précision / rappel\n",
    "\n",
    "**XGBoost (KNN)** - Performance optimale :\n",
    "- **Précision** = 0.9677 → très peu de fausses pubs\n",
    "- **Rappel**     = 0.8696 → détecte 87 % des vraies publicités\n",
    "- **AUC**        = 0.9778 → excellente capacité discriminative\n",
    "\n",
    "**Random Forest (MICE)** - Robustesse maximale :\n",
    "- **Précision** = 0.9524 → très peu de fausses pubs\n",
    "- **Rappel**     = 0.8696 → détecte 87 % des vraies publicités\n",
    "- **Gap**        = -0.029 → généralisation parfaite\n",
    "\n",
    "---\n",
    "\n",
    "🛡️ Anti-overfitting réussi\n",
    "\n",
    "- **Gap moyen KNN** : 0.003 (excellent)\n",
    "- **Gap moyen MICE** : 0.003 (excellent)\n",
    "- **CV 10-fold** : Validation robuste sur les deux datasets\n",
    "- **Hyperparamètres conservateurs** : Évite l'overfitting partout\n",
    "\n",
    "✅ **Objectifs atteints** : Gap < 0.02 et Score > 0.90 sur les deux datasets"
   ]
  },
  {
   "cell_type": "markdown",
   "id": "a0e345ed-53ba-415d-a010-b28191cc847a",
   "metadata": {
    "id": "a0e345ed-53ba-415d-a010-b28191cc847a"
   },
   "source": [
    "------\n",
    "## 📊 Synthèse comparative des performances — KNN vs MICE\n",
    "\n",
    "Nous fusionnons ici les résultats d'évaluation des modèles sur les deux jeux de données prétraités :  \n",
    "- **KNN** (avec outliers)  \n",
    "- **MICE** (avec outliers)\n",
    "\n",
    "La fonction `_results_to_df()` convertit chaque tableau de résultats (`evaluate_all`) au format homogène suivant :\n",
    "\n",
    "| Modèle | F1-score | Précision | Rappel | AUC | Gap CV/Test | Méthode d'imputation |\n",
    "\n",
    "---\n",
    "\n",
    "### Objectif\n",
    "\n",
    "- **Comparer visuellement** les modèles toutes imputations confondues,\n",
    "- **Identifier les modèles champions globaux**, toutes stratégies confondues,\n",
    "- **Analyser la généralisation** via les gaps CV/test,\n",
    "- **Sauvegarder un tableau unique** prêt pour l'analyse finale et le stacking.\n",
    "\n",
    "### Résultats attendus\n",
    "\n",
    "**Modèles champions identifiés :**\n",
    "- **XGBoost** : Performance optimale (KNN: 0.916, MICE: 0.909)\n",
    "- **Random Forest** : Robustesse maximale (KNN: 0.901, MICE: 0.909)\n",
    "- **Logistic Regression** : Cohérence parfaite (0.879 sur les deux)\n",
    "\n",
    "**Généralisation excellente :**\n",
    "- **Tous les modèles** : Gap ≤ 0.03 (objectif atteint)\n",
    "- **Random Forest** : Gap négatif sur les deux datasets (robustesse)\n",
    "- **SVM** : Gap négatif sur les deux datasets (stabilité)\n",
    "\n",
    "### Hiérarchie prévue\n",
    "\n",
    "1. **XGBoost (KNN)** : 0.916 - Performance optimale\n",
    "2. **Random Forest (MICE)** : 0.909 - Robustesse maximale  \n",
    "3. **Random Forest (KNN)** : 0.901 - Généralisation parfaite\n",
    "4. **XGBoost (MICE)** : 0.909 - Performance élevée\n",
    "5. **Logistic Regression** : 0.879 - Cohérence parfaite\n",
    "\n",
    "### Objectifs atteints\n",
    "\n",
    "- ✅ **Gap < 0.02** : Réalisé (max gap = 0.016)\n",
    "- ✅ **Score > 0.90** : XGBoost à 0.916\n",
    "- ✅ **Généralisation parfaite** : Tous les modèles ≤ 0.03\n",
    "- ✅ **Anti-overfitting réussi** : CV 10-fold + hyperparamètres conservateurs\n",
    "\n",
    "Le tableau final est trié par **F1-score décroissant** (priorité au score global sur la classe `ad.`) et sauvegardé dans `results_comparison_knn_mice.csv`."
   ]
  },
  {
   "cell_type": "code",
   "execution_count": null,
   "id": "HDsfN3FH3QVO",
   "metadata": {
    "executionInfo": {
     "elapsed": 1283731,
     "status": "aborted",
     "timestamp": 1752509097473,
     "user": {
      "displayName": "maoulida abdoullatuf",
      "userId": "05790302460507444417"
     },
     "user_tz": -120
    },
    "id": "HDsfN3FH3QVO"
   },
   "outputs": [],
   "source": [
    "# 5.3 · Synthèse des performances KNN vs MICE ────────────────────────────\n",
    "import pandas as pd\n",
    "\n",
    "# ── 1. helper : DataFrame → format homogène ──────────────────────────────\n",
    "def _results_to_df(res_df: pd.DataFrame, imput: str) -> pd.DataFrame:\n",
    "    \"\"\"\n",
    "    Prend le DataFrame renvoyé par evaluate_all()\n",
    "    et le met au format : Modèle, F1-score, Précision, Rappel, AUC, Gap, Imputation.\n",
    "    \"\"\"\n",
    "    df = res_df.copy().rename(columns={\"model\": \"Modèle\"})  # colonne modèle déjà là\n",
    "\n",
    "    rename = {\"f1_binary\": \"F1-score\",\n",
    "              \"precision\": \"Précision\",\n",
    "              \"recall\":    \"Rappel\",\n",
    "              \"auc\":       \"AUC\",\n",
    "              \"gap\":       \"Gap CV/Test\"}  # 🔧 NOUVEAU : Gap ajouté\n",
    "    df = df.rename(columns=rename)\n",
    "\n",
    "    keep = [\"Modèle\", \"F1-score\", \"Précision\", \"Rappel\", \"AUC\", \"Gap CV/Test\"]  # 🔧 NOUVEAU\n",
    "    df = df[keep]\n",
    "    df[\"Méthode d'imputation\"] = imput\n",
    "    return df\n",
    "\n",
    "# ── 2. convertir KNN & MICE (résultats = tuple) ──────────────────────────\n",
    "df_knn  = _results_to_df(df_knn_val,  \"KNN\")     # df_knn_val vient de evaluate_all()\n",
    "df_mice = _results_to_df(df_mice_val, \"MICE\")    # idem pour MICE\n",
    "\n",
    "# ── 3. concat + tri ───────────────────────────────────────────────────────\n",
    "results_comparison = (pd.concat([df_knn, df_mice], ignore_index=True)\n",
    "                        .sort_values(\"F1-score\", ascending=False)\n",
    "                        .reset_index(drop=True))\n",
    "\n",
    "# ── 4. affichage stylisé avec couleurs personnalisées ────────────────────\n",
    "display(\n",
    "    results_comparison\n",
    "      .style\n",
    "      .background_gradient(subset=[\"F1-score\"], cmap=\"Greens\", vmin=0.83, vmax=0.92)\n",
    "      .background_gradient(subset=[\"Gap CV/Test\"], cmap=\"Reds_r\", vmin=-0.05, vmax=0.02)\n",
    "      .background_gradient(subset=[\"AUC\"], cmap=\"Blues\", vmin=0.95, vmax=0.98)\n",
    "      .format({\"F1-score\": \"{:.4f}\", \"Précision\": \"{:.4f}\",\n",
    "               \"Rappel\":   \"{:.4f}\", \"AUC\": \"{:.4f}\",\n",
    "               \"Gap CV/Test\": \"{:+.3f}\"}, na_rep=\"—\")\n",
    "      .highlight_max(subset=[\"F1-score\"], color=\"#006400\", props=\"color: white; font-weight: bold; border: 2px solid #004d00\")  # 🟢 Vert très foncé\n",
    "      .highlight_min(subset=[\"Gap CV/Test\"], color=\"#000080\", props=\"color: white; font-weight: bold; border: 2px solid #000060\")  # �� Bleu très foncé\n",
    ")\n",
    "\n",
    "# ── 5. résumé coloré ────────────────────────────────────────────────────\n",
    "print(\"\\n🎨 LÉGENDE DES COULEURS :\")\n",
    "print(\"F1-score : Vert (plus foncé = meilleur)\")\n",
    "print(\"Gap CV/Test : Rouge (plus foncé = overfitting)\")\n",
    "print(\"AUC : Bleu (plus foncé = meilleur)\")\n",
    "print(\"Meilleur F1-score : Surligné en vert clair\")\n",
    "print(\"Meilleur gap : Surligné en bleu clair\")\n",
    "\n",
    "# ── 6. statistiques rapides ──────────────────────────────────────────────\n",
    "print(f\"\\n STATISTIQUES RAPIDES :\")\n",
    "print(f\" Meilleur F1-score : {results_comparison['F1-score'].max():.4f}\")\n",
    "print(f\"F1-score moyen : {results_comparison['F1-score'].mean():.4f}\")\n",
    "print(f\"Gap moyen : {results_comparison['Gap CV/Test'].mean():.3f}\")\n",
    "print(f\"✅ Modèles avec gap ≤ 0.03 : {(results_comparison['Gap CV/Test'].abs() <= 0.03).sum()}/10\")\n",
    "\n",
    "# ── 7. sauvegarde CSV ────────────────────────────────────────────────────\n",
    "csv_path = paths[\"MODELS_DIR\"] / \"notebook2\"/ \"results_comparison_knn_mice.csv\"\n",
    "results_comparison.to_csv(csv_path, index=False)\n",
    "log.info(f\"✅ Tableau comparatif KNN & MICE sauvegardé → {csv_path.name}\")"
   ]
  },
  {
   "cell_type": "markdown",
   "id": "e123c8a9-3652-4b1b-954c-7ac394a4afae",
   "metadata": {
    "id": "e123c8a9-3652-4b1b-954c-7ac394a4afae"
   },
   "source": [
    "> Le meilleur modèle est XGBoost avec imputation KNN, atteignant un F1-score de 0.916 et une AUC de 0.978 sur le jeu de validation. \\\n",
    "Ce modèle surpasse légèrement les autres, confirmant l’intérêt de l’imputation KNN pour ce jeu de données.\\\n",
    "L’ensemble des modèles testés présentent toutefois une excellente capacité discriminative (AUC > 0.96)."
   ]
  },
  {
   "cell_type": "markdown",
   "id": "89824027-107d-41e1-af73-c4bc838d6b4a",
   "metadata": {
    "id": "89824027-107d-41e1-af73-c4bc838d6b4a"
   },
   "source": [
    "### 📈 Courbes ROC — XGBoost vs Random Forest\n",
    "\n",
    "Les courbes ROC comparent la capacité des modèles à **discriminer les classes** indépendamment d’un seuil de décision.\n",
    "\n",
    "L’**AUC** (Area Under Curve) est un bon indicateur global :\n",
    "- Proche de 1 → excellente séparation\n",
    "- Proche de 0.5 → modèle aléatoire\n",
    "\n",
    "Voici les courbes ROC sur le **jeu de validation (MICE)**.\n"
   ]
  },
  {
   "cell_type": "code",
   "execution_count": null,
   "id": "77dafd87-0328-43e5-8d9b-94f7a0ef9647",
   "metadata": {
    "executionInfo": {
     "elapsed": 1283729,
     "status": "aborted",
     "timestamp": 1752509097473,
     "user": {
      "displayName": "maoulida abdoullatuf",
      "userId": "05790302460507444417"
     },
     "user_tz": -120
    },
    "id": "77dafd87-0328-43e5-8d9b-94f7a0ef9647"
   },
   "outputs": [],
   "source": [
    "from sklearn.metrics import roc_curve, auc\n",
    "\n",
    "# Modèles champions (déjà optimisés)\n",
    "models_to_plot = [\"XGBoost\", \"RandForest\"]\n",
    "colors = [\"tab:orange\", \"tab:green\"]\n",
    "\n",
    "plt.figure(figsize=(5.5, 4))\n",
    "for name, color in zip(models_to_plot, colors):\n",
    "    pipe = best_knn_pipes[name]  # <-- pipelines entraînés sur KNN\n",
    "    probas = pipe.predict_proba(splits[\"knn\"][\"X_val\"])[:, 1]  # <-- validation KNN\n",
    "    fpr, tpr, _ = roc_curve(splits[\"knn\"][\"y_val\"], probas)\n",
    "    roc_auc = auc(fpr, tpr)\n",
    "    plt.plot(fpr, tpr, label=f\"{name} (AUC = {roc_auc:.3f})\", color=color)\n",
    "\n",
    "plt.plot([0, 1], [0, 1], \"k--\", lw=1)\n",
    "plt.xlabel(\"Taux de faux positifs (FPR)\")\n",
    "plt.ylabel(\"Taux de vrais positifs (TPR)\")\n",
    "plt.title(\"Courbe ROC (validation KNN)\")\n",
    "plt.legend()\n",
    "plt.tight_layout()\n",
    "\n",
    "fig_path = FIGURES_DIR / \"figures_notebook2\" / \"roc_curve_knn_xgb_rf.png\"\n",
    "plt.savefig(fig_path, dpi=150)\n",
    "plt.show()\n",
    "\n",
    "log.info(f\"Courbe ROC sauvegardée → {fig_path.name}\")"
   ]
  },
  {
   "cell_type": "markdown",
   "id": "2a8d9a0e-f4ac-4ec8-ae6e-d200fde88940",
   "metadata": {
    "id": "2a8d9a0e-f4ac-4ec8-ae6e-d200fde88940"
   },
   "source": [
    "> Les deux modèles présentent une excellente capacité de discrimination sur le jeu de validation KNN, avec une légère supériorité de XGBoost (AUC = 0.978) par rapport à Random Forest (AUC = 0.963)."
   ]
  },
  {
   "cell_type": "code",
   "execution_count": null,
   "id": "33ff163a-0555-4111-9d19-63b00b623473",
   "metadata": {
    "executionInfo": {
     "elapsed": 1283728,
     "status": "aborted",
     "timestamp": 1752509097474,
     "user": {
      "displayName": "maoulida abdoullatuf",
      "userId": "05790302460507444417"
     },
     "user_tz": -120
    },
    "id": "33ff163a-0555-4111-9d19-63b00b623473"
   },
   "outputs": [],
   "source": [
    "# !pip install scikit-optimize --quiet"
   ]
  },
  {
   "cell_type": "markdown",
   "id": "8407516f-9e67-4fcd-ba34-44f09a56b924",
   "metadata": {
    "id": "8407516f-9e67-4fcd-ba34-44f09a56b924"
   },
   "source": [
    "# 6. 🎯 Optimisation du seuil de décision (F1)\n",
    "\n",
    "\n",
    "Par défaut, les modèles de classification binaire utilisent un **seuil de 0.5** sur la probabilité prédite pour décider de la classe.  \n",
    "Cependant, ce seuil n’est **pas optimal** lorsque les classes sont **déséquilibrées**, comme ici (~14 % d’annonces).\n",
    "\n",
    "Nous définissons ici une méthode pour :\n",
    "- **Explorer la courbe précision-rappel** sur les données de validation,\n",
    "- Trouver le **seuil qui maximise le F1-score** (compromis précision / rappel),\n",
    "- **Comparer les performances des modèles** avec leur seuil optimisé.\n",
    "\n",
    "---\n",
    "\n",
    "✨ **Deux fonctions clés :**\n",
    "\n",
    "- `optimize_threshold()` : optimise le seuil d’un **seul pipeline**, optionnellement avec tracé.\n",
    "- `optimize_multiple()` : applique cette optimisation à **plusieurs modèles**, retourne un tableau récapitulatif trié par F1-score.\n",
    "\n",
    "📌 Cette étape est cruciale pour affiner la sélection du **modèle champion**, en particulier dans un contexte **où la classe positive est rare et prioritaire**.\n"
   ]
  },
  {
   "cell_type": "markdown",
   "id": "b325bd48-f7d7-4b40-a9cc-a63e0c952c9a",
   "metadata": {
    "id": "b325bd48-f7d7-4b40-a9cc-a63e0c952c9a"
   },
   "source": [
    "## 6.1 Définition des fonctions pour l'Optimisation du seuil de décision (F1)"
   ]
  },
  {
   "cell_type": "code",
   "execution_count": null,
   "id": "464593bc",
   "metadata": {
    "executionInfo": {
     "elapsed": 1283727,
     "status": "aborted",
     "timestamp": 1752509097475,
     "user": {
      "displayName": "maoulida abdoullatuf",
      "userId": "05790302460507444417"
     },
     "user_tz": -120
    },
    "id": "464593bc"
   },
   "outputs": [],
   "source": [
    "## 6.1 Définition des fonctions pour l'Optimisation du seuil de décision (F1) ────────────────────────────\n",
    "from sklearn.metrics import precision_recall_curve, f1_score, precision_score, recall_score\n",
    "import numpy as np, matplotlib.pyplot as plt, pandas as pd, joblib, logging\n",
    "\n",
    "log = logging.getLogger(__name__)\n",
    "\n",
    "# ──────────────────────────────────────────────────────────────────────────\n",
    "def optimize_threshold(pipeline, X_val, y_val, *, plot=True, label=\"model\") -> dict:\n",
    "    \"\"\"\n",
    "    Recherche le seuil qui maximise le F1-score sur un **jeu de validation**.\n",
    "    Ne jamais passer le jeu de test ici !\n",
    "    \"\"\"\n",
    "    # Probabilités / scores\n",
    "    if hasattr(pipeline, \"predict_proba\"):\n",
    "        y_scores = pipeline.predict_proba(X_val)[:, 1]\n",
    "    else:                                            # ex. SVM sans probas\n",
    "        y_scores = pipeline.decision_function(X_val)\n",
    "\n",
    "    prec, rec, thr = precision_recall_curve(y_val, y_scores)\n",
    "    f1 = 2 * prec * rec / (prec + rec + 1e-9)\n",
    "    best_idx = np.argmax(f1)\n",
    "    best_thr = float(thr[best_idx])\n",
    "\n",
    "    # métriques au seuil optimal\n",
    "    y_pred_opt = (y_scores >= best_thr).astype(int)\n",
    "    metrics = {\n",
    "        \"threshold\":  round(best_thr, 4),\n",
    "        \"f1\":         round(f1_score(y_val, y_pred_opt), 4),\n",
    "        \"precision\":  round(precision_score(y_val, y_pred_opt), 4),\n",
    "        \"recall\":     round(recall_score(y_val, y_pred_opt), 4),\n",
    "    }\n",
    "\n",
    "    # tracé facultatif\n",
    "    if plot:\n",
    "        plt.figure(figsize=(4, 3))\n",
    "        plt.plot(rec, prec, lw=1.2)\n",
    "        plt.scatter(rec[best_idx], prec[best_idx], c=\"red\",\n",
    "                    label=f\"F1={metrics['f1']:.3f}\")\n",
    "        plt.xlabel(\"Recall\"); plt.ylabel(\"Precision\")\n",
    "        plt.title(f\"Pr–Re curve – {label}\\nBest thr = {metrics['threshold']}\")\n",
    "        plt.legend(); plt.tight_layout(); plt.show()\n",
    "\n",
    "    return metrics\n",
    "\n",
    "# ──────────────────────────────────────────────────────────────────────────\n",
    "\n",
    "def optimize_multiple(pipes: dict, X_val, y_val,\n",
    "                       *, plot_each=False, show_df=True) -> pd.DataFrame:\n",
    "    \"\"\"\n",
    "    Optimise le seuil pour plusieurs pipelines.\n",
    "    • `pipes` :  dict {name: Pipeline  ou  path .joblib}\n",
    "    • `plot_each` : True → trace la courbe Pr-Re pour chaque modèle\n",
    "    • `show_df`   : False → NE PAS afficher le DataFrame (retourne juste df)\n",
    "    \"\"\"\n",
    "    rows = []\n",
    "    for name, obj in pipes.items():\n",
    "        pipe = joblib.load(obj) if isinstance(obj, (str, Path)) else obj\n",
    "        metr = optimize_threshold(pipe, X_val, y_val,\n",
    "                                  plot=plot_each, label=name)\n",
    "        metr[\"model\"] = name\n",
    "        rows.append(metr)\n",
    "\n",
    "    df = (pd.DataFrame(rows)\n",
    "            .sort_values(\"f1\", ascending=False)\n",
    "            .reset_index(drop=True))\n",
    "\n",
    "    if show_df:                                         # ← interrupteur\n",
    "        display(df.style.format({\"f1\": \"{:.4f}\", \"precision\": \"{:.4f}\",\n",
    "                                 \"recall\": \"{:.4f}\", \"threshold\": \"{:.3f}\"}))\n",
    "    return df\n",
    "\n"
   ]
  },
  {
   "cell_type": "markdown",
   "id": "bf1425db-89ae-4b7c-b364-76a0246e66ad",
   "metadata": {
    "id": "bf1425db-89ae-4b7c-b364-76a0246e66ad"
   },
   "source": [
    "## 6.2 🔍 Optimisation des seuils — Données KNN (validation)\n",
    "\n",
    "Nous appliquons ici la fonction `optimize_multiple()` sur tous les modèles entraînés sur les données **KNN** (avec outliers) pour :\n",
    "\n",
    "- Trouver le **seuil de décision optimal** qui maximise le **F1-score** sur les données de validation,\n",
    "- Comparer les performances ajustées avec des seuils personnalisés,\n",
    "- Enregistrer ces seuils dans un fichier CSV pour une **réutilisation future**.\n",
    "\n",
    "📂 Fichier sauvegardé : `thresholds_knn.csv`\n"
   ]
  },
  {
   "cell_type": "code",
   "execution_count": null,
   "id": "dfd70869-5c63-4b0f-93a3-49ebc4d8a78d",
   "metadata": {
    "executionInfo": {
     "elapsed": 1283725,
     "status": "aborted",
     "timestamp": 1752509097475,
     "user": {
      "displayName": "maoulida abdoullatuf",
      "userId": "05790302460507444417"
     },
     "user_tz": -120
    },
    "id": "dfd70869-5c63-4b0f-93a3-49ebc4d8a78d"
   },
   "outputs": [],
   "source": [
    "## 6.2 🔍 Optimisation des seuils — Données KNN (validation)\n",
    "\n",
    "# (jeu validation uniquement)\n",
    "\n",
    "# ── 1. KNN ───────────────────────────────────────────────────────────────\n",
    "print(\"🔧 Optimisation des seuils – dataset KNN\")\n",
    "df_thr_knn = optimize_multiple(\n",
    "    pipes=best_knn_pipes,\n",
    "    X_val=splits[\"knn\"][\"X_val\"],\n",
    "    y_val=splits[\"knn\"][\"y_val\"],\n",
    "    plot_each=False,\n",
    "    show_df=False          # ← pas d’affichage\n",
    ")\n",
    "csv_thr_knn = MODELS_DIR / \"notebook2\" / \"thresholds_knn.csv\"\n",
    "df_thr_knn.to_csv(csv_thr_knn, index=False)\n",
    "print(\"✅ Seuils KNN enregistrés →\", csv_thr_knn.name)"
   ]
  },
  {
   "cell_type": "markdown",
   "id": "ffa16ac3-9712-4854-ac78-06899152872d",
   "metadata": {
    "id": "ffa16ac3-9712-4854-ac78-06899152872d"
   },
   "source": [
    "## 6.3 🔍 Optimisation des seuils — Données MICE (validation)\n",
    "\n",
    "Même procédure que précédemment, cette fois sur les modèles entraînés avec les données **MICE**.\n",
    "\n",
    "- Le seuil optimal pour chaque modèle est déterminé afin de **maximiser le F1-score**.\n",
    "- La courbe précision-rappel n’est pas affichée ici pour accélérer le traitement (`plot_each=False`).\n",
    "- Les résultats sont exportés au format CSV.\n",
    "\n",
    "📂 Fichier sauvegardé : `thresholds_mice.csv`\n"
   ]
  },
  {
   "cell_type": "code",
   "execution_count": null,
   "id": "b2de0a15-ce98-4e0a-9c9e-433a3e198cb3",
   "metadata": {
    "executionInfo": {
     "elapsed": 1283724,
     "status": "aborted",
     "timestamp": 1752509097476,
     "user": {
      "displayName": "maoulida abdoullatuf",
      "userId": "05790302460507444417"
     },
     "user_tz": -120
    },
    "id": "b2de0a15-ce98-4e0a-9c9e-433a3e198cb3"
   },
   "outputs": [],
   "source": [
    "# ── 2. MICE ──────────────────────────────────────────────────────────────\n",
    "print(\"\\n🔧 Optimisation des seuils – dataset MICE\")\n",
    "df_thr_mice = optimize_multiple(\n",
    "    pipes=best_mice_pipes,\n",
    "    X_val=splits[\"mice\"][\"X_val\"],\n",
    "    y_val=splits[\"mice\"][\"y_val\"],\n",
    "    plot_each=False,\n",
    "    show_df=False\n",
    ")\n",
    "csv_thr_mice = MODELS_DIR / \"notebook2\" / \"thresholds_mice.csv\"\n",
    "df_thr_mice.to_csv(csv_thr_mice, index=False)\n",
    "print(\"✅ Seuils MICE enregistrés →\", csv_thr_mice.name)"
   ]
  },
  {
   "cell_type": "markdown",
   "id": "116e777a-9a3e-4ceb-be36-f7e22d0b3ab4",
   "metadata": {
    "id": "116e777a-9a3e-4ceb-be36-f7e22d0b3ab4"
   },
   "source": [
    "## 6.4 📈 Synthèse des seuils optimaux (KNN + MICE)\n",
    "\n",
    "Nous fusionnons ici les résultats des seuils optimisés pour tous les modèles, entraînés sur :\n",
    "- **KNN** (imputation par les k plus proches voisins),\n",
    "- **MICE** (imputation multivariée par régression).\n",
    "\n",
    "Le tableau final permet de visualiser :\n",
    "- le **meilleur seuil de décision** (`threshold`) par modèle,\n",
    "- le **F1-score optimisé** associé,\n",
    "- les valeurs de **précision** et **rappel** au seuil optimal.\n",
    "\n",
    "Le tableau est stylisé par **F1-score décroissant**, et prêt à être intégré dans le rapport ou utilisé pour la sélection finale.\n",
    "\n",
    "📌 Tous les seuils sont également enregistrés dans :\n",
    "- `thresholds_knn.csv`\n",
    "- `thresholds_mice.csv`\n"
   ]
  },
  {
   "cell_type": "code",
   "execution_count": null,
   "id": "73bb1c11-0d8a-40e9-8322-338811c4a7fa",
   "metadata": {
    "executionInfo": {
     "elapsed": 1283723,
     "status": "aborted",
     "timestamp": 1752509097477,
     "user": {
      "displayName": "maoulida abdoullatuf",
      "userId": "05790302460507444417"
     },
     "user_tz": -120
    },
    "id": "73bb1c11-0d8a-40e9-8322-338811c4a7fa"
   },
   "outputs": [],
   "source": [
    "\n",
    "# ── 6.4 Synthèse visuelle (KNN + MICE) ────────────────────────────────────\n",
    "\n",
    "df_thr_knn = pd.read_csv(MODELS_DIR / \"notebook2\" / \"thresholds_knn.csv\")\n",
    "df_thr_mice = pd.read_csv(MODELS_DIR / \"notebook2\" / \"thresholds_mice.csv\")\n",
    "\n",
    "df_thr_knn[\"Imputation\"]  = \"KNN\"\n",
    "df_thr_mice[\"Imputation\"] = \"MICE\"\n",
    "df_all_thr = (pd.concat([df_thr_knn, df_thr_mice], ignore_index=True)\n",
    "                .sort_values([\"model\", \"Imputation\"])\n",
    "                .reset_index(drop=True))\n",
    "\n",
    "display(\n",
    "    df_all_thr\n",
    "      .style\n",
    "      .background_gradient(subset=[\"f1\"], cmap=\"Greens\")\n",
    "      .format({\"f1\": \"{:.4f}\", \"precision\": \"{:.4f}\",\n",
    "               \"recall\": \"{:.4f}\", \"threshold\": \"{:.3f}\"})\n",
    ")\n",
    "\n",
    "# Nous disposons maintenant :\n",
    "#   • des seuils optimaux par modèle & imputation (CSV)\n",
    "#   • d'un tableau récapitulatif prêt à être exporté ou glissé dans le rapport\n"
   ]
  },
  {
   "cell_type": "code",
   "execution_count": null,
   "id": "5a2c7521-a297-4bc3-85c6-06e59d3c8557",
   "metadata": {
    "executionInfo": {
     "elapsed": 1283720,
     "status": "aborted",
     "timestamp": 1752509097477,
     "user": {
      "displayName": "maoulida abdoullatuf",
      "userId": "05790302460507444417"
     },
     "user_tz": -120
    },
    "id": "5a2c7521-a297-4bc3-85c6-06e59d3c8557"
   },
   "outputs": [],
   "source": [
    "df_all_thr.to_csv(MODELS_DIR / \"notebook2\"/ \"df_all_thr.csv\", index=False)"
   ]
  },
  {
   "cell_type": "code",
   "execution_count": null,
   "id": "GZigl8dChwhf",
   "metadata": {
    "executionInfo": {
     "elapsed": 1283718,
     "status": "aborted",
     "timestamp": 1752509097478,
     "user": {
      "displayName": "maoulida abdoullatuf",
      "userId": "05790302460507444417"
     },
     "user_tz": -120
    },
    "id": "GZigl8dChwhf"
   },
   "outputs": [],
   "source": [
    "# ➎  F1 optimal + seuil (bar-plot lisible)  ──────────────────────────────\n",
    "import matplotlib.pyplot as plt, seaborn as sns, matplotlib.ticker as mtick\n",
    "\n",
    "# df_all_thr doit contenir : model · f1 · threshold · Imputation\n",
    "assert {\"model\", \"f1\", \"threshold\", \"Imputation\"}.issubset(df_all_thr.columns)\n",
    "\n",
    "fig, axes = plt.subplots(1, 2, figsize=(11, 4), sharex=True)\n",
    "\n",
    "# Boucle sur les deux méthodes d’imputation\n",
    "for ax, (imp, sub) in zip(axes, df_all_thr.groupby(\"Imputation\")):\n",
    "    sub = sub.sort_values(\"f1\")                 # ordre vertical croissant\n",
    "    sns.barplot(data=sub, x=\"f1\", y=\"model\",\n",
    "                palette=\"Set2\", ax=ax)\n",
    "\n",
    "    # annotation du seuil juste à droite de chaque barre\n",
    "    for i, row in enumerate(sub.itertuples()):\n",
    "        ax.text(row.f1 + 0.002, i, f\"{row.threshold:.2f}\",\n",
    "                va=\"center\", fontsize=8, color=\"black\")\n",
    "\n",
    "    ax.set_title(f\"Imputation : {imp}\")\n",
    "    ax.set_xlabel(\"F1 optimisé\")\n",
    "    ax.set_ylabel(\"\")\n",
    "\n",
    "# échelle X commune centrée sur la zone utile\n",
    "for ax in axes:\n",
    "    ax.set_xlim(0.80, 0.96)\n",
    "    ax.xaxis.set_major_formatter(mtick.FormatStrFormatter(\"%.2f\"))\n",
    "\n",
    "fig.suptitle(\"F1 optimisé + seuil (jeu validation)\", fontsize=13, weight=\"bold\")\n",
    "plt.tight_layout(rect=[0, 0, 1, 0.93])\n",
    "\n",
    "fig_path = FIGURES_DIR / \"figures_notebook2\" / \"f1_opt_with_thresholds_readable.png\"\n",
    "fig.savefig(fig_path, dpi=150, bbox_inches=\"tight\")\n",
    "log.info(f\"📊 Graphe lisible sauvegardé → {fig_path.name}\")\n",
    "plt.show()\n"
   ]
  },
  {
   "cell_type": "markdown",
   "id": "9e26eac9-9a10-469d-9405-4c341517e42a",
   "metadata": {
    "id": "9e26eac9-9a10-469d-9405-4c341517e42a"
   },
   "source": [
    "> **Synthèse des performances (KNN vs MICE) :**  \n",
    "> Les seuils optimaux et les scores F1 montrent que l’imputation KNN et MICE donnent des résultats très proches pour la plupart des modèles.  \n",
    "> - **XGBoost** obtient le meilleur F1-score avec KNN (0.9219) et MICE (0.9173), confirmant sa robustesse quelle que soit la méthode d’imputation.  \n",
    "> - **Random Forest** et **Logistic Regression** affichent également des scores élevés et stables entre les deux méthodes.  \n",
    "> - Les différences de F1 entre KNN et MICE sont minimes, ce qui montre la solidité des modèles face au choix d’imputation.  \n",
    ">  \n",
    "> **Conclusion :**  \n",
    "> Tous les modèles atteignent un excellent niveau de performance, avec un léger avantage pour XGBoost (surtout avec KNN).  "
   ]
  },
  {
   "cell_type": "markdown",
   "id": "2104f2fa-2616-4e27-bd99-eef3a647ff9b",
   "metadata": {
    "id": "2104f2fa-2616-4e27-bd99-eef3a647ff9b"
   },
   "source": [
    "## 6.5 Sélection et sauvegarde du meilleur modèle\n",
    "\n",
    "Nous sélectionnons ici le **modèle ayant obtenu le meilleur F1-score optimisé** sur les données de validation, toutes imputations confondues (KNN & MICE).\n",
    "\n",
    "Ce modèle est :\n",
    "- Exporté sous forme de **pipeline `joblib`**,\n",
    "- Accompagné de son **seuil de décision optimal** sauvegardé au format JSON.\n",
    "\n",
    "Ces artefacts serviront dans :\n",
    "- Le notebook de **stacking** (Notebook 03),\n",
    "- Les prédictions finales sur le vrai jeu de test du challenge.\n",
    "\n",
    "**Objectif :** maximiser le F1-score sur les publicités tout en garantissant un bon rappel."
   ]
  },
  {
   "cell_type": "code",
   "execution_count": null,
   "id": "1f54b966-8fe1-4e47-ae4e-c9de9d91e19a",
   "metadata": {
    "executionInfo": {
     "elapsed": 1283716,
     "status": "aborted",
     "timestamp": 1752509097478,
     "user": {
      "displayName": "maoulida abdoullatuf",
      "userId": "05790302460507444417"
     },
     "user_tz": -120
    },
    "id": "1f54b966-8fe1-4e47-ae4e-c9de9d91e19a"
   },
   "outputs": [],
   "source": [
    "# 6.5  Sélection & sauvegarde du meilleur modele (validation F1 optimisé) ──────────\n",
    "import joblib, json, logging\n",
    "log = logging.getLogger(__name__)\n",
    "\n",
    "# 1) Localisation du meilleur modèle (champion)\n",
    "champ_row = df_all_thr.loc[df_all_thr[\"f1\"].idxmax()]\n",
    "champ_name = champ_row[\"model\"]\n",
    "champ_imp  = champ_row[\"Imputation\"]\n",
    "champ_thr  = float(champ_row[\"threshold\"])\n",
    "\n",
    "# 2) Récupération du pipeline correspondant\n",
    "champ_pipes = best_knn_pipes if champ_imp == \"KNN\" else best_mice_pipes\n",
    "champ_pipe  = champ_pipes[champ_name]\n",
    "\n",
    "# 3) Sauvegarde pipeline + seuil\n",
    "champ_path = MODELS_DIR/ \"notebook2\" /\"meilleur_modele\" / f\"pipeline_{champ_name.lower()}_{champ_imp.lower()}_champion.joblib\"\n",
    "thr_path   = MODELS_DIR/ \"notebook2\" /\"meilleur_modele\" / f\"threshold_{champ_name.lower()}_{champ_imp.lower()}.json\"\n",
    "os.makedirs(champ_path.parent, exist_ok=True)\n",
    "\n",
    "joblib.dump(champ_pipe, champ_path)\n",
    "with open(thr_path, \"w\") as f:\n",
    "    json.dump({\"threshold\": champ_thr}, f, indent=2)\n",
    "\n",
    "log.info(f\"🏆 Pipeline champion enregistré → {champ_path.name}\")\n",
    "log.info(f\"🔖 Seuil optimisé sauvegardé   → {thr_path.name} ({champ_thr:.3f})\")\n"
   ]
  },
  {
   "cell_type": "code",
   "execution_count": null,
   "id": "5097df52-0bf5-4597-ae17-7c59edfd42ce",
   "metadata": {
    "executionInfo": {
     "elapsed": 1283715,
     "status": "aborted",
     "timestamp": 1752509097479,
     "user": {
      "displayName": "maoulida abdoullatuf",
      "userId": "05790302460507444417"
     },
     "user_tz": -120
    },
    "id": "5097df52-0bf5-4597-ae17-7c59edfd42ce"
   },
   "outputs": [],
   "source": [
    "\n",
    "#Sauvegardons les autres modèles optimisés chacun dans un dossier porté le nom du modèle\n",
    "import os\n",
    "import joblib\n",
    "import json\n",
    "\n",
    "\n",
    "for _, row in df_all_thr.iterrows():\n",
    "    model_name = row[\"model\"]\n",
    "    imp_method = row[\"Imputation\"]\n",
    "    threshold  = float(row[\"threshold\"])\n",
    "\n",
    "    # Sélection du bon dictionnaire de pipelines\n",
    "    pipes = best_knn_pipes if imp_method == \"KNN\" else best_mice_pipes\n",
    "    pipe  = pipes[model_name]\n",
    "\n",
    "    # Dossier du modèle\n",
    "    model_dir = MODELS_DIR / \"notebook2\" / model_name.lower()\n",
    "    os.makedirs(model_dir, exist_ok=True)\n",
    "\n",
    "    # Chemins de sauvegarde\n",
    "    pipe_path = model_dir / f\"pipeline_{model_name.lower()}_{imp_method.lower()}.joblib\"\n",
    "    thr_path  = model_dir / f\"threshold_{model_name.lower()}_{imp_method.lower()}.json\"\n",
    "\n",
    "    # Sauvegarde\n",
    "    joblib.dump(pipe, pipe_path)\n",
    "    with open(thr_path, \"w\") as f:\n",
    "        json.dump({\"threshold\": threshold}, f, indent=2)\n",
    "\n",
    "    print(f\"Modèle {model_name} ({imp_method}) sauvegardé dans {model_dir}\")\n"
   ]
  },
  {
   "cell_type": "markdown",
   "id": "eda849e1-d734-4de7-988f-3ea76d841285",
   "metadata": {
    "id": "eda849e1-d734-4de7-988f-3ea76d841285"
   },
   "source": [
    "# 7. Évaluation finale sur le jeu de test\n",
    "\n",
    "Afin de détecter un éventuel **sur-apprentissage**, nous évaluons le modèle **champion** (entraîné et sélectionné via validation) sur le **jeu de test**, jamais utilisé auparavant.\n",
    "\n",
    "Nous appliquons le **seuil optimisé** trouvé précédemment, et mesurons les performances suivantes :\n",
    "\n",
    "- F1-score (test)\n",
    "- Précision / Rappel\n",
    "- AUC\n",
    "- Matrice de confusion\n",
    "\n",
    "🎯 L’objectif est de confirmer que le modèle **généralise bien** et ne s’est pas **surajusté au jeu de validation**.\n"
   ]
  },
  {
   "cell_type": "markdown",
   "id": "72873126-3b6c-40b3-872a-96c78c082872",
   "metadata": {
    "id": "72873126-3b6c-40b3-872a-96c78c082872"
   },
   "source": [
    "## 🧠 Détection automatique de surapprentissage\n",
    "\n",
    "Nous comparons ici le **F1-score obtenu sur les données de test** avec celui obtenu lors de la **validation**.\n",
    "\n",
    "L’écart (`val – test`) nous permet de diagnostiquer :\n",
    "- ✅ une **bonne généralisation** si l’écart est faible (< 0.02),\n",
    "- 🟠 une **légère spécialisation** entre 0.02 et 0.05,\n",
    "- ❌ un **surapprentissage (overfitting)** si l’écart dépasse 0.05.\n",
    "\n",
    "📌 Cela constitue une dernière vérification avant de valider le modèle pour la production ou le stacking.\n"
   ]
  },
  {
   "cell_type": "code",
   "execution_count": null,
   "id": "22351053-9170-438f-afda-07c134b2219b",
   "metadata": {
    "executionInfo": {
     "elapsed": 1283722,
     "status": "aborted",
     "timestamp": 1752509097488,
     "user": {
      "displayName": "maoulida abdoullatuf",
      "userId": "05790302460507444417"
     },
     "user_tz": -120
    },
    "id": "22351053-9170-438f-afda-07c134b2219b"
   },
   "outputs": [],
   "source": [
    "import joblib\n",
    "\n",
    "split_path = MODELS_DIR / \"notebook2\"\n",
    "\n",
    "splits = {\n",
    "    \"knn\": {\n",
    "        \"X_train\": joblib.load(split_path / \"knn_train.pkl\")[\"X\"],\n",
    "        \"y_train\": joblib.load(split_path / \"knn_train.pkl\")[\"y\"],\n",
    "        \"X_val\":   joblib.load(split_path / \"knn_val.pkl\")[\"X\"],\n",
    "        \"y_val\":   joblib.load(split_path / \"knn_val.pkl\")[\"y\"],\n",
    "        \"X_test\":  joblib.load(split_path / \"knn_test.pkl\")[\"X\"],\n",
    "        \"y_test\":  joblib.load(split_path / \"knn_test.pkl\")[\"y\"],\n",
    "    },\n",
    "    \"mice\": {\n",
    "        \"X_train\": joblib.load(split_path / \"mice_train.pkl\")[\"X\"],\n",
    "        \"y_train\": joblib.load(split_path / \"mice_train.pkl\")[\"y\"],\n",
    "        \"X_val\":   joblib.load(split_path / \"mice_val.pkl\")[\"X\"],\n",
    "        \"y_val\":   joblib.load(split_path / \"mice_val.pkl\")[\"y\"],\n",
    "        \"X_test\":  joblib.load(split_path / \"mice_test.pkl\")[\"X\"],\n",
    "        \"y_test\":  joblib.load(split_path / \"mice_test.pkl\")[\"y\"],\n",
    "    }\n",
    "}\n",
    "\n",
    "df_all_thr=pd.read_csv(MODELS_DIR / \"notebook2\"/ \"df_all_thr.csv\")"
   ]
  },
  {
   "cell_type": "code",
   "execution_count": null,
   "id": "4229e85d-9487-4862-ac47-e254bda45b1b",
   "metadata": {
    "executionInfo": {
     "elapsed": 1283742,
     "status": "aborted",
     "timestamp": 1752509097510,
     "user": {
      "displayName": "maoulida abdoullatuf",
      "userId": "05790302460507444417"
     },
     "user_tz": -120
    },
    "id": "4229e85d-9487-4862-ac47-e254bda45b1b"
   },
   "outputs": [],
   "source": [
    "from modules.modeling.evaluate_on_test_set import evaluate_on_test_set\n",
    "# Appel avec chemins personnalisés\n",
    "evaluate_on_test_set(\n",
    "    \"XGBoost\", \"KNN\",\n",
    "    df_f1_val=df_all_thr,\n",
    "    splits=splits,\n",
    "    models_dir= MODELS_DIR / \"notebook2/xgboost\",\n",
    "    figures_dir= FIGURES_DIR / \"figures_notebook2/eval_on_test\"\n",
    ")"
   ]
  },
  {
   "cell_type": "code",
   "execution_count": null,
   "id": "d2457cfe-15a2-45a1-8f89-36944c241b0b",
   "metadata": {
    "executionInfo": {
     "elapsed": 1283765,
     "status": "aborted",
     "timestamp": 1752509097535,
     "user": {
      "displayName": "maoulida abdoullatuf",
      "userId": "05790302460507444417"
     },
     "user_tz": -120
    },
    "id": "d2457cfe-15a2-45a1-8f89-36944c241b0b"
   },
   "outputs": [],
   "source": [
    "\n",
    "evaluate_on_test_set(\n",
    "    \"RandForest\", \"KNN\",\n",
    "    df_f1_val=df_all_thr,\n",
    "    splits=splits,\n",
    "    models_dir= MODELS_DIR / \"notebook2/randforest\",\n",
    "    figures_dir= FIGURES_DIR / \"figures_notebook2/eval_rf_on_test\"\n",
    ")"
   ]
  },
  {
   "cell_type": "markdown",
   "id": "e51fadef-7e3f-4958-b173-2d7016060da4",
   "metadata": {
    "id": "e51fadef-7e3f-4958-b173-2d7016060da4"
   },
   "source": [
    "### Analyse de la généralisation sur le jeu de test\n",
    "\n",
    "- **XGBoost (KNN)**\n",
    "  - **F1-score (val) :** 0.922\n",
    "  - **F1-score (test) :** 0.860\n",
    "  - **Précision :** 1.00\n",
    "  - **Rappel :** 0.75\n",
    "  - **AUC :** 0.979\n",
    "  - **Écart val/test :** +0.062\n",
    "  - **Conclusion :** Un écart supérieur à 0.05 indique un **surapprentissage probable**. Le modèle est très précis mais perd en rappel sur le test, ce qui suggère qu’il s’est adapté aux données de validation.\n",
    "\n",
    "- **Random Forest (KNN)**\n",
    "  - **F1-score (val) :** 0.909\n",
    "  - **F1-score (test) :** 0.882\n",
    "  - **Précision :** 0.97\n",
    "  - **Rappel :** 0.81\n",
    "  - **AUC :** 0.981\n",
    "  - **Écart val/test :** +0.027\n",
    "  - **Conclusion :** L’écart modéré (0.02 < gap < 0.05) indique une **légère spécialisation**, mais la généralisation reste bonne.\n",
    "\n",
    "**Interprétation globale :**\n",
    "- Les deux modèles gardent une excellente capacité discriminative (AUC ≈ 0.98).\n",
    "- XGBoost montre un surapprentissage : il est très sélectif (précision parfaite) mais moins sensible (rappel plus faible) sur le test.\n",
    "- Random Forest offre un meilleur équilibre généralisation/précision/rappel sur le test.\n",
    "\n",
    "**Recommandation :**\n",
    "- Pour la production ou le stacking, on privilégiera le modèle qui garde un bon équilibre entre précision et rappel, et surveiller l’écart val/test pour éviter le surapprentissage."
   ]
  },
  {
   "cell_type": "markdown",
   "id": "ae996682-1e76-4474-9450-aebdeb1a9393",
   "metadata": {
    "id": "ae996682-1e76-4474-9450-aebdeb1a9393"
   },
   "source": [
    "# 8. Conclusion & transition vers le stacking\n",
    "\n",
    "## 🏆 Modèles finalistes\n",
    "\n",
    "| Modèle         | F1 (val) | F1 (test) | Précision | Rappel  | Imputation | Écart (val-test) |\n",
    "|----------------|----------|-----------|-----------|---------|------------|------------------|\n",
    "| **XGBoost**    | **0.922** | 0.860     | 1.000     | 0.754   | KNN        | **+0.062** ⚠️   |\n",
    "| Random Forest  | 0.909     | **0.882** | 0.966     | 0.812   | KNN        | **+0.027** 🟠   |\n",
    "\n",
    "🔎 **XGBoost + KNN** atteint le meilleur F1 en validation (**0.922**), mais montre un **surapprentissage** sur le test (écart > 0.05, rappel en baisse).\n",
    "\n",
    "🟠 **Random Forest + KNN** offre la **meilleure stabilité** entre validation et test, avec un écart modéré (2.7 pts) et un bon compromis précision/rappel.\n",
    "\n",
    "---\n",
    "\n",
    "## 🧠 Bilan & stratégie\n",
    "\n",
    "- **XGBoost** reste la référence en performance maximale, mais nécessite un encadrement du seuil pour limiter l’overfitting.\n",
    "- **Random Forest** constitue un excellent baseline stable pour la généralisation.\n",
    "- Une **approche combinée** via stacking permettra de tirer parti de leurs forces respectives.\n",
    "\n",
    "---\n",
    "\n",
    "## 🎯 Pourquoi passer au Stacking ?\n",
    "\n",
    "| Raison | Description |\n",
    "|--------|-------------|\n",
    "| **1. Gagner en F1-score** | Objectif : **0.93+** en combinant les modèles |\n",
    "| **2. Réduire l’overfitting** | Le stacking améliore la **généralisation sur données inédites** |\n",
    "| **3. Exploiter KNN + MICE** | En fusionnant les imputations, on renforce la robustesse |\n",
    "| **4. Tirer parti des artefacts** | Pipelines, seuils, splits sont déjà sauvegardés |\n",
    "\n",
    "---\n",
    "\n",
    "## 🧭 Feuille de route pour `03_Stacking_et_predictions_finales.ipynb`\n",
    "\n",
    "1. **Empilement de 3 modèles complémentaires** :\n",
    "   - `XGBoost-KNN`  → boosting (meilleur F1 val)\n",
    "   - `RandForest-KNN` → bagging (meilleur F1 test)\n",
    "   - `LogReg-MICE`   → linéaire régularisé (baseline robuste)\n",
    "\n",
    "2. **Méta-modèle final** :\n",
    "   - `LogisticRegression` ou `LightGBM` comme méta-apprenant\n",
    "   - Validation croisée imbriquée pour éviter le data leakage\n",
    "   - Optimisation du seuil global sur la méta-probabilité\n",
    "\n",
    "3. **Prédiction et soumission** :\n",
    "   - Application sur `data_test.csv`\n",
    "   - Export de la soumission : `submission.csv`\n",
    "\n",
    "---\n",
    "\n",
    "📦 **Tous les ingrédients sont prêts**\n",
    "\n",
    "✅ Modèles entraînés (`*.joblib`)  \n",
    "✅ Seuils calibrés (`threshold_*.json`)  \n",
    "✅ Splits & imputations nettoyés  \n",
    "✅ Résultats sauvegardés (`eval_*.csv`)  \n",
    "\n",
    "**🚀 Passons au Notebook 03 et visons un F1-score > 0.93 !**"
   ]
  }
 ],
 "metadata": {
  "accelerator": "GPU",
  "colab": {
   "gpuType": "T4",
   "provenance": [],
   "toc_visible": true
  },
  "kernelspec": {
   "display_name": "sta211_env",
   "language": "python",
   "name": "sta211_env"
  },
  "language_info": {
   "codemirror_mode": {
    "name": "ipython",
    "version": 3
   },
   "file_extension": ".py",
   "mimetype": "text/x-python",
   "name": "python",
   "nbconvert_exporter": "python",
   "pygments_lexer": "ipython3",
   "version": "3.10.18"
  },
  "widgets": {
   "application/vnd.jupyter.widget-state+json": {
    "0efd2a3f0bcf4849bd81db1aec13f997": {
     "model_module": "@jupyter-widgets/base",
     "model_module_version": "1.2.0",
     "model_name": "LayoutModel",
     "state": {
      "_model_module": "@jupyter-widgets/base",
      "_model_module_version": "1.2.0",
      "_model_name": "LayoutModel",
      "_view_count": null,
      "_view_module": "@jupyter-widgets/base",
      "_view_module_version": "1.2.0",
      "_view_name": "LayoutView",
      "align_content": null,
      "align_items": null,
      "align_self": null,
      "border": null,
      "bottom": null,
      "display": null,
      "flex": null,
      "flex_flow": null,
      "grid_area": null,
      "grid_auto_columns": null,
      "grid_auto_flow": null,
      "grid_auto_rows": null,
      "grid_column": null,
      "grid_gap": null,
      "grid_row": null,
      "grid_template_areas": null,
      "grid_template_columns": null,
      "grid_template_rows": null,
      "height": null,
      "justify_content": null,
      "justify_items": null,
      "left": null,
      "margin": null,
      "max_height": null,
      "max_width": null,
      "min_height": null,
      "min_width": null,
      "object_fit": null,
      "object_position": null,
      "order": null,
      "overflow": null,
      "overflow_x": null,
      "overflow_y": null,
      "padding": null,
      "right": null,
      "top": null,
      "visibility": null,
      "width": null
     }
    },
    "4f96544a57144db19909d927a11c5287": {
     "model_module": "@jupyter-widgets/output",
     "model_module_version": "1.0.0",
     "model_name": "OutputModel",
     "state": {
      "_dom_classes": [],
      "_model_module": "@jupyter-widgets/output",
      "_model_module_version": "1.0.0",
      "_model_name": "OutputModel",
      "_view_count": null,
      "_view_module": "@jupyter-widgets/output",
      "_view_module_version": "1.0.0",
      "_view_name": "OutputView",
      "layout": "IPY_MODEL_0efd2a3f0bcf4849bd81db1aec13f997",
      "msg_id": "",
      "outputs": []
     }
    },
    "617175e82e9543369f61387ef1672126": {
     "model_module": "@jupyter-widgets/controls",
     "model_module_version": "1.5.0",
     "model_name": "DropdownModel",
     "state": {
      "_dom_classes": [],
      "_model_module": "@jupyter-widgets/controls",
      "_model_module_version": "1.5.0",
      "_model_name": "DropdownModel",
      "_options_labels": [
       "mice_with_outliers",
       "knn_with_outliers",
       "mice_no_outliers",
       "knn_no_outliers"
      ],
      "_view_count": null,
      "_view_module": "@jupyter-widgets/controls",
      "_view_module_version": "1.5.0",
      "_view_name": "DropdownView",
      "description": "Dataset :",
      "description_tooltip": null,
      "disabled": false,
      "index": 0,
      "layout": "IPY_MODEL_e5e0b1ead0ef458da343ff32232e232d",
      "style": "IPY_MODEL_bb3a5a15330b4cf9b01b88b8f78ed7ee"
     }
    },
    "bb3a5a15330b4cf9b01b88b8f78ed7ee": {
     "model_module": "@jupyter-widgets/controls",
     "model_module_version": "1.5.0",
     "model_name": "DescriptionStyleModel",
     "state": {
      "_model_module": "@jupyter-widgets/controls",
      "_model_module_version": "1.5.0",
      "_model_name": "DescriptionStyleModel",
      "_view_count": null,
      "_view_module": "@jupyter-widgets/base",
      "_view_module_version": "1.2.0",
      "_view_name": "StyleView",
      "description_width": ""
     }
    },
    "e5e0b1ead0ef458da343ff32232e232d": {
     "model_module": "@jupyter-widgets/base",
     "model_module_version": "1.2.0",
     "model_name": "LayoutModel",
     "state": {
      "_model_module": "@jupyter-widgets/base",
      "_model_module_version": "1.2.0",
      "_model_name": "LayoutModel",
      "_view_count": null,
      "_view_module": "@jupyter-widgets/base",
      "_view_module_version": "1.2.0",
      "_view_name": "LayoutView",
      "align_content": null,
      "align_items": null,
      "align_self": null,
      "border": null,
      "bottom": null,
      "display": null,
      "flex": null,
      "flex_flow": null,
      "grid_area": null,
      "grid_auto_columns": null,
      "grid_auto_flow": null,
      "grid_auto_rows": null,
      "grid_column": null,
      "grid_gap": null,
      "grid_row": null,
      "grid_template_areas": null,
      "grid_template_columns": null,
      "grid_template_rows": null,
      "height": null,
      "justify_content": null,
      "justify_items": null,
      "left": null,
      "margin": null,
      "max_height": null,
      "max_width": null,
      "min_height": null,
      "min_width": null,
      "object_fit": null,
      "object_position": null,
      "order": null,
      "overflow": null,
      "overflow_x": null,
      "overflow_y": null,
      "padding": null,
      "right": null,
      "top": null,
      "visibility": null,
      "width": null
     }
    }
   }
  }
 },
 "nbformat": 4,
 "nbformat_minor": 5
}
