{
 "cells": [
  {
   "cell_type": "markdown",
   "id": "4e0ecac8",
   "metadata": {},
   "source": [
    "# Notebook 03 - Génération des Prédictions"
   ]
  },
  {
   "cell_type": "code",
   "execution_count": null,
   "id": "376fcb17",
   "metadata": {},
   "outputs": [],
   "source": [
    "# Imports\n",
    "import pandas as pd\n",
    "import joblib\n",
    "from modules.submission_utils import generate_submission\n",
    "from modules.data_preprocessing import clean_data\n",
    "\n",
    "# Chargement du modèle\n",
    "model = joblib.load(\"models/stacking_model.pkl\")\n",
    "\n",
    "# Chargement des données test\n",
    "df_test = pd.read_csv(\"data/data_test.csv\")\n",
    "df_test = clean_data(df_test)\n",
    "X_test = df_test.drop(columns=[\"outcome\"], errors='ignore')\n",
    "\n",
    "# Génération des prédictions\n",
    "generate_submission(model, X_test, threshold=0.5)\n"
   ]
  }
 ],
 "metadata": {},
 "nbformat": 4,
 "nbformat_minor": 5
}